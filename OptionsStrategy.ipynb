{
 "cells": [
  {
   "cell_type": "markdown",
   "id": "ec07121b-9bb9-4792-9249-57b11c238be6",
   "metadata": {},
   "source": [
    "# Load options data files\n",
    "I've downloaded the options data for the `tickers` you requested for both `call` and `put` contracts for 45-day contracts starting on `2023-01-03`. Let's walk through the `call` contract data (the `put` contract procedure is the same; we change the `jld2` file name to `Options-Put-Daily-OHLC-45d-2023.jld2`)"
   ]
  },
  {
   "cell_type": "markdown",
   "id": "0a434aa8-cb8e-43ce-8f38-a8e22ff4dd80",
   "metadata": {},
   "source": [
    "## Setup"
   ]
  },
  {
   "cell_type": "code",
   "execution_count": 1,
   "id": "39b19abd-3d21-41d9-9650-fbeae9791c89",
   "metadata": {},
   "outputs": [
    {
     "name": "stderr",
     "output_type": "stream",
     "text": [
      "\u001b[32m\u001b[1m    Updating\u001b[22m\u001b[39m git-repo `https://github.com/varnerlab/VLQuantitativeFinancePackage.jl.git`\n",
      "\u001b[32m\u001b[1m   Resolving\u001b[22m\u001b[39m package versions...\n",
      "\u001b[32m\u001b[1m  No Changes\u001b[22m\u001b[39m to `~/Documents/GitHub/CHEME5660/CHEME-5660-Project-Template-F23/Project.toml`\n",
      "\u001b[32m\u001b[1m  No Changes\u001b[22m\u001b[39m to `~/Documents/GitHub/CHEME5660/CHEME-5660-Project-Template-F23/Manifest.toml`\n",
      "\u001b[32m\u001b[1m  Activating\u001b[22m\u001b[39m project at `~/Documents/GitHub/CHEME5660/CHEME-5660-Project-Template-F23`\n",
      "\u001b[32m\u001b[1m  No Changes\u001b[22m\u001b[39m to `~/Documents/GitHub/CHEME5660/CHEME-5660-Project-Template-F23/Project.toml`\n",
      "\u001b[32m\u001b[1m  No Changes\u001b[22m\u001b[39m to `~/Documents/GitHub/CHEME5660/CHEME-5660-Project-Template-F23/Manifest.toml`\n",
      "\u001b[32m\u001b[1m    Updating\u001b[22m\u001b[39m registry at `~/.julia/registries/General.toml`\n",
      "\u001b[32m\u001b[1m    Updating\u001b[22m\u001b[39m git-repo `https://github.com/varnerlab/VLQuantitativeFinancePackage.jl.git`\n",
      "\u001b[32m\u001b[1m  No Changes\u001b[22m\u001b[39m to `~/Documents/GitHub/CHEME5660/CHEME-5660-Project-Template-F23/Project.toml`\n",
      "\u001b[32m\u001b[1m  No Changes\u001b[22m\u001b[39m to `~/Documents/GitHub/CHEME5660/CHEME-5660-Project-Template-F23/Manifest.toml`\n"
     ]
    },
    {
     "data": {
      "text/plain": [
       "log_return_matrix (generic function with 1 method)"
      ]
     },
     "execution_count": 1,
     "metadata": {},
     "output_type": "execute_result"
    }
   ],
   "source": [
    "include(\"Include.jl\")"
   ]
  },
  {
   "cell_type": "markdown",
   "id": "648ebeb4-f7da-4975-8774-7e7246f023bc",
   "metadata": {},
   "source": [
    "## Load `call` contract data\n",
    "We downloaded data for 45-day contracts starting on `2023-01-03` and running through `2023`. The date information for each contract is given in the `call_contract_dates` variable. This is a `Tuple` that holds the day the contract was sold (`index = 1`), the day the contract expires (`index = 2`), and the number of days of the contract (`index=3`):"
   ]
  },
  {
   "cell_type": "code",
   "execution_count": 2,
   "id": "5080ab6a-7def-4fcc-8d08-846fd6802b5f",
   "metadata": {},
   "outputs": [
    {
     "data": {
      "text/plain": [
       "8-element Vector{Tuple{Date, Date, Int64}}:\n",
       " (Date(\"2023-01-03\"), Date(\"2023-02-17\"), 45)\n",
       " (Date(\"2023-02-22\"), Date(\"2023-04-14\"), 51)\n",
       " (Date(\"2023-04-17\"), Date(\"2023-06-02\"), 46)\n",
       " (Date(\"2023-06-05\"), Date(\"2023-07-21\"), 46)\n",
       " (Date(\"2023-07-24\"), Date(\"2023-09-08\"), 46)\n",
       " (Date(\"2023-09-11\"), Date(\"2023-10-27\"), 46)\n",
       " (Date(\"2023-10-30\"), Date(\"2023-12-15\"), 46)\n",
       " (Date(\"2023-12-18\"), Date(\"2024-02-02\"), 46)"
      ]
     },
     "execution_count": 2,
     "metadata": {},
     "output_type": "execute_result"
    }
   ],
   "source": [
    "call_contract_dates = load(joinpath(_PATH_TO_DATA, \"Options-Call-Daily-OHLC-45d-2023.jld2\")) |> x -> x[\"dates\"]"
   ]
  },
  {
   "cell_type": "markdown",
   "id": "8837728a-d279-46a3-a7b7-6bbe3ced45f4",
   "metadata": {},
   "source": [
    "To see the price information for each `call` contract, we load the `call_contract_data` dictionary. This data structure holds the price values for each ticker and each date combination. "
   ]
  },
  {
   "cell_type": "code",
   "execution_count": 3,
   "id": "60b81fdf-a551-4272-b86b-91faf8570fc5",
   "metadata": {},
   "outputs": [
    {
     "data": {
      "text/plain": [
       "Dict{Tuple, NamedTuple} with 56 entries:\n",
       "  (\"AMD\", Date(\"2023-04-17… => (data = Dict{Float64, Union{Nothing, DataFrame}}…\n",
       "  (\"NVDA\", Date(\"2023-02-2… => (data = Dict{Float64, Union{Nothing, DataFrame}}…\n",
       "  (\"SPY\", Date(\"2023-06-05… => (data = Dict{Float64, Union{Nothing, DataFrame}}…\n",
       "  (\"AAPL\", Date(\"2023-06-0… => (data = Dict{Float64, Union{Nothing, DataFrame}}…\n",
       "  (\"NVDA\", Date(\"2023-07-2… => (data = Dict{Float64, Union{Nothing, DataFrame}}…\n",
       "  (\"AAPL\", Date(\"2023-10-3… => (data = Dict{Float64, Union{Nothing, DataFrame}}…\n",
       "  (\"SPY\", Date(\"2023-01-03… => (data = Dict{Float64, Union{Nothing, DataFrame}}…\n",
       "  (\"NVDA\", Date(\"2023-04-1… => (data = Dict{Float64, Union{Nothing, DataFrame}}…\n",
       "  (\"MSFT\", Date(\"2023-04-1… => (data = Dict{Float64, Union{Nothing, DataFrame}}…\n",
       "  (\"MSFT\", Date(\"2023-06-0… => (data = Dict{Float64, Union{Nothing, DataFrame}}…\n",
       "  (\"AMD\", Date(\"2023-02-22… => (data = Dict{Float64, Union{Nothing, DataFrame}}…\n",
       "  (\"ADBE\", Date(\"2023-07-2… => (data = Dict{Float64, Union{Nothing, DataFrame}}…\n",
       "  (\"NVDA\", Date(\"2023-06-0… => (data = Dict{Float64, Union{Nothing, DataFrame}}…\n",
       "  (\"SPY\", Date(\"2023-02-22… => (data = Dict{Float64, Union{Nothing, DataFrame}}…\n",
       "  (\"GS\", Date(\"2023-01-03\"… => (data = Dict{Float64, Union{Nothing, DataFrame}}…\n",
       "  (\"AAPL\", Date(\"2023-02-2… => (data = Dict{Float64, Union{Nothing, DataFrame}}…\n",
       "  (\"GS\", Date(\"2023-09-11\"… => (data = Dict{Float64, Union{Nothing, DataFrame}}…\n",
       "  (\"MSFT\", Date(\"2023-02-2… => (data = Dict{Float64, Union{Nothing, DataFrame}}…\n",
       "  (\"SPY\", Date(\"2023-10-30… => (data = Dict{Float64, Union{Nothing, DataFrame}}…\n",
       "  (\"AAPL\", Date(\"2023-01-0… => (data = Dict{Float64, Union{Nothing, DataFrame}}…\n",
       "  (\"QQQ\", Date(\"2023-09-11… => (data = Dict{Float64, Union{Nothing, DataFrame}}…\n",
       "  (\"GS\", Date(\"2023-06-05\"… => (data = Dict{Float64, Union{Nothing, DataFrame}}…\n",
       "  (\"GS\", Date(\"2023-04-17\"… => (data = Dict{Float64, Union{Nothing, DataFrame}}…\n",
       "  (\"AMD\", Date(\"2023-10-30… => (data = Dict{Float64, Union{Nothing, DataFrame}}…\n",
       "  (\"GS\", Date(\"2023-07-24\"… => (data = Dict{Float64, Union{Nothing, DataFrame}}…\n",
       "  ⋮                         => ⋮"
      ]
     },
     "execution_count": 3,
     "metadata": {},
     "output_type": "execute_result"
    }
   ],
   "source": [
    "call_contract_data = load(joinpath(_PATH_TO_DATA, \"Options-Call-Daily-OHLC-45d-2023.jld2\")) |> x -> x[\"dataset\"]"
   ]
  },
  {
   "cell_type": "markdown",
   "id": "6f938e91-34a2-4474-a37b-6ae89322ad3e",
   "metadata": {},
   "source": [
    "We access this information by constructing a `tuple,` with the first item being the `ticker,` the second being the `sell` data, and the third item being the expiration date.\n",
    "* For example, to look at the data for an `AMD` call sold on `2023-06-05` and expiring on `2023-07-21`, the `key` would be:"
   ]
  },
  {
   "cell_type": "code",
   "execution_count": 1,
   "id": "a2b30422-2680-4b5e-8f49-518628629723",
   "metadata": {},
   "outputs": [
    {
     "ename": "LoadError",
     "evalue": "UndefVarError: `Date` not defined",
     "output_type": "error",
     "traceback": [
      "UndefVarError: `Date` not defined",
      "",
      "Stacktrace:",
      " [1] top-level scope",
      "   @ In[1]:1"
     ]
    }
   ],
   "source": [
    "test_key = (\"MSFT\", Date(\"2023-01-03\"), Date(\"2023-02-17\"));"
   ]
  },
  {
   "cell_type": "markdown",
   "id": "c3bfc254-6010-48d0-8a25-942dad85b700",
   "metadata": {},
   "source": [
    "passing this `key` into the `call_contract_data` dictionary gives us a `dictionary` holding the `OHLC` data for several strike prices:"
   ]
  },
  {
   "cell_type": "code",
   "execution_count": 5,
   "id": "07b30610-5ab5-4cbc-8e27-70f59904c26b",
   "metadata": {},
   "outputs": [
    {
     "data": {
      "text/plain": [
       "Dict{Float64, Union{Nothing, DataFrame}} with 13 entries:\n",
       "  260.0 => \u001b[1m33×8 DataFrame\u001b[0m\u001b[0m…\n",
       "  230.0 => \u001b[1m33×8 DataFrame\u001b[0m\u001b[0m…\n",
       "  265.0 => \u001b[1m33×8 DataFrame\u001b[0m\u001b[0m…\n",
       "  210.0 => \u001b[1m29×8 DataFrame\u001b[0m\u001b[0m…\n",
       "  220.0 => \u001b[1m33×8 DataFrame\u001b[0m\u001b[0m…\n",
       "  255.0 => \u001b[1m33×8 DataFrame\u001b[0m\u001b[0m…\n",
       "  225.0 => \u001b[1m33×8 DataFrame\u001b[0m\u001b[0m…\n",
       "  245.0 => \u001b[1m33×8 DataFrame\u001b[0m\u001b[0m…\n",
       "  215.0 => \u001b[1m26×8 DataFrame\u001b[0m\u001b[0m…\n",
       "  240.0 => \u001b[1m33×8 DataFrame\u001b[0m\u001b[0m…\n",
       "  235.0 => \u001b[1m33×8 DataFrame\u001b[0m\u001b[0m…\n",
       "  250.0 => \u001b[1m33×8 DataFrame\u001b[0m\u001b[0m…\n",
       "  270.0 => \u001b[1m33×8 DataFrame\u001b[0m\u001b[0m…"
      ]
     },
     "execution_count": 5,
     "metadata": {},
     "output_type": "execute_result"
    }
   ],
   "source": [
    "MSFT = call_contract_data[test_key] |> x-> x[:data]"
   ]
  },
  {
   "cell_type": "code",
   "execution_count": 103,
   "id": "368fec8b-e259-4995-a74c-19c884d1f42e",
   "metadata": {},
   "outputs": [
    {
     "data": {
      "text/html": [
       "<div><div style = \"float: left;\"><span>DataFrameRow (8 columns)</span></div><div style = \"clear: both;\"></div></div><div class = \"data-frame\" style = \"overflow-x: scroll;\"><table class = \"data-frame\" style = \"margin-bottom: 6px;\"><thead><tr class = \"header\"><th class = \"rowLabel\" style = \"font-weight: bold; text-align: right;\">Row</th><th style = \"text-align: left;\">volume</th><th style = \"text-align: left;\">volume_weighted_average_price</th><th style = \"text-align: left;\">open</th><th style = \"text-align: left;\">close</th><th style = \"text-align: left;\">high</th><th style = \"text-align: left;\">low</th><th style = \"text-align: left;\">timestamp</th><th style = \"text-align: left;\">number_of_transactions</th></tr><tr class = \"subheader headerLastRow\"><th class = \"rowLabel\" style = \"font-weight: bold; text-align: right;\"></th><th title = \"Float64\" style = \"text-align: left;\">Float64</th><th title = \"Float64\" style = \"text-align: left;\">Float64</th><th title = \"Float64\" style = \"text-align: left;\">Float64</th><th title = \"Float64\" style = \"text-align: left;\">Float64</th><th title = \"Float64\" style = \"text-align: left;\">Float64</th><th title = \"Float64\" style = \"text-align: left;\">Float64</th><th title = \"DateTime\" style = \"text-align: left;\">DateTime</th><th title = \"Int64\" style = \"text-align: left;\">Int64</th></tr></thead><tbody><tr><td class = \"rowLabel\" style = \"font-weight: bold; text-align: right;\">1</td><td style = \"text-align: right;\">618.0</td><td style = \"text-align: right;\">4.7143</td><td style = \"text-align: right;\">5.32</td><td style = \"text-align: right;\">4.1</td><td style = \"text-align: right;\">6.1</td><td style = \"text-align: right;\">3.85</td><td style = \"text-align: left;\">2023-01-03T05:00:00</td><td style = \"text-align: right;\">121</td></tr></tbody></table></div>"
      ],
      "text/latex": [
       "\\begin{tabular}{r|cccccccc}\n",
       "\t& volume & volume\\_weighted\\_average\\_price & open & close & high & low & timestamp & \\\\\n",
       "\t\\hline\n",
       "\t& Float64 & Float64 & Float64 & Float64 & Float64 & Float64 & DateTime & \\\\\n",
       "\t\\hline\n",
       "\t1 & 618.0 & 4.7143 & 5.32 & 4.1 & 6.1 & 3.85 & 2023-01-03T05:00:00 & $\\dots$ \\\\\n",
       "\\end{tabular}\n"
      ],
      "text/plain": [
       "\u001b[1mDataFrameRow\u001b[0m\n",
       "\u001b[1m Row \u001b[0m│\u001b[1m volume  \u001b[0m\u001b[1m volume_weighted_average_price \u001b[0m\u001b[1m open    \u001b[0m\u001b[1m close   \u001b[0m\u001b[1m high    \u001b[0m\u001b[1m low \u001b[0m ⋯\n",
       "     │\u001b[90m Float64 \u001b[0m\u001b[90m Float64                       \u001b[0m\u001b[90m Float64 \u001b[0m\u001b[90m Float64 \u001b[0m\u001b[90m Float64 \u001b[0m\u001b[90m Floa\u001b[0m ⋯\n",
       "─────┼──────────────────────────────────────────────────────────────────────────\n",
       "   1 │   618.0                         4.7143     5.32      4.1      6.1     3 ⋯\n",
       "\u001b[36m                                                               3 columns omitted\u001b[0m"
      ]
     },
     "execution_count": 103,
     "metadata": {},
     "output_type": "execute_result"
    }
   ],
   "source": [
    "MSFT[260.0][1,:]"
   ]
  },
  {
   "cell_type": "code",
   "execution_count": 105,
   "id": "2893cc1d-8064-478f-80bb-953353db5307",
   "metadata": {},
   "outputs": [
    {
     "data": {
      "text/plain": [
       "471.42999999999995"
      ]
     },
     "execution_count": 105,
     "metadata": {},
     "output_type": "execute_result"
    }
   ],
   "source": [
    "MSFT[260.0][1,:2]*100"
   ]
  },
  {
   "cell_type": "code",
   "execution_count": 8,
   "id": "6dbfdd9e-e33d-4c22-8439-b4f68813ecd7",
   "metadata": {},
   "outputs": [],
   "source": [
    "original_dataset = load(joinpath(_PATH_TO_DATA, \n",
    "        \"SP500-Daily-OHLC-1-3-2018-to-12-01-2023.jld2\")) |> x-> x[\"dataset\"];"
   ]
  },
  {
   "cell_type": "code",
   "execution_count": 35,
   "id": "f9cf40e9-74f0-4b78-979b-da1a65116c0c",
   "metadata": {
    "jupyter": {
     "source_hidden": true
    }
   },
   "outputs": [],
   "source": [
    "maximum_number_trading_days = original_dataset[\"MSFT\"] |> nrow;\n",
    "\n",
    "dataset = Dict{String,DataFrame}();\n",
    "for (ticker,data) ∈ original_dataset\n",
    "    if (nrow(data) == maximum_number_trading_days)\n",
    "        dataset[ticker] = data;\n",
    "    end\n",
    "end\n",
    "dataset;\n",
    "\n",
    "all_tickers = keys(dataset) |> collect |> sort;\n",
    "K = length(all_tickers);\n",
    "\n",
    "startdate = Date(2023,01,03);\n",
    "MSFT_dataset = dataset[\"MSFT\"];\n",
    "MSFT_df = filter(:timestamp => x-> x >= startdate, MSFT_dataset);"
   ]
  },
  {
   "cell_type": "code",
   "execution_count": 36,
   "id": "ebb3c651-a7f6-4a1a-81e7-a5f45dc72890",
   "metadata": {},
   "outputs": [
    {
     "data": {
      "text/html": [
       "<div><div style = \"float: left;\"><span>1×8 DataFrame</span></div><div style = \"clear: both;\"></div></div><div class = \"data-frame\" style = \"overflow-x: scroll;\"><table class = \"data-frame\" style = \"margin-bottom: 6px;\"><thead><tr class = \"header\"><th class = \"rowNumber\" style = \"font-weight: bold; text-align: right;\">Row</th><th style = \"text-align: left;\">volume</th><th style = \"text-align: left;\">volume_weighted_average_price</th><th style = \"text-align: left;\">open</th><th style = \"text-align: left;\">close</th><th style = \"text-align: left;\">high</th><th style = \"text-align: left;\">low</th><th style = \"text-align: left;\">timestamp</th><th style = \"text-align: left;\">number_of_transactions</th></tr><tr class = \"subheader headerLastRow\"><th class = \"rowNumber\" style = \"font-weight: bold; text-align: right;\"></th><th title = \"Float64\" style = \"text-align: left;\">Float64</th><th title = \"Float64\" style = \"text-align: left;\">Float64</th><th title = \"Float64\" style = \"text-align: left;\">Float64</th><th title = \"Float64\" style = \"text-align: left;\">Float64</th><th title = \"Float64\" style = \"text-align: left;\">Float64</th><th title = \"Float64\" style = \"text-align: left;\">Float64</th><th title = \"DateTime\" style = \"text-align: left;\">DateTime</th><th title = \"Int64\" style = \"text-align: left;\">Int64</th></tr></thead><tbody><tr><td class = \"rowNumber\" style = \"font-weight: bold; text-align: right;\">1</td><td style = \"text-align: right;\">2.574e7</td><td style = \"text-align: right;\">239.839</td><td style = \"text-align: right;\">243.08</td><td style = \"text-align: right;\">239.58</td><td style = \"text-align: right;\">245.75</td><td style = \"text-align: right;\">237.4</td><td style = \"text-align: left;\">2023-01-03T05:00:00</td><td style = \"text-align: right;\">314904</td></tr></tbody></table></div>"
      ],
      "text/latex": [
       "\\begin{tabular}{r|cccccccc}\n",
       "\t& volume & volume\\_weighted\\_average\\_price & open & close & high & low & timestamp & \\\\\n",
       "\t\\hline\n",
       "\t& Float64 & Float64 & Float64 & Float64 & Float64 & Float64 & DateTime & \\\\\n",
       "\t\\hline\n",
       "\t1 & 2.574e7 & 239.839 & 243.08 & 239.58 & 245.75 & 237.4 & 2023-01-03T05:00:00 & $\\dots$ \\\\\n",
       "\\end{tabular}\n"
      ],
      "text/plain": [
       "\u001b[1m1×8 DataFrame\u001b[0m\n",
       "\u001b[1m Row \u001b[0m│\u001b[1m volume  \u001b[0m\u001b[1m volume_weighted_average_price \u001b[0m\u001b[1m open    \u001b[0m\u001b[1m close   \u001b[0m\u001b[1m high    \u001b[0m\u001b[1m low \u001b[0m ⋯\n",
       "     │\u001b[90m Float64 \u001b[0m\u001b[90m Float64                       \u001b[0m\u001b[90m Float64 \u001b[0m\u001b[90m Float64 \u001b[0m\u001b[90m Float64 \u001b[0m\u001b[90m Floa\u001b[0m ⋯\n",
       "─────┼──────────────────────────────────────────────────────────────────────────\n",
       "   1 │ 2.574e7                        239.839   243.08   239.58   245.75    23 ⋯\n",
       "\u001b[36m                                                               3 columns omitted\u001b[0m"
      ]
     },
     "execution_count": 36,
     "metadata": {},
     "output_type": "execute_result"
    }
   ],
   "source": [
    "MSFT_df[MSFT_df.timestamp .== DateTime(2023, 1, 3, 5, 0, 0), :]"
   ]
  },
  {
   "cell_type": "code",
   "execution_count": 37,
   "id": "850ed3ee-1422-402d-9eed-a8c7c2fb8f1e",
   "metadata": {},
   "outputs": [
    {
     "data": {
      "text/html": [
       "<div><div style = \"float: left;\"><span>1×8 DataFrame</span></div><div style = \"clear: both;\"></div></div><div class = \"data-frame\" style = \"overflow-x: scroll;\"><table class = \"data-frame\" style = \"margin-bottom: 6px;\"><thead><tr class = \"header\"><th class = \"rowNumber\" style = \"font-weight: bold; text-align: right;\">Row</th><th style = \"text-align: left;\">volume</th><th style = \"text-align: left;\">volume_weighted_average_price</th><th style = \"text-align: left;\">open</th><th style = \"text-align: left;\">close</th><th style = \"text-align: left;\">high</th><th style = \"text-align: left;\">low</th><th style = \"text-align: left;\">timestamp</th><th style = \"text-align: left;\">number_of_transactions</th></tr><tr class = \"subheader headerLastRow\"><th class = \"rowNumber\" style = \"font-weight: bold; text-align: right;\"></th><th title = \"Float64\" style = \"text-align: left;\">Float64</th><th title = \"Float64\" style = \"text-align: left;\">Float64</th><th title = \"Float64\" style = \"text-align: left;\">Float64</th><th title = \"Float64\" style = \"text-align: left;\">Float64</th><th title = \"Float64\" style = \"text-align: left;\">Float64</th><th title = \"Float64\" style = \"text-align: left;\">Float64</th><th title = \"DateTime\" style = \"text-align: left;\">DateTime</th><th title = \"Int64\" style = \"text-align: left;\">Int64</th></tr></thead><tbody><tr><td class = \"rowNumber\" style = \"font-weight: bold; text-align: right;\">1</td><td style = \"text-align: right;\">2.99982e7</td><td style = \"text-align: right;\">257.685</td><td style = \"text-align: right;\">259.39</td><td style = \"text-align: right;\">258.06</td><td style = \"text-align: right;\">260.09</td><td style = \"text-align: right;\">256.0</td><td style = \"text-align: left;\">2023-02-17T05:00:00</td><td style = \"text-align: right;\">392723</td></tr></tbody></table></div>"
      ],
      "text/latex": [
       "\\begin{tabular}{r|cccccccc}\n",
       "\t& volume & volume\\_weighted\\_average\\_price & open & close & high & low & timestamp & \\\\\n",
       "\t\\hline\n",
       "\t& Float64 & Float64 & Float64 & Float64 & Float64 & Float64 & DateTime & \\\\\n",
       "\t\\hline\n",
       "\t1 & 2.99982e7 & 257.685 & 259.39 & 258.06 & 260.09 & 256.0 & 2023-02-17T05:00:00 & $\\dots$ \\\\\n",
       "\\end{tabular}\n"
      ],
      "text/plain": [
       "\u001b[1m1×8 DataFrame\u001b[0m\n",
       "\u001b[1m Row \u001b[0m│\u001b[1m volume    \u001b[0m\u001b[1m volume_weighted_average_price \u001b[0m\u001b[1m open    \u001b[0m\u001b[1m close   \u001b[0m\u001b[1m high    \u001b[0m\u001b[1m lo\u001b[0m ⋯\n",
       "     │\u001b[90m Float64   \u001b[0m\u001b[90m Float64                       \u001b[0m\u001b[90m Float64 \u001b[0m\u001b[90m Float64 \u001b[0m\u001b[90m Float64 \u001b[0m\u001b[90m Fl\u001b[0m ⋯\n",
       "─────┼──────────────────────────────────────────────────────────────────────────\n",
       "   1 │ 2.99982e7                        257.685   259.39   258.06   260.09     ⋯\n",
       "\u001b[36m                                                               3 columns omitted\u001b[0m"
      ]
     },
     "execution_count": 37,
     "metadata": {},
     "output_type": "execute_result"
    }
   ],
   "source": [
    "MSFT_df[MSFT_df.timestamp .== DateTime(2023, 2, 17, 5, 0, 0), :]"
   ]
  },
  {
   "cell_type": "code",
   "execution_count": 111,
   "id": "1bf9d97e-4577-43dc-8b33-db2768a58899",
   "metadata": {
    "scrolled": true
   },
   "outputs": [
    {
     "data": {
      "text/plain": [
       "option_value (generic function with 1 method)"
      ]
     },
     "execution_count": 111,
     "metadata": {},
     "output_type": "execute_result"
    }
   ],
   "source": [
    "function option_value(market_df::DataFrame, options_df::DataFrame, strike_price::Float64)\n",
    "    last_day = maximum(options_df[:, :timestamp])\n",
    "    last_day_market_info = market_df[market_df[:, :timestamp] .== last_day, :]\n",
    "\n",
    "    last_day_market_price = last_day_market_info[1, :close]\n",
    "    if last_day_market_price < strike_price\n",
    "        # If the option expires worthless return 1.0, otherwise return 0.0\n",
    "        return 1.0\n",
    "    else\n",
    "        return 0.0\n",
    "    end\n",
    "end\n"
   ]
  },
  {
   "cell_type": "code",
   "execution_count": 112,
   "id": "1f12b38c-acdd-4deb-b757-57887d6aa3e5",
   "metadata": {},
   "outputs": [
    {
     "name": "stdout",
     "output_type": "stream",
     "text": [
      "For a MSFT short call with a strike price 260.0: 1.0\n",
      "For a MSFT short call with a strike price 230.0: 0.0\n",
      "For a MSFT short call with a strike price 265.0: 1.0\n",
      "For a MSFT short call with a strike price 210.0: 0.0\n",
      "For a MSFT short call with a strike price 220.0: 0.0\n",
      "For a MSFT short call with a strike price 255.0: 0.0\n",
      "For a MSFT short call with a strike price 225.0: 0.0\n",
      "For a MSFT short call with a strike price 245.0: 0.0\n",
      "For a MSFT short call with a strike price 215.0: 0.0\n",
      "For a MSFT short call with a strike price 240.0: 0.0\n",
      "For a MSFT short call with a strike price 235.0: 0.0\n",
      "For a MSFT short call with a strike price 250.0: 0.0\n",
      "For a MSFT short call with a strike price 270.0: 1.0\n"
     ]
    }
   ],
   "source": [
    "for (strike_price, options_df) in MSFT\n",
    "    result = option_value(MSFT_df, options_df, strike_price)\n",
    "        println(\"For a MSFT short call with a strike price $strike_price: $result\")\n",
    "end"
   ]
  },
  {
   "cell_type": "code",
   "execution_count": 110,
   "id": "ffee3880-c886-41df-b717-864cbf6ea335",
   "metadata": {},
   "outputs": [
    {
     "name": "stdout",
     "output_type": "stream",
     "text": [
      "For a MSFT short call with a strike price 260.0: The premium will be 471.43\n",
      "For a MSFT short call with a strike price 230.0: The premium will be 1959.0\n",
      "For a MSFT short call with a strike price 265.0: The premium will be 308.08\n",
      "For a MSFT short call with a strike price 210.0: The premium will be 2391.28\n",
      "For a MSFT short call with a strike price 220.0: The premium will be 2430.0\n",
      "For a MSFT short call with a strike price 255.0: The premium will be 671.13\n",
      "For a MSFT short call with a strike price 225.0: The premium will be 2057.0\n",
      "For a MSFT short call with a strike price 245.0: The premium will be 1100.54\n",
      "For a MSFT short call with a strike price 215.0: The premium will be 2821.0\n",
      "For a MSFT short call with a strike price 240.0: The premium will be 1200.45\n",
      "For a MSFT short call with a strike price 235.0: The premium will be 1472.3\n",
      "For a MSFT short call with a strike price 250.0: The premium will be 782.83\n",
      "For a MSFT short call with a strike price 270.0: The premium will be 262.69\n"
     ]
    }
   ],
   "source": [
    "for (strike_price, options_df) in MSFT\n",
    "    premium = round(options_df[1,:2]*100, digits=2)\n",
    "        println(\"For a MSFT short call with a strike price $strike_price: The premium will be $premium\")\n",
    "end"
   ]
  },
  {
   "cell_type": "code",
   "execution_count": 113,
   "id": "8401d643-85ac-48dd-be65-a46187127cf2",
   "metadata": {},
   "outputs": [
    {
     "data": {
      "text/plain": [
       "Dict{Tuple, NamedTuple} with 56 entries:\n",
       "  (\"AMD\", Date(\"2023-04-17… => (data = Dict{Float64, Union{Nothing, DataFrame}}…\n",
       "  (\"NVDA\", Date(\"2023-02-2… => (data = Dict{Float64, Union{Nothing, DataFrame}}…\n",
       "  (\"SPY\", Date(\"2023-06-05… => (data = Dict{Float64, Union{Nothing, DataFrame}}…\n",
       "  (\"AAPL\", Date(\"2023-06-0… => (data = Dict{Float64, Union{Nothing, DataFrame}}…\n",
       "  (\"NVDA\", Date(\"2023-07-2… => (data = Dict{Float64, Union{Nothing, DataFrame}}…\n",
       "  (\"AAPL\", Date(\"2023-10-3… => (data = Dict{Float64, Union{Nothing, DataFrame}}…\n",
       "  (\"SPY\", Date(\"2023-01-03… => (data = Dict{Float64, Union{Nothing, DataFrame}}…\n",
       "  (\"NVDA\", Date(\"2023-04-1… => (data = Dict{Float64, Union{Nothing, DataFrame}}…\n",
       "  (\"MSFT\", Date(\"2023-04-1… => (data = Dict{Float64, Union{Nothing, DataFrame}}…\n",
       "  (\"MSFT\", Date(\"2023-06-0… => (data = Dict{Float64, Union{Nothing, DataFrame}}…\n",
       "  (\"AMD\", Date(\"2023-02-22… => (data = Dict{Float64, Union{Nothing, DataFrame}}…\n",
       "  (\"ADBE\", Date(\"2023-07-2… => (data = Dict{Float64, Union{Nothing, DataFrame}}…\n",
       "  (\"NVDA\", Date(\"2023-06-0… => (data = Dict{Float64, Union{Nothing, DataFrame}}…\n",
       "  (\"SPY\", Date(\"2023-02-22… => (data = Dict{Float64, Union{Nothing, DataFrame}}…\n",
       "  (\"GS\", Date(\"2023-01-03\"… => (data = Dict{Float64, Union{Nothing, DataFrame}}…\n",
       "  (\"AAPL\", Date(\"2023-02-2… => (data = Dict{Float64, Union{Nothing, DataFrame}}…\n",
       "  (\"GS\", Date(\"2023-09-11\"… => (data = Dict{Float64, Union{Nothing, DataFrame}}…\n",
       "  (\"MSFT\", Date(\"2023-02-2… => (data = Dict{Float64, Union{Nothing, DataFrame}}…\n",
       "  (\"SPY\", Date(\"2023-10-30… => (data = Dict{Float64, Union{Nothing, DataFrame}}…\n",
       "  (\"AAPL\", Date(\"2023-01-0… => (data = Dict{Float64, Union{Nothing, DataFrame}}…\n",
       "  (\"QQQ\", Date(\"2023-09-11… => (data = Dict{Float64, Union{Nothing, DataFrame}}…\n",
       "  (\"GS\", Date(\"2023-06-05\"… => (data = Dict{Float64, Union{Nothing, DataFrame}}…\n",
       "  (\"GS\", Date(\"2023-04-17\"… => (data = Dict{Float64, Union{Nothing, DataFrame}}…\n",
       "  (\"AMD\", Date(\"2023-10-30… => (data = Dict{Float64, Union{Nothing, DataFrame}}…\n",
       "  (\"GS\", Date(\"2023-07-24\"… => (data = Dict{Float64, Union{Nothing, DataFrame}}…\n",
       "  ⋮                         => ⋮"
      ]
     },
     "execution_count": 113,
     "metadata": {},
     "output_type": "execute_result"
    }
   ],
   "source": [
    "call_contract_data"
   ]
  },
  {
   "cell_type": "code",
   "execution_count": 116,
   "id": "aea9536f-844b-41d8-9362-4d0261ed45a4",
   "metadata": {},
   "outputs": [],
   "source": [
    "tech_portfolio = [\"AMD\", \"AAPL\", \"MSFT\", \"NVDA\", \"ADBE\", \"SPY\"]\n",
    "tech_contracts = Dict()\n",
    "\n",
    "for (key, value) in call_contract_data\n",
    "    ticker, date = key\n",
    "    if ticker in tech_portfolio\n",
    "        tech_contracts[key] = value\n",
    "    end\n",
    "end"
   ]
  },
  {
   "cell_type": "code",
   "execution_count": 117,
   "id": "9592b612-33c1-44f5-a894-898a43a234d1",
   "metadata": {},
   "outputs": [
    {
     "data": {
      "text/plain": [
       "Dict{Any, Any} with 42 entries:\n",
       "  (\"ADBE\", Date(\"2023-02-2… => (data = Dict{Float64, Union{Nothing, DataFrame}}…\n",
       "  (\"ADBE\", Date(\"2023-10-3… => (data = Dict{Float64, Union{Nothing, DataFrame}}…\n",
       "  (\"AMD\", Date(\"2023-04-17… => (data = Dict{Float64, Union{Nothing, DataFrame}}…\n",
       "  (\"NVDA\", Date(\"2023-02-2… => (data = Dict{Float64, Union{Nothing, DataFrame}}…\n",
       "  (\"SPY\", Date(\"2023-06-05… => (data = Dict{Float64, Union{Nothing, DataFrame}}…\n",
       "  (\"AAPL\", Date(\"2023-06-0… => (data = Dict{Float64, Union{Nothing, DataFrame}}…\n",
       "  (\"NVDA\", Date(\"2023-07-2… => (data = Dict{Float64, Union{Nothing, DataFrame}}…\n",
       "  (\"AAPL\", Date(\"2023-10-3… => (data = Dict{Float64, Union{Nothing, DataFrame}}…\n",
       "  (\"SPY\", Date(\"2023-09-11… => (data = Dict{Float64, Union{Nothing, DataFrame}}…\n",
       "  (\"ADBE\", Date(\"2023-06-0… => (data = Dict{Float64, Union{Nothing, DataFrame}}…\n",
       "  (\"SPY\", Date(\"2023-01-03… => (data = Dict{Float64, Union{Nothing, DataFrame}}…\n",
       "  (\"NVDA\", Date(\"2023-04-1… => (data = Dict{Float64, Union{Nothing, DataFrame}}…\n",
       "  (\"ADBE\", Date(\"2023-09-1… => (data = Dict{Float64, Union{Nothing, DataFrame}}…\n",
       "  (\"MSFT\", Date(\"2023-01-0… => (data = Dict{Float64, Union{Nothing, DataFrame}}…\n",
       "  (\"MSFT\", Date(\"2023-04-1… => (data = Dict{Float64, Union{Nothing, DataFrame}}…\n",
       "  (\"MSFT\", Date(\"2023-06-0… => (data = Dict{Float64, Union{Nothing, DataFrame}}…\n",
       "  (\"AMD\", Date(\"2023-02-22… => (data = Dict{Float64, Union{Nothing, DataFrame}}…\n",
       "  (\"ADBE\", Date(\"2023-07-2… => (data = Dict{Float64, Union{Nothing, DataFrame}}…\n",
       "  (\"NVDA\", Date(\"2023-06-0… => (data = Dict{Float64, Union{Nothing, DataFrame}}…\n",
       "  (\"SPY\", Date(\"2023-02-22… => (data = Dict{Float64, Union{Nothing, DataFrame}}…\n",
       "  (\"MSFT\", Date(\"2023-07-2… => (data = Dict{Float64, Union{Nothing, DataFrame}}…\n",
       "  (\"SPY\", Date(\"2023-04-17… => (data = Dict{Float64, Union{Nothing, DataFrame}}…\n",
       "  (\"MSFT\", Date(\"2023-10-3… => (data = Dict{Float64, Union{Nothing, DataFrame}}…\n",
       "  (\"AMD\", Date(\"2023-09-11… => (data = Dict{Float64, Union{Nothing, DataFrame}}…\n",
       "  (\"AMD\", Date(\"2023-06-05… => (data = Dict{Float64, Union{Nothing, DataFrame}}…\n",
       "  ⋮                         => ⋮"
      ]
     },
     "execution_count": 117,
     "metadata": {},
     "output_type": "execute_result"
    }
   ],
   "source": [
    "tech_contracts"
   ]
  },
  {
   "cell_type": "code",
   "execution_count": 133,
   "id": "99b97756-980b-4d84-9872-2527741950d5",
   "metadata": {},
   "outputs": [
    {
     "data": {
      "text/plain": [
       "3-element Vector{Tuple{Date, Date, Int64}}:\n",
       " (Date(\"2023-01-03\"), Date(\"2023-02-17\"), 45)\n",
       " (Date(\"2023-02-22\"), Date(\"2023-04-14\"), 51)\n",
       " (Date(\"2023-04-17\"), Date(\"2023-06-02\"), 46)"
      ]
     },
     "execution_count": 133,
     "metadata": {},
     "output_type": "execute_result"
    }
   ],
   "source": [
    "call_contract_dates[1:3]"
   ]
  },
  {
   "cell_type": "code",
   "execution_count": null,
   "id": "275543a2-1713-40ba-9f8e-3febbc453668",
   "metadata": {},
   "outputs": [],
   "source": []
  }
 ],
 "metadata": {
  "kernelspec": {
   "display_name": "Julia 1.9.2",
   "language": "julia",
   "name": "julia-1.9"
  },
  "language_info": {
   "file_extension": ".jl",
   "mimetype": "application/julia",
   "name": "julia",
   "version": "1.9.2"
  }
 },
 "nbformat": 4,
 "nbformat_minor": 5
}
