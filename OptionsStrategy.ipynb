{
 "cells": [
  {
   "cell_type": "markdown",
   "id": "ec07121b-9bb9-4792-9249-57b11c238be6",
   "metadata": {},
   "source": [
    "# Load options data files\n",
    "I've downloaded the options data for the `tickers` you requested for both `call` and `put` contracts for 45-day contracts starting on `2023-01-03`. Let's walk through the `call` contract data (the `put` contract procedure is the same; we change the `jld2` file name to `Options-Put-Daily-OHLC-45d-2023.jld2`)"
   ]
  },
  {
   "cell_type": "markdown",
   "id": "0a434aa8-cb8e-43ce-8f38-a8e22ff4dd80",
   "metadata": {},
   "source": [
    "## Setup"
   ]
  },
  {
   "cell_type": "code",
   "execution_count": 1,
   "id": "39b19abd-3d21-41d9-9650-fbeae9791c89",
   "metadata": {},
   "outputs": [
    {
     "name": "stderr",
     "output_type": "stream",
     "text": [
      "\u001b[32m\u001b[1m    Updating\u001b[22m\u001b[39m git-repo `https://github.com/varnerlab/VLQuantitativeFinancePackage.jl.git`\n",
      "\u001b[32m\u001b[1m   Resolving\u001b[22m\u001b[39m package versions...\n",
      "\u001b[32m\u001b[1m  No Changes\u001b[22m\u001b[39m to `~/Documents/GitHub/CHEME5660/CHEME-5660-Project-Template-F23/Project.toml`\n",
      "\u001b[32m\u001b[1m  No Changes\u001b[22m\u001b[39m to `~/Documents/GitHub/CHEME5660/CHEME-5660-Project-Template-F23/Manifest.toml`\n",
      "\u001b[32m\u001b[1m  Activating\u001b[22m\u001b[39m project at `~/Documents/GitHub/CHEME5660/CHEME-5660-Project-Template-F23`\n",
      "\u001b[32m\u001b[1m  No Changes\u001b[22m\u001b[39m to `~/Documents/GitHub/CHEME5660/CHEME-5660-Project-Template-F23/Project.toml`\n",
      "\u001b[32m\u001b[1m  No Changes\u001b[22m\u001b[39m to `~/Documents/GitHub/CHEME5660/CHEME-5660-Project-Template-F23/Manifest.toml`\n",
      "\u001b[32m\u001b[1m    Updating\u001b[22m\u001b[39m registry at `~/.julia/registries/General.toml`\n",
      "\u001b[32m\u001b[1m    Updating\u001b[22m\u001b[39m git-repo `https://github.com/varnerlab/VLQuantitativeFinancePackage.jl.git`\n",
      "\u001b[32m\u001b[1m  No Changes\u001b[22m\u001b[39m to `~/Documents/GitHub/CHEME5660/CHEME-5660-Project-Template-F23/Project.toml`\n",
      "\u001b[32m\u001b[1m  No Changes\u001b[22m\u001b[39m to `~/Documents/GitHub/CHEME5660/CHEME-5660-Project-Template-F23/Manifest.toml`\n"
     ]
    },
    {
     "data": {
      "text/plain": [
       "log_return_matrix (generic function with 1 method)"
      ]
     },
     "execution_count": 1,
     "metadata": {},
     "output_type": "execute_result"
    }
   ],
   "source": [
    "include(\"Include.jl\")"
   ]
  },
  {
   "cell_type": "markdown",
   "id": "648ebeb4-f7da-4975-8774-7e7246f023bc",
   "metadata": {},
   "source": [
    "## Load `call` contract data\n",
    "We downloaded data for 45-day contracts starting on `2023-01-03` and running through `2023`. The date information for each contract is given in the `call_contract_dates` variable. This is a `Tuple` that holds the day the contract was sold (`index = 1`), the day the contract expires (`index = 2`), and the number of days of the contract (`index=3`):"
   ]
  },
  {
   "cell_type": "code",
   "execution_count": 2,
   "id": "5080ab6a-7def-4fcc-8d08-846fd6802b5f",
   "metadata": {},
   "outputs": [
    {
     "data": {
      "text/plain": [
       "8-element Vector{Tuple{Date, Date, Int64}}:\n",
       " (Date(\"2023-01-03\"), Date(\"2023-02-17\"), 45)\n",
       " (Date(\"2023-02-22\"), Date(\"2023-04-14\"), 51)\n",
       " (Date(\"2023-04-17\"), Date(\"2023-06-02\"), 46)\n",
       " (Date(\"2023-06-05\"), Date(\"2023-07-21\"), 46)\n",
       " (Date(\"2023-07-24\"), Date(\"2023-09-08\"), 46)\n",
       " (Date(\"2023-09-11\"), Date(\"2023-10-27\"), 46)\n",
       " (Date(\"2023-10-30\"), Date(\"2023-12-15\"), 46)\n",
       " (Date(\"2023-12-18\"), Date(\"2024-02-02\"), 46)"
      ]
     },
     "execution_count": 2,
     "metadata": {},
     "output_type": "execute_result"
    }
   ],
   "source": [
    "call_contract_dates = load(joinpath(_PATH_TO_DATA, \"Options-Call-Daily-OHLC-45d-2023.jld2\")) |> x -> x[\"dates\"]"
   ]
  },
  {
   "cell_type": "markdown",
   "id": "8837728a-d279-46a3-a7b7-6bbe3ced45f4",
   "metadata": {},
   "source": [
    "To see the price information for each `call` contract, we load the `call_contract_data` dictionary. This data structure holds the price values for each ticker and each date combination. "
   ]
  },
  {
   "cell_type": "code",
   "execution_count": 3,
   "id": "60b81fdf-a551-4272-b86b-91faf8570fc5",
   "metadata": {},
   "outputs": [
    {
     "data": {
      "text/plain": [
       "Dict{Tuple, NamedTuple} with 56 entries:\n",
       "  (\"AMD\", Date(\"2023-04-17… => (data = Dict{Float64, Union{Nothing, DataFrame}}…\n",
       "  (\"NVDA\", Date(\"2023-02-2… => (data = Dict{Float64, Union{Nothing, DataFrame}}…\n",
       "  (\"SPY\", Date(\"2023-06-05… => (data = Dict{Float64, Union{Nothing, DataFrame}}…\n",
       "  (\"AAPL\", Date(\"2023-06-0… => (data = Dict{Float64, Union{Nothing, DataFrame}}…\n",
       "  (\"NVDA\", Date(\"2023-07-2… => (data = Dict{Float64, Union{Nothing, DataFrame}}…\n",
       "  (\"AAPL\", Date(\"2023-10-3… => (data = Dict{Float64, Union{Nothing, DataFrame}}…\n",
       "  (\"SPY\", Date(\"2023-01-03… => (data = Dict{Float64, Union{Nothing, DataFrame}}…\n",
       "  (\"NVDA\", Date(\"2023-04-1… => (data = Dict{Float64, Union{Nothing, DataFrame}}…\n",
       "  (\"MSFT\", Date(\"2023-04-1… => (data = Dict{Float64, Union{Nothing, DataFrame}}…\n",
       "  (\"MSFT\", Date(\"2023-06-0… => (data = Dict{Float64, Union{Nothing, DataFrame}}…\n",
       "  (\"AMD\", Date(\"2023-02-22… => (data = Dict{Float64, Union{Nothing, DataFrame}}…\n",
       "  (\"ADBE\", Date(\"2023-07-2… => (data = Dict{Float64, Union{Nothing, DataFrame}}…\n",
       "  (\"NVDA\", Date(\"2023-06-0… => (data = Dict{Float64, Union{Nothing, DataFrame}}…\n",
       "  (\"SPY\", Date(\"2023-02-22… => (data = Dict{Float64, Union{Nothing, DataFrame}}…\n",
       "  (\"GS\", Date(\"2023-01-03\"… => (data = Dict{Float64, Union{Nothing, DataFrame}}…\n",
       "  (\"AAPL\", Date(\"2023-02-2… => (data = Dict{Float64, Union{Nothing, DataFrame}}…\n",
       "  (\"GS\", Date(\"2023-09-11\"… => (data = Dict{Float64, Union{Nothing, DataFrame}}…\n",
       "  (\"MSFT\", Date(\"2023-02-2… => (data = Dict{Float64, Union{Nothing, DataFrame}}…\n",
       "  (\"SPY\", Date(\"2023-10-30… => (data = Dict{Float64, Union{Nothing, DataFrame}}…\n",
       "  (\"AAPL\", Date(\"2023-01-0… => (data = Dict{Float64, Union{Nothing, DataFrame}}…\n",
       "  (\"QQQ\", Date(\"2023-09-11… => (data = Dict{Float64, Union{Nothing, DataFrame}}…\n",
       "  (\"GS\", Date(\"2023-06-05\"… => (data = Dict{Float64, Union{Nothing, DataFrame}}…\n",
       "  (\"GS\", Date(\"2023-04-17\"… => (data = Dict{Float64, Union{Nothing, DataFrame}}…\n",
       "  (\"AMD\", Date(\"2023-10-30… => (data = Dict{Float64, Union{Nothing, DataFrame}}…\n",
       "  (\"GS\", Date(\"2023-07-24\"… => (data = Dict{Float64, Union{Nothing, DataFrame}}…\n",
       "  ⋮                         => ⋮"
      ]
     },
     "execution_count": 3,
     "metadata": {},
     "output_type": "execute_result"
    }
   ],
   "source": [
    "call_contract_data = load(joinpath(_PATH_TO_DATA, \"Options-Call-Daily-OHLC-45d-2023.jld2\")) |> x -> x[\"dataset\"]"
   ]
  },
  {
   "cell_type": "markdown",
   "id": "6f938e91-34a2-4474-a37b-6ae89322ad3e",
   "metadata": {},
   "source": [
    "We access this information by constructing a `tuple,` with the first item being the `ticker,` the second being the `sell` data, and the third item being the expiration date.\n",
    "* For example, to look at the data for an `AMD` call sold on `2023-06-05` and expiring on `2023-07-21`, the `key` would be:"
   ]
  },
  {
   "cell_type": "code",
   "execution_count": 4,
   "id": "a2b30422-2680-4b5e-8f49-518628629723",
   "metadata": {},
   "outputs": [],
   "source": [
    "test_key = (\"MSFT\", Date(\"2023-01-03\"), Date(\"2023-02-17\"));"
   ]
  },
  {
   "cell_type": "markdown",
   "id": "c3bfc254-6010-48d0-8a25-942dad85b700",
   "metadata": {},
   "source": [
    "passing this `key` into the `call_contract_data` dictionary gives us a `dictionary` holding the `OHLC` data for several strike prices:"
   ]
  },
  {
   "cell_type": "code",
   "execution_count": 5,
   "id": "07b30610-5ab5-4cbc-8e27-70f59904c26b",
   "metadata": {},
   "outputs": [
    {
     "data": {
      "text/plain": [
       "Dict{Float64, Union{Nothing, DataFrame}} with 13 entries:\n",
       "  260.0 => \u001b[1m33×8 DataFrame\u001b[0m\u001b[0m…\n",
       "  230.0 => \u001b[1m33×8 DataFrame\u001b[0m\u001b[0m…\n",
       "  265.0 => \u001b[1m33×8 DataFrame\u001b[0m\u001b[0m…\n",
       "  210.0 => \u001b[1m29×8 DataFrame\u001b[0m\u001b[0m…\n",
       "  220.0 => \u001b[1m33×8 DataFrame\u001b[0m\u001b[0m…\n",
       "  255.0 => \u001b[1m33×8 DataFrame\u001b[0m\u001b[0m…\n",
       "  225.0 => \u001b[1m33×8 DataFrame\u001b[0m\u001b[0m…\n",
       "  245.0 => \u001b[1m33×8 DataFrame\u001b[0m\u001b[0m…\n",
       "  215.0 => \u001b[1m26×8 DataFrame\u001b[0m\u001b[0m…\n",
       "  240.0 => \u001b[1m33×8 DataFrame\u001b[0m\u001b[0m…\n",
       "  235.0 => \u001b[1m33×8 DataFrame\u001b[0m\u001b[0m…\n",
       "  250.0 => \u001b[1m33×8 DataFrame\u001b[0m\u001b[0m…\n",
       "  270.0 => \u001b[1m33×8 DataFrame\u001b[0m\u001b[0m…"
      ]
     },
     "execution_count": 5,
     "metadata": {},
     "output_type": "execute_result"
    }
   ],
   "source": [
    "MSFT = call_contract_data[test_key] |> x-> x[:data]"
   ]
  },
  {
   "cell_type": "markdown",
   "id": "2c0fd18d-dffe-4ecc-8313-3481c5dbe8cb",
   "metadata": {},
   "source": [
    "We can look at a particular strike price by passing that strike into the dictionary. For example, let's look at the `K = 260` strike:"
   ]
  },
  {
   "cell_type": "code",
   "execution_count": 64,
   "id": "3c401ea3-8849-4c39-ab63-f54a0f6ccd64",
   "metadata": {},
   "outputs": [
    {
     "data": {
      "text/html": [
       "<div><div style = \"float: left;\"><span>29×8 DataFrame</span></div><div style = \"float: right;\"><span style = \"font-style: italic;\">4 rows omitted</span></div><div style = \"clear: both;\"></div></div><div class = \"data-frame\" style = \"overflow-x: scroll;\"><table class = \"data-frame\" style = \"margin-bottom: 6px;\"><thead><tr class = \"header\"><th class = \"rowNumber\" style = \"font-weight: bold; text-align: right;\">Row</th><th style = \"text-align: left;\">volume</th><th style = \"text-align: left;\">volume_weighted_average_price</th><th style = \"text-align: left;\">open</th><th style = \"text-align: left;\">close</th><th style = \"text-align: left;\">high</th><th style = \"text-align: left;\">low</th><th style = \"text-align: left;\">timestamp</th><th style = \"text-align: left;\">number_of_transactions</th></tr><tr class = \"subheader headerLastRow\"><th class = \"rowNumber\" style = \"font-weight: bold; text-align: right;\"></th><th title = \"Float64\" style = \"text-align: left;\">Float64</th><th title = \"Float64\" style = \"text-align: left;\">Float64</th><th title = \"Float64\" style = \"text-align: left;\">Float64</th><th title = \"Float64\" style = \"text-align: left;\">Float64</th><th title = \"Float64\" style = \"text-align: left;\">Float64</th><th title = \"Float64\" style = \"text-align: left;\">Float64</th><th title = \"DateTime\" style = \"text-align: left;\">DateTime</th><th title = \"Int64\" style = \"text-align: left;\">Int64</th></tr></thead><tbody><tr><td class = \"rowNumber\" style = \"font-weight: bold; text-align: right;\">1</td><td style = \"text-align: right;\">32.0</td><td style = \"text-align: right;\">23.9128</td><td style = \"text-align: right;\">25.65</td><td style = \"text-align: right;\">22.76</td><td style = \"text-align: right;\">25.65</td><td style = \"text-align: right;\">22.76</td><td style = \"text-align: left;\">2023-01-04T05:00:00</td><td style = \"text-align: right;\">14</td></tr><tr><td class = \"rowNumber\" style = \"font-weight: bold; text-align: right;\">2</td><td style = \"text-align: right;\">13.0</td><td style = \"text-align: right;\">20.3346</td><td style = \"text-align: right;\">20.9</td><td style = \"text-align: right;\">19.0</td><td style = \"text-align: right;\">21.6</td><td style = \"text-align: right;\">19.0</td><td style = \"text-align: left;\">2023-01-05T05:00:00</td><td style = \"text-align: right;\">11</td></tr><tr><td class = \"rowNumber\" style = \"font-weight: bold; text-align: right;\">3</td><td style = \"text-align: right;\">9.0</td><td style = \"text-align: right;\">19.0444</td><td style = \"text-align: right;\">18.05</td><td style = \"text-align: right;\">20.83</td><td style = \"text-align: right;\">20.83</td><td style = \"text-align: right;\">17.0</td><td style = \"text-align: left;\">2023-01-06T05:00:00</td><td style = \"text-align: right;\">8</td></tr><tr><td class = \"rowNumber\" style = \"font-weight: bold; text-align: right;\">4</td><td style = \"text-align: right;\">22.0</td><td style = \"text-align: right;\">23.8791</td><td style = \"text-align: right;\">22.41</td><td style = \"text-align: right;\">24.15</td><td style = \"text-align: right;\">24.9</td><td style = \"text-align: right;\">22.41</td><td style = \"text-align: left;\">2023-01-09T05:00:00</td><td style = \"text-align: right;\">14</td></tr><tr><td class = \"rowNumber\" style = \"font-weight: bold; text-align: right;\">5</td><td style = \"text-align: right;\">14.0</td><td style = \"text-align: right;\">24.1621</td><td style = \"text-align: right;\">23.5</td><td style = \"text-align: right;\">22.6</td><td style = \"text-align: right;\">25.2</td><td style = \"text-align: right;\">22.6</td><td style = \"text-align: left;\">2023-01-10T05:00:00</td><td style = \"text-align: right;\">9</td></tr><tr><td class = \"rowNumber\" style = \"font-weight: bold; text-align: right;\">6</td><td style = \"text-align: right;\">5.0</td><td style = \"text-align: right;\">27.134</td><td style = \"text-align: right;\">26.15</td><td style = \"text-align: right;\">27.5</td><td style = \"text-align: right;\">27.5</td><td style = \"text-align: right;\">26.15</td><td style = \"text-align: left;\">2023-01-11T05:00:00</td><td style = \"text-align: right;\">5</td></tr><tr><td class = \"rowNumber\" style = \"font-weight: bold; text-align: right;\">7</td><td style = \"text-align: right;\">3.0</td><td style = \"text-align: right;\">31.0</td><td style = \"text-align: right;\">31.0</td><td style = \"text-align: right;\">31.0</td><td style = \"text-align: right;\">31.0</td><td style = \"text-align: right;\">31.0</td><td style = \"text-align: left;\">2023-01-12T05:00:00</td><td style = \"text-align: right;\">1</td></tr><tr><td class = \"rowNumber\" style = \"font-weight: bold; text-align: right;\">8</td><td style = \"text-align: right;\">84.0</td><td style = \"text-align: right;\">28.8143</td><td style = \"text-align: right;\">28.9</td><td style = \"text-align: right;\">30.65</td><td style = \"text-align: right;\">30.65</td><td style = \"text-align: right;\">28.5</td><td style = \"text-align: left;\">2023-01-13T05:00:00</td><td style = \"text-align: right;\">8</td></tr><tr><td class = \"rowNumber\" style = \"font-weight: bold; text-align: right;\">9</td><td style = \"text-align: right;\">10.0</td><td style = \"text-align: right;\">31.436</td><td style = \"text-align: right;\">31.13</td><td style = \"text-align: right;\">32.1</td><td style = \"text-align: right;\">32.1</td><td style = \"text-align: right;\">30.85</td><td style = \"text-align: left;\">2023-01-17T05:00:00</td><td style = \"text-align: right;\">7</td></tr><tr><td class = \"rowNumber\" style = \"font-weight: bold; text-align: right;\">10</td><td style = \"text-align: right;\">12.0</td><td style = \"text-align: right;\">29.8175</td><td style = \"text-align: right;\">32.0</td><td style = \"text-align: right;\">29.42</td><td style = \"text-align: right;\">32.0</td><td style = \"text-align: right;\">28.75</td><td style = \"text-align: left;\">2023-01-18T05:00:00</td><td style = \"text-align: right;\">12</td></tr><tr><td class = \"rowNumber\" style = \"font-weight: bold; text-align: right;\">11</td><td style = \"text-align: right;\">4.0</td><td style = \"text-align: right;\">25.7825</td><td style = \"text-align: right;\">25.0</td><td style = \"text-align: right;\">26.9</td><td style = \"text-align: right;\">26.9</td><td style = \"text-align: right;\">25.0</td><td style = \"text-align: left;\">2023-01-19T05:00:00</td><td style = \"text-align: right;\">4</td></tr><tr><td class = \"rowNumber\" style = \"font-weight: bold; text-align: right;\">12</td><td style = \"text-align: right;\">140.0</td><td style = \"text-align: right;\">30.581</td><td style = \"text-align: right;\">29.0</td><td style = \"text-align: right;\">30.78</td><td style = \"text-align: right;\">30.99</td><td style = \"text-align: right;\">29.0</td><td style = \"text-align: left;\">2023-01-20T05:00:00</td><td style = \"text-align: right;\">12</td></tr><tr><td class = \"rowNumber\" style = \"font-weight: bold; text-align: right;\">13</td><td style = \"text-align: right;\">106.0</td><td style = \"text-align: right;\">32.7704</td><td style = \"text-align: right;\">32.0</td><td style = \"text-align: right;\">33.95</td><td style = \"text-align: right;\">36.04</td><td style = \"text-align: right;\">32.0</td><td style = \"text-align: left;\">2023-01-23T05:00:00</td><td style = \"text-align: right;\">16</td></tr><tr><td style = \"text-align: right;\">&vellip;</td><td style = \"text-align: right;\">&vellip;</td><td style = \"text-align: right;\">&vellip;</td><td style = \"text-align: right;\">&vellip;</td><td style = \"text-align: right;\">&vellip;</td><td style = \"text-align: right;\">&vellip;</td><td style = \"text-align: right;\">&vellip;</td><td style = \"text-align: right;\">&vellip;</td><td style = \"text-align: right;\">&vellip;</td></tr><tr><td class = \"rowNumber\" style = \"font-weight: bold; text-align: right;\">18</td><td style = \"text-align: right;\">12484.0</td><td style = \"text-align: right;\">33.6299</td><td style = \"text-align: right;\">33.63</td><td style = \"text-align: right;\">32.89</td><td style = \"text-align: right;\">33.81</td><td style = \"text-align: right;\">32.89</td><td style = \"text-align: left;\">2023-01-30T05:00:00</td><td style = \"text-align: right;\">4</td></tr><tr><td class = \"rowNumber\" style = \"font-weight: bold; text-align: right;\">19</td><td style = \"text-align: right;\">6.0</td><td style = \"text-align: right;\">42.0</td><td style = \"text-align: right;\">42.0</td><td style = \"text-align: right;\">42.0</td><td style = \"text-align: right;\">42.0</td><td style = \"text-align: right;\">42.0</td><td style = \"text-align: left;\">2023-02-01T05:00:00</td><td style = \"text-align: right;\">3</td></tr><tr><td class = \"rowNumber\" style = \"font-weight: bold; text-align: right;\">20</td><td style = \"text-align: right;\">24.0</td><td style = \"text-align: right;\">50.4467</td><td style = \"text-align: right;\">48.23</td><td style = \"text-align: right;\">52.03</td><td style = \"text-align: right;\">52.03</td><td style = \"text-align: right;\">48.23</td><td style = \"text-align: left;\">2023-02-02T05:00:00</td><td style = \"text-align: right;\">9</td></tr><tr><td class = \"rowNumber\" style = \"font-weight: bold; text-align: right;\">21</td><td style = \"text-align: right;\">2.0</td><td style = \"text-align: right;\">46.91</td><td style = \"text-align: right;\">46.91</td><td style = \"text-align: right;\">46.91</td><td style = \"text-align: right;\">46.91</td><td style = \"text-align: right;\">46.91</td><td style = \"text-align: left;\">2023-02-06T05:00:00</td><td style = \"text-align: right;\">1</td></tr><tr><td class = \"rowNumber\" style = \"font-weight: bold; text-align: right;\">22</td><td style = \"text-align: right;\">1.0</td><td style = \"text-align: right;\">57.07</td><td style = \"text-align: right;\">57.07</td><td style = \"text-align: right;\">57.07</td><td style = \"text-align: right;\">57.07</td><td style = \"text-align: right;\">57.07</td><td style = \"text-align: left;\">2023-02-07T05:00:00</td><td style = \"text-align: right;\">1</td></tr><tr><td class = \"rowNumber\" style = \"font-weight: bold; text-align: right;\">23</td><td style = \"text-align: right;\">1.0</td><td style = \"text-align: right;\">62.9</td><td style = \"text-align: right;\">62.9</td><td style = \"text-align: right;\">62.9</td><td style = \"text-align: right;\">62.9</td><td style = \"text-align: right;\">62.9</td><td style = \"text-align: left;\">2023-02-08T05:00:00</td><td style = \"text-align: right;\">1</td></tr><tr><td class = \"rowNumber\" style = \"font-weight: bold; text-align: right;\">24</td><td style = \"text-align: right;\">2.0</td><td style = \"text-align: right;\">54.31</td><td style = \"text-align: right;\">55.0</td><td style = \"text-align: right;\">53.62</td><td style = \"text-align: right;\">55.0</td><td style = \"text-align: right;\">53.62</td><td style = \"text-align: left;\">2023-02-09T05:00:00</td><td style = \"text-align: right;\">2</td></tr><tr><td class = \"rowNumber\" style = \"font-weight: bold; text-align: right;\">25</td><td style = \"text-align: right;\">1.0</td><td style = \"text-align: right;\">52.5</td><td style = \"text-align: right;\">52.5</td><td style = \"text-align: right;\">52.5</td><td style = \"text-align: right;\">52.5</td><td style = \"text-align: right;\">52.5</td><td style = \"text-align: left;\">2023-02-10T05:00:00</td><td style = \"text-align: right;\">1</td></tr><tr><td class = \"rowNumber\" style = \"font-weight: bold; text-align: right;\">26</td><td style = \"text-align: right;\">1201.0</td><td style = \"text-align: right;\">61.4282</td><td style = \"text-align: right;\">61.22</td><td style = \"text-align: right;\">63.15</td><td style = \"text-align: right;\">63.2</td><td style = \"text-align: right;\">60.3</td><td style = \"text-align: left;\">2023-02-14T05:00:00</td><td style = \"text-align: right;\">53</td></tr><tr><td class = \"rowNumber\" style = \"font-weight: bold; text-align: right;\">27</td><td style = \"text-align: right;\">1.0</td><td style = \"text-align: right;\">58.7</td><td style = \"text-align: right;\">58.7</td><td style = \"text-align: right;\">58.7</td><td style = \"text-align: right;\">58.7</td><td style = \"text-align: right;\">58.7</td><td style = \"text-align: left;\">2023-02-15T05:00:00</td><td style = \"text-align: right;\">1</td></tr><tr><td class = \"rowNumber\" style = \"font-weight: bold; text-align: right;\">28</td><td style = \"text-align: right;\">1.0</td><td style = \"text-align: right;\">52.61</td><td style = \"text-align: right;\">52.61</td><td style = \"text-align: right;\">52.61</td><td style = \"text-align: right;\">52.61</td><td style = \"text-align: right;\">52.61</td><td style = \"text-align: left;\">2023-02-16T05:00:00</td><td style = \"text-align: right;\">1</td></tr><tr><td class = \"rowNumber\" style = \"font-weight: bold; text-align: right;\">29</td><td style = \"text-align: right;\">53.0</td><td style = \"text-align: right;\">46.4779</td><td style = \"text-align: right;\">46.8</td><td style = \"text-align: right;\">46.66</td><td style = \"text-align: right;\">47.05</td><td style = \"text-align: right;\">45.45</td><td style = \"text-align: left;\">2023-02-17T05:00:00</td><td style = \"text-align: right;\">10</td></tr></tbody></table></div>"
      ],
      "text/latex": [
       "\\begin{tabular}{r|cccccccc}\n",
       "\t& volume & volume\\_weighted\\_average\\_price & open & close & high & low & timestamp & \\\\\n",
       "\t\\hline\n",
       "\t& Float64 & Float64 & Float64 & Float64 & Float64 & Float64 & DateTime & \\\\\n",
       "\t\\hline\n",
       "\t1 & 32.0 & 23.9128 & 25.65 & 22.76 & 25.65 & 22.76 & 2023-01-04T05:00:00 & $\\dots$ \\\\\n",
       "\t2 & 13.0 & 20.3346 & 20.9 & 19.0 & 21.6 & 19.0 & 2023-01-05T05:00:00 & $\\dots$ \\\\\n",
       "\t3 & 9.0 & 19.0444 & 18.05 & 20.83 & 20.83 & 17.0 & 2023-01-06T05:00:00 & $\\dots$ \\\\\n",
       "\t4 & 22.0 & 23.8791 & 22.41 & 24.15 & 24.9 & 22.41 & 2023-01-09T05:00:00 & $\\dots$ \\\\\n",
       "\t5 & 14.0 & 24.1621 & 23.5 & 22.6 & 25.2 & 22.6 & 2023-01-10T05:00:00 & $\\dots$ \\\\\n",
       "\t6 & 5.0 & 27.134 & 26.15 & 27.5 & 27.5 & 26.15 & 2023-01-11T05:00:00 & $\\dots$ \\\\\n",
       "\t7 & 3.0 & 31.0 & 31.0 & 31.0 & 31.0 & 31.0 & 2023-01-12T05:00:00 & $\\dots$ \\\\\n",
       "\t8 & 84.0 & 28.8143 & 28.9 & 30.65 & 30.65 & 28.5 & 2023-01-13T05:00:00 & $\\dots$ \\\\\n",
       "\t9 & 10.0 & 31.436 & 31.13 & 32.1 & 32.1 & 30.85 & 2023-01-17T05:00:00 & $\\dots$ \\\\\n",
       "\t10 & 12.0 & 29.8175 & 32.0 & 29.42 & 32.0 & 28.75 & 2023-01-18T05:00:00 & $\\dots$ \\\\\n",
       "\t11 & 4.0 & 25.7825 & 25.0 & 26.9 & 26.9 & 25.0 & 2023-01-19T05:00:00 & $\\dots$ \\\\\n",
       "\t12 & 140.0 & 30.581 & 29.0 & 30.78 & 30.99 & 29.0 & 2023-01-20T05:00:00 & $\\dots$ \\\\\n",
       "\t13 & 106.0 & 32.7704 & 32.0 & 33.95 & 36.04 & 32.0 & 2023-01-23T05:00:00 & $\\dots$ \\\\\n",
       "\t14 & 4.0 & 32.45 & 32.45 & 32.45 & 32.45 & 32.45 & 2023-01-24T05:00:00 & $\\dots$ \\\\\n",
       "\t15 & 8.0 & 27.835 & 25.6 & 33.85 & 33.85 & 24.12 & 2023-01-25T05:00:00 & $\\dots$ \\\\\n",
       "\t16 & 49.0 & 35.4047 & 36.1 & 36.9 & 36.9 & 34.8 & 2023-01-26T05:00:00 & $\\dots$ \\\\\n",
       "\t17 & 54.0 & 39.0507 & 38.79 & 39.5 & 39.5 & 38.77 & 2023-01-27T05:00:00 & $\\dots$ \\\\\n",
       "\t18 & 12484.0 & 33.6299 & 33.63 & 32.89 & 33.81 & 32.89 & 2023-01-30T05:00:00 & $\\dots$ \\\\\n",
       "\t19 & 6.0 & 42.0 & 42.0 & 42.0 & 42.0 & 42.0 & 2023-02-01T05:00:00 & $\\dots$ \\\\\n",
       "\t20 & 24.0 & 50.4467 & 48.23 & 52.03 & 52.03 & 48.23 & 2023-02-02T05:00:00 & $\\dots$ \\\\\n",
       "\t21 & 2.0 & 46.91 & 46.91 & 46.91 & 46.91 & 46.91 & 2023-02-06T05:00:00 & $\\dots$ \\\\\n",
       "\t22 & 1.0 & 57.07 & 57.07 & 57.07 & 57.07 & 57.07 & 2023-02-07T05:00:00 & $\\dots$ \\\\\n",
       "\t23 & 1.0 & 62.9 & 62.9 & 62.9 & 62.9 & 62.9 & 2023-02-08T05:00:00 & $\\dots$ \\\\\n",
       "\t24 & 2.0 & 54.31 & 55.0 & 53.62 & 55.0 & 53.62 & 2023-02-09T05:00:00 & $\\dots$ \\\\\n",
       "\t25 & 1.0 & 52.5 & 52.5 & 52.5 & 52.5 & 52.5 & 2023-02-10T05:00:00 & $\\dots$ \\\\\n",
       "\t26 & 1201.0 & 61.4282 & 61.22 & 63.15 & 63.2 & 60.3 & 2023-02-14T05:00:00 & $\\dots$ \\\\\n",
       "\t27 & 1.0 & 58.7 & 58.7 & 58.7 & 58.7 & 58.7 & 2023-02-15T05:00:00 & $\\dots$ \\\\\n",
       "\t28 & 1.0 & 52.61 & 52.61 & 52.61 & 52.61 & 52.61 & 2023-02-16T05:00:00 & $\\dots$ \\\\\n",
       "\t29 & 53.0 & 46.4779 & 46.8 & 46.66 & 47.05 & 45.45 & 2023-02-17T05:00:00 & $\\dots$ \\\\\n",
       "\\end{tabular}\n"
      ],
      "text/plain": [
       "\u001b[1m29×8 DataFrame\u001b[0m\n",
       "\u001b[1m Row \u001b[0m│\u001b[1m volume  \u001b[0m\u001b[1m volume_weighted_average_price \u001b[0m\u001b[1m open    \u001b[0m\u001b[1m close   \u001b[0m\u001b[1m high    \u001b[0m\u001b[1m low \u001b[0m ⋯\n",
       "     │\u001b[90m Float64 \u001b[0m\u001b[90m Float64                       \u001b[0m\u001b[90m Float64 \u001b[0m\u001b[90m Float64 \u001b[0m\u001b[90m Float64 \u001b[0m\u001b[90m Floa\u001b[0m ⋯\n",
       "─────┼──────────────────────────────────────────────────────────────────────────\n",
       "   1 │    32.0                        23.9128    25.65    22.76    25.65    22 ⋯\n",
       "   2 │    13.0                        20.3346    20.9     19.0     21.6     19\n",
       "   3 │     9.0                        19.0444    18.05    20.83    20.83    17\n",
       "   4 │    22.0                        23.8791    22.41    24.15    24.9     22\n",
       "   5 │    14.0                        24.1621    23.5     22.6     25.2     22 ⋯\n",
       "   6 │     5.0                        27.134     26.15    27.5     27.5     26\n",
       "   7 │     3.0                        31.0       31.0     31.0     31.0     31\n",
       "   8 │    84.0                        28.8143    28.9     30.65    30.65    28\n",
       "   9 │    10.0                        31.436     31.13    32.1     32.1     30 ⋯\n",
       "  10 │    12.0                        29.8175    32.0     29.42    32.0     28\n",
       "  11 │     4.0                        25.7825    25.0     26.9     26.9     25\n",
       "  ⋮  │    ⋮                   ⋮                   ⋮        ⋮        ⋮        ⋮ ⋱\n",
       "  20 │    24.0                        50.4467    48.23    52.03    52.03    48\n",
       "  21 │     2.0                        46.91      46.91    46.91    46.91    46 ⋯\n",
       "  22 │     1.0                        57.07      57.07    57.07    57.07    57\n",
       "  23 │     1.0                        62.9       62.9     62.9     62.9     62\n",
       "  24 │     2.0                        54.31      55.0     53.62    55.0     53\n",
       "  25 │     1.0                        52.5       52.5     52.5     52.5     52 ⋯\n",
       "  26 │  1201.0                        61.4282    61.22    63.15    63.2     60\n",
       "  27 │     1.0                        58.7       58.7     58.7     58.7     58\n",
       "  28 │     1.0                        52.61      52.61    52.61    52.61    52\n",
       "  29 │    53.0                        46.4779    46.8     46.66    47.05    45 ⋯\n",
       "\u001b[36m                                                    3 columns and 8 rows omitted\u001b[0m"
      ]
     },
     "execution_count": 64,
     "metadata": {},
     "output_type": "execute_result"
    }
   ],
   "source": [
    "MSFT_260_call = MSFT[260.0]\n",
    "MSFT_210_call = MSFT[210.0]"
   ]
  },
  {
   "cell_type": "markdown",
   "id": "5be2160a-06fe-443b-bef5-0f20016147e2",
   "metadata": {},
   "source": [
    "Each row is the price for that contract on that day"
   ]
  },
  {
   "cell_type": "code",
   "execution_count": 8,
   "id": "6dbfdd9e-e33d-4c22-8439-b4f68813ecd7",
   "metadata": {},
   "outputs": [],
   "source": [
    "original_dataset = load(joinpath(_PATH_TO_DATA, \n",
    "        \"SP500-Daily-OHLC-1-3-2018-to-12-01-2023.jld2\")) |> x-> x[\"dataset\"];"
   ]
  },
  {
   "cell_type": "code",
   "execution_count": 35,
   "id": "f9cf40e9-74f0-4b78-979b-da1a65116c0c",
   "metadata": {
    "jupyter": {
     "source_hidden": true
    }
   },
   "outputs": [],
   "source": [
    "maximum_number_trading_days = original_dataset[\"MSFT\"] |> nrow;\n",
    "\n",
    "dataset = Dict{String,DataFrame}();\n",
    "for (ticker,data) ∈ original_dataset\n",
    "    if (nrow(data) == maximum_number_trading_days)\n",
    "        dataset[ticker] = data;\n",
    "    end\n",
    "end\n",
    "dataset;\n",
    "\n",
    "all_tickers = keys(dataset) |> collect |> sort;\n",
    "K = length(all_tickers);\n",
    "\n",
    "startdate = Date(2023,01,03);\n",
    "MSFT_dataset = dataset[\"MSFT\"];\n",
    "MSFT_df = filter(:timestamp => x-> x >= startdate, MSFT_dataset);"
   ]
  },
  {
   "cell_type": "code",
   "execution_count": 36,
   "id": "ebb3c651-a7f6-4a1a-81e7-a5f45dc72890",
   "metadata": {},
   "outputs": [
    {
     "data": {
      "text/html": [
       "<div><div style = \"float: left;\"><span>1×8 DataFrame</span></div><div style = \"clear: both;\"></div></div><div class = \"data-frame\" style = \"overflow-x: scroll;\"><table class = \"data-frame\" style = \"margin-bottom: 6px;\"><thead><tr class = \"header\"><th class = \"rowNumber\" style = \"font-weight: bold; text-align: right;\">Row</th><th style = \"text-align: left;\">volume</th><th style = \"text-align: left;\">volume_weighted_average_price</th><th style = \"text-align: left;\">open</th><th style = \"text-align: left;\">close</th><th style = \"text-align: left;\">high</th><th style = \"text-align: left;\">low</th><th style = \"text-align: left;\">timestamp</th><th style = \"text-align: left;\">number_of_transactions</th></tr><tr class = \"subheader headerLastRow\"><th class = \"rowNumber\" style = \"font-weight: bold; text-align: right;\"></th><th title = \"Float64\" style = \"text-align: left;\">Float64</th><th title = \"Float64\" style = \"text-align: left;\">Float64</th><th title = \"Float64\" style = \"text-align: left;\">Float64</th><th title = \"Float64\" style = \"text-align: left;\">Float64</th><th title = \"Float64\" style = \"text-align: left;\">Float64</th><th title = \"Float64\" style = \"text-align: left;\">Float64</th><th title = \"DateTime\" style = \"text-align: left;\">DateTime</th><th title = \"Int64\" style = \"text-align: left;\">Int64</th></tr></thead><tbody><tr><td class = \"rowNumber\" style = \"font-weight: bold; text-align: right;\">1</td><td style = \"text-align: right;\">2.574e7</td><td style = \"text-align: right;\">239.839</td><td style = \"text-align: right;\">243.08</td><td style = \"text-align: right;\">239.58</td><td style = \"text-align: right;\">245.75</td><td style = \"text-align: right;\">237.4</td><td style = \"text-align: left;\">2023-01-03T05:00:00</td><td style = \"text-align: right;\">314904</td></tr></tbody></table></div>"
      ],
      "text/latex": [
       "\\begin{tabular}{r|cccccccc}\n",
       "\t& volume & volume\\_weighted\\_average\\_price & open & close & high & low & timestamp & \\\\\n",
       "\t\\hline\n",
       "\t& Float64 & Float64 & Float64 & Float64 & Float64 & Float64 & DateTime & \\\\\n",
       "\t\\hline\n",
       "\t1 & 2.574e7 & 239.839 & 243.08 & 239.58 & 245.75 & 237.4 & 2023-01-03T05:00:00 & $\\dots$ \\\\\n",
       "\\end{tabular}\n"
      ],
      "text/plain": [
       "\u001b[1m1×8 DataFrame\u001b[0m\n",
       "\u001b[1m Row \u001b[0m│\u001b[1m volume  \u001b[0m\u001b[1m volume_weighted_average_price \u001b[0m\u001b[1m open    \u001b[0m\u001b[1m close   \u001b[0m\u001b[1m high    \u001b[0m\u001b[1m low \u001b[0m ⋯\n",
       "     │\u001b[90m Float64 \u001b[0m\u001b[90m Float64                       \u001b[0m\u001b[90m Float64 \u001b[0m\u001b[90m Float64 \u001b[0m\u001b[90m Float64 \u001b[0m\u001b[90m Floa\u001b[0m ⋯\n",
       "─────┼──────────────────────────────────────────────────────────────────────────\n",
       "   1 │ 2.574e7                        239.839   243.08   239.58   245.75    23 ⋯\n",
       "\u001b[36m                                                               3 columns omitted\u001b[0m"
      ]
     },
     "execution_count": 36,
     "metadata": {},
     "output_type": "execute_result"
    }
   ],
   "source": [
    "MSFT_df[MSFT_df.timestamp .== DateTime(2023, 1, 3, 5, 0, 0), :]"
   ]
  },
  {
   "cell_type": "code",
   "execution_count": 37,
   "id": "850ed3ee-1422-402d-9eed-a8c7c2fb8f1e",
   "metadata": {},
   "outputs": [
    {
     "data": {
      "text/html": [
       "<div><div style = \"float: left;\"><span>1×8 DataFrame</span></div><div style = \"clear: both;\"></div></div><div class = \"data-frame\" style = \"overflow-x: scroll;\"><table class = \"data-frame\" style = \"margin-bottom: 6px;\"><thead><tr class = \"header\"><th class = \"rowNumber\" style = \"font-weight: bold; text-align: right;\">Row</th><th style = \"text-align: left;\">volume</th><th style = \"text-align: left;\">volume_weighted_average_price</th><th style = \"text-align: left;\">open</th><th style = \"text-align: left;\">close</th><th style = \"text-align: left;\">high</th><th style = \"text-align: left;\">low</th><th style = \"text-align: left;\">timestamp</th><th style = \"text-align: left;\">number_of_transactions</th></tr><tr class = \"subheader headerLastRow\"><th class = \"rowNumber\" style = \"font-weight: bold; text-align: right;\"></th><th title = \"Float64\" style = \"text-align: left;\">Float64</th><th title = \"Float64\" style = \"text-align: left;\">Float64</th><th title = \"Float64\" style = \"text-align: left;\">Float64</th><th title = \"Float64\" style = \"text-align: left;\">Float64</th><th title = \"Float64\" style = \"text-align: left;\">Float64</th><th title = \"Float64\" style = \"text-align: left;\">Float64</th><th title = \"DateTime\" style = \"text-align: left;\">DateTime</th><th title = \"Int64\" style = \"text-align: left;\">Int64</th></tr></thead><tbody><tr><td class = \"rowNumber\" style = \"font-weight: bold; text-align: right;\">1</td><td style = \"text-align: right;\">2.99982e7</td><td style = \"text-align: right;\">257.685</td><td style = \"text-align: right;\">259.39</td><td style = \"text-align: right;\">258.06</td><td style = \"text-align: right;\">260.09</td><td style = \"text-align: right;\">256.0</td><td style = \"text-align: left;\">2023-02-17T05:00:00</td><td style = \"text-align: right;\">392723</td></tr></tbody></table></div>"
      ],
      "text/latex": [
       "\\begin{tabular}{r|cccccccc}\n",
       "\t& volume & volume\\_weighted\\_average\\_price & open & close & high & low & timestamp & \\\\\n",
       "\t\\hline\n",
       "\t& Float64 & Float64 & Float64 & Float64 & Float64 & Float64 & DateTime & \\\\\n",
       "\t\\hline\n",
       "\t1 & 2.99982e7 & 257.685 & 259.39 & 258.06 & 260.09 & 256.0 & 2023-02-17T05:00:00 & $\\dots$ \\\\\n",
       "\\end{tabular}\n"
      ],
      "text/plain": [
       "\u001b[1m1×8 DataFrame\u001b[0m\n",
       "\u001b[1m Row \u001b[0m│\u001b[1m volume    \u001b[0m\u001b[1m volume_weighted_average_price \u001b[0m\u001b[1m open    \u001b[0m\u001b[1m close   \u001b[0m\u001b[1m high    \u001b[0m\u001b[1m lo\u001b[0m ⋯\n",
       "     │\u001b[90m Float64   \u001b[0m\u001b[90m Float64                       \u001b[0m\u001b[90m Float64 \u001b[0m\u001b[90m Float64 \u001b[0m\u001b[90m Float64 \u001b[0m\u001b[90m Fl\u001b[0m ⋯\n",
       "─────┼──────────────────────────────────────────────────────────────────────────\n",
       "   1 │ 2.99982e7                        257.685   259.39   258.06   260.09     ⋯\n",
       "\u001b[36m                                                               3 columns omitted\u001b[0m"
      ]
     },
     "execution_count": 37,
     "metadata": {},
     "output_type": "execute_result"
    }
   ],
   "source": [
    "MSFT_df[MSFT_df.timestamp .== DateTime(2023, 2, 17, 5, 0, 0), :]"
   ]
  },
  {
   "cell_type": "code",
   "execution_count": 72,
   "id": "1bf9d97e-4577-43dc-8b33-db2768a58899",
   "metadata": {
    "scrolled": true
   },
   "outputs": [
    {
     "data": {
      "text/plain": [
       "option_value (generic function with 1 method)"
      ]
     },
     "execution_count": 72,
     "metadata": {},
     "output_type": "execute_result"
    }
   ],
   "source": [
    "function option_value(market_df::DataFrame, options_df::DataFrame, strike_price::Float64)\n",
    "    last_day = maximum(options_df[:, :timestamp])\n",
    "    last_day_market_info = market_df[market_df[:, :timestamp] .== last_day, :]\n",
    "\n",
    "    last_day_market_price = last_day_market_info[1, :close]\n",
    "    if last_day_market_price < strike_price\n",
    "        return \"This option will expire worthless\"\n",
    "    else\n",
    "        return \"This option may be exercised\"\n",
    "    end\n",
    "end\n"
   ]
  },
  {
   "cell_type": "code",
   "execution_count": 76,
   "id": "1f12b38c-acdd-4deb-b757-57887d6aa3e5",
   "metadata": {},
   "outputs": [
    {
     "name": "stdout",
     "output_type": "stream",
     "text": [
      "Strike Price 260.0: This option will expire worthless\n",
      "Strike Price 230.0: This option may be exercised\n",
      "Strike Price 265.0: This option will expire worthless\n",
      "Strike Price 210.0: This option may be exercised\n",
      "Strike Price 220.0: This option may be exercised\n",
      "Strike Price 255.0: This option may be exercised\n",
      "Strike Price 225.0: This option may be exercised\n",
      "Strike Price 245.0: This option may be exercised\n",
      "Strike Price 215.0: This option may be exercised\n",
      "Strike Price 240.0: This option may be exercised\n",
      "Strike Price 235.0: This option may be exercised\n",
      "Strike Price 250.0: This option may be exercised\n",
      "Strike Price 270.0: This option will expire worthless\n"
     ]
    }
   ],
   "source": [
    "for (strike_price, options_df) in MSFT\n",
    "    result = check_market_price_below_strike(MSFT_df, options_df, strike_price)\n",
    "        println(\"Strike Price $strike_price: $result\")\n",
    "end"
   ]
  }
 ],
 "metadata": {
  "kernelspec": {
   "display_name": "Julia 1.9.2",
   "language": "julia",
   "name": "julia-1.9"
  },
  "language_info": {
   "file_extension": ".jl",
   "mimetype": "application/julia",
   "name": "julia",
   "version": "1.9.2"
  }
 },
 "nbformat": 4,
 "nbformat_minor": 5
}
