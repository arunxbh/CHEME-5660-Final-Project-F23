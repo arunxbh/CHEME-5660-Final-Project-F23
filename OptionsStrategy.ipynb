{
 "cells": [
  {
   "cell_type": "markdown",
   "id": "ec07121b-9bb9-4792-9249-57b11c238be6",
   "metadata": {},
   "source": [
    "# Load options data files\n",
    "I've downloaded the options data for the `tickers` you requested for both `call` and `put` contracts for 45-day contracts starting on `2023-01-03`. Let's walk through the `call` contract data (the `put` contract procedure is the same; we change the `jld2` file name to `Options-Put-Daily-OHLC-45d-2023.jld2`)"
   ]
  },
  {
   "cell_type": "markdown",
   "id": "0a434aa8-cb8e-43ce-8f38-a8e22ff4dd80",
   "metadata": {},
   "source": [
    "## Setup"
   ]
  },
  {
   "cell_type": "code",
   "execution_count": 227,
   "id": "39b19abd-3d21-41d9-9650-fbeae9791c89",
   "metadata": {},
   "outputs": [
    {
     "name": "stderr",
     "output_type": "stream",
     "text": [
      "\u001b[32m\u001b[1m    Updating\u001b[22m\u001b[39m git-repo `https://github.com/varnerlab/VLQuantitativeFinancePackage.jl.git`\n",
      "\u001b[32m\u001b[1m   Resolving\u001b[22m\u001b[39m package versions...\n",
      "\u001b[32m\u001b[1m  No Changes\u001b[22m\u001b[39m to `~/Documents/GitHub/CHEME5660/CHEME-5660-Project-Template-F23/Project.toml`\n",
      "\u001b[32m\u001b[1m  No Changes\u001b[22m\u001b[39m to `~/Documents/GitHub/CHEME5660/CHEME-5660-Project-Template-F23/Manifest.toml`\n",
      "\u001b[32m\u001b[1m  Activating\u001b[22m\u001b[39m project at `~/Documents/GitHub/CHEME5660/CHEME-5660-Project-Template-F23`\n",
      "\u001b[32m\u001b[1m  No Changes\u001b[22m\u001b[39m to `~/Documents/GitHub/CHEME5660/CHEME-5660-Project-Template-F23/Project.toml`\n",
      "\u001b[32m\u001b[1m  No Changes\u001b[22m\u001b[39m to `~/Documents/GitHub/CHEME5660/CHEME-5660-Project-Template-F23/Manifest.toml`\n",
      "\u001b[32m\u001b[1m    Updating\u001b[22m\u001b[39m registry at `~/.julia/registries/General.toml`\n",
      "\u001b[32m\u001b[1m    Updating\u001b[22m\u001b[39m git-repo `https://github.com/varnerlab/VLQuantitativeFinancePackage.jl.git`\n",
      "\u001b[32m\u001b[1m   Installed\u001b[22m\u001b[39m LinearOperators ─ v2.6.0\n",
      "\u001b[32m\u001b[1m  No Changes\u001b[22m\u001b[39m to `~/Documents/GitHub/CHEME5660/CHEME-5660-Project-Template-F23/Project.toml`\n",
      "\u001b[32m\u001b[1m    Updating\u001b[22m\u001b[39m `~/Documents/GitHub/CHEME5660/CHEME-5660-Project-Template-F23/Manifest.toml`\n",
      "  \u001b[90m[5c8ed15e] \u001b[39m\u001b[93m↑ LinearOperators v2.5.2 ⇒ v2.6.0\u001b[39m\n",
      "\u001b[32m\u001b[1mPrecompiling\u001b[22m\u001b[39m project...\n",
      "\u001b[33m  ✓ \u001b[39m\u001b[90mLinearOperators\u001b[39m\n",
      "\u001b[32m  ✓ \u001b[39m\u001b[90mLinearOperators → LinearOperatorsChainRulesCoreExt\u001b[39m\n",
      "\u001b[33m  ✓ \u001b[39m\u001b[90mNLPModels\u001b[39m\n",
      "\u001b[33m  ✓ \u001b[39m\u001b[90mSolverCore\u001b[39m\n",
      "\u001b[33m  ✓ \u001b[39m\u001b[90mMadNLP\u001b[39m\n",
      "\u001b[33m  ✓ \u001b[39mVLQuantitativeFinancePackage\n",
      "  6 dependencies successfully precompiled in 24 seconds. 249 already precompiled.\n",
      "  \u001b[33m5\u001b[39m dependencies precompiled but different versions are currently loaded. Restart julia to access the new versions\n"
     ]
    },
    {
     "data": {
      "text/plain": [
       "log_return_matrix (generic function with 1 method)"
      ]
     },
     "execution_count": 227,
     "metadata": {},
     "output_type": "execute_result"
    }
   ],
   "source": [
    "include(\"Include.jl\")"
   ]
  },
  {
   "cell_type": "code",
   "execution_count": 226,
   "id": "0f6b09f7-64b3-4df3-b884-f0ee055c0823",
   "metadata": {},
   "outputs": [
    {
     "data": {
      "text/plain": [
       "_loadcsvfile (generic function with 1 method)"
      ]
     },
     "execution_count": 226,
     "metadata": {},
     "output_type": "execute_result"
    }
   ],
   "source": [
    "function _loadcsvfile(path::String)::DataFrame\n",
    "    return CSV.read(path, DataFrame);\n",
    "end"
   ]
  },
  {
   "cell_type": "markdown",
   "id": "648ebeb4-f7da-4975-8774-7e7246f023bc",
   "metadata": {},
   "source": [
    "## Load `call` contract data\n",
    "We downloaded data for 45-day contracts starting on `2023-01-03` and running through `2023`. The date information for each contract is given in the `call_contract_dates` variable. This is a `Tuple` that holds the day the contract was sold (`index = 1`), the day the contract expires (`index = 2`), and the number of days of the contract (`index=3`):"
   ]
  },
  {
   "cell_type": "code",
   "execution_count": 228,
   "id": "5080ab6a-7def-4fcc-8d08-846fd6802b5f",
   "metadata": {},
   "outputs": [
    {
     "data": {
      "text/plain": [
       "8-element Vector{Tuple{Date, Date, Int64}}:\n",
       " (Date(\"2023-01-03\"), Date(\"2023-02-17\"), 45)\n",
       " (Date(\"2023-02-22\"), Date(\"2023-04-14\"), 51)\n",
       " (Date(\"2023-04-17\"), Date(\"2023-06-02\"), 46)\n",
       " (Date(\"2023-06-05\"), Date(\"2023-07-21\"), 46)\n",
       " (Date(\"2023-07-24\"), Date(\"2023-09-08\"), 46)\n",
       " (Date(\"2023-09-11\"), Date(\"2023-10-27\"), 46)\n",
       " (Date(\"2023-10-30\"), Date(\"2023-12-15\"), 46)\n",
       " (Date(\"2023-12-18\"), Date(\"2024-02-02\"), 46)"
      ]
     },
     "execution_count": 228,
     "metadata": {},
     "output_type": "execute_result"
    }
   ],
   "source": [
    "call_contract_dates = load(joinpath(_PATH_TO_DATA, \"Options-Call-Daily-OHLC-45d-2023.jld2\")) |> x -> x[\"dates\"]"
   ]
  },
  {
   "cell_type": "markdown",
   "id": "8837728a-d279-46a3-a7b7-6bbe3ced45f4",
   "metadata": {},
   "source": [
    "To see the price information for each `call` contract, we load the `call_contract_data` dictionary. This data structure holds the price values for each ticker and each date combination. "
   ]
  },
  {
   "cell_type": "code",
   "execution_count": 229,
   "id": "60b81fdf-a551-4272-b86b-91faf8570fc5",
   "metadata": {},
   "outputs": [
    {
     "data": {
      "text/plain": [
       "Dict{Tuple, NamedTuple} with 56 entries:\n",
       "  (\"AMD\", Date(\"2023-04-17… => (data = Dict{Float64, Union{Nothing, DataFrame}}…\n",
       "  (\"NVDA\", Date(\"2023-02-2… => (data = Dict{Float64, Union{Nothing, DataFrame}}…\n",
       "  (\"SPY\", Date(\"2023-06-05… => (data = Dict{Float64, Union{Nothing, DataFrame}}…\n",
       "  (\"AAPL\", Date(\"2023-06-0… => (data = Dict{Float64, Union{Nothing, DataFrame}}…\n",
       "  (\"NVDA\", Date(\"2023-07-2… => (data = Dict{Float64, Union{Nothing, DataFrame}}…\n",
       "  (\"AAPL\", Date(\"2023-10-3… => (data = Dict{Float64, Union{Nothing, DataFrame}}…\n",
       "  (\"SPY\", Date(\"2023-01-03… => (data = Dict{Float64, Union{Nothing, DataFrame}}…\n",
       "  (\"NVDA\", Date(\"2023-04-1… => (data = Dict{Float64, Union{Nothing, DataFrame}}…\n",
       "  (\"MSFT\", Date(\"2023-04-1… => (data = Dict{Float64, Union{Nothing, DataFrame}}…\n",
       "  (\"MSFT\", Date(\"2023-06-0… => (data = Dict{Float64, Union{Nothing, DataFrame}}…\n",
       "  (\"AMD\", Date(\"2023-02-22… => (data = Dict{Float64, Union{Nothing, DataFrame}}…\n",
       "  (\"ADBE\", Date(\"2023-07-2… => (data = Dict{Float64, Union{Nothing, DataFrame}}…\n",
       "  (\"NVDA\", Date(\"2023-06-0… => (data = Dict{Float64, Union{Nothing, DataFrame}}…\n",
       "  (\"SPY\", Date(\"2023-02-22… => (data = Dict{Float64, Union{Nothing, DataFrame}}…\n",
       "  (\"GS\", Date(\"2023-01-03\"… => (data = Dict{Float64, Union{Nothing, DataFrame}}…\n",
       "  (\"AAPL\", Date(\"2023-02-2… => (data = Dict{Float64, Union{Nothing, DataFrame}}…\n",
       "  (\"GS\", Date(\"2023-09-11\"… => (data = Dict{Float64, Union{Nothing, DataFrame}}…\n",
       "  (\"MSFT\", Date(\"2023-02-2… => (data = Dict{Float64, Union{Nothing, DataFrame}}…\n",
       "  (\"SPY\", Date(\"2023-10-30… => (data = Dict{Float64, Union{Nothing, DataFrame}}…\n",
       "  (\"AAPL\", Date(\"2023-01-0… => (data = Dict{Float64, Union{Nothing, DataFrame}}…\n",
       "  (\"QQQ\", Date(\"2023-09-11… => (data = Dict{Float64, Union{Nothing, DataFrame}}…\n",
       "  (\"GS\", Date(\"2023-06-05\"… => (data = Dict{Float64, Union{Nothing, DataFrame}}…\n",
       "  (\"GS\", Date(\"2023-04-17\"… => (data = Dict{Float64, Union{Nothing, DataFrame}}…\n",
       "  (\"AMD\", Date(\"2023-10-30… => (data = Dict{Float64, Union{Nothing, DataFrame}}…\n",
       "  (\"GS\", Date(\"2023-07-24\"… => (data = Dict{Float64, Union{Nothing, DataFrame}}…\n",
       "  ⋮                         => ⋮"
      ]
     },
     "execution_count": 229,
     "metadata": {},
     "output_type": "execute_result"
    }
   ],
   "source": [
    "call_contract_data = load(joinpath(_PATH_TO_DATA, \"Options-Call-Daily-OHLC-45d-2023.jld2\")) |> x -> x[\"dataset\"]"
   ]
  },
  {
   "cell_type": "code",
   "execution_count": 230,
   "id": "9dbb0138-dce8-4b8b-a80c-64f5d9d05383",
   "metadata": {},
   "outputs": [
    {
     "data": {
      "text/plain": [
       "Dict{Tuple, NamedTuple} with 56 entries:\n",
       "  (\"AMD\", Date(\"2023-04-17… => (data = Dict{Float64, Union{Nothing, DataFrame}}…\n",
       "  (\"NVDA\", Date(\"2023-02-2… => (data = Dict{Float64, Union{Nothing, DataFrame}}…\n",
       "  (\"SPY\", Date(\"2023-06-05… => (data = Dict{Float64, Union{Nothing, DataFrame}}…\n",
       "  (\"AAPL\", Date(\"2023-06-0… => (data = Dict{Float64, Union{Nothing, DataFrame}}…\n",
       "  (\"NVDA\", Date(\"2023-07-2… => (data = Dict{Float64, Union{Nothing, DataFrame}}…\n",
       "  (\"AAPL\", Date(\"2023-10-3… => (data = Dict{Float64, Union{Nothing, DataFrame}}…\n",
       "  (\"SPY\", Date(\"2023-01-03… => (data = Dict{Float64, Union{Nothing, DataFrame}}…\n",
       "  (\"NVDA\", Date(\"2023-04-1… => (data = Dict{Float64, Union{Nothing, DataFrame}}…\n",
       "  (\"MSFT\", Date(\"2023-04-1… => (data = Dict{Float64, Union{Nothing, DataFrame}}…\n",
       "  (\"MSFT\", Date(\"2023-06-0… => (data = Dict{Float64, Union{Nothing, DataFrame}}…\n",
       "  (\"AMD\", Date(\"2023-02-22… => (data = Dict{Float64, Union{Nothing, DataFrame}}…\n",
       "  (\"ADBE\", Date(\"2023-07-2… => (data = Dict{Float64, Union{Nothing, DataFrame}}…\n",
       "  (\"NVDA\", Date(\"2023-06-0… => (data = Dict{Float64, Union{Nothing, DataFrame}}…\n",
       "  (\"SPY\", Date(\"2023-02-22… => (data = Dict{Float64, Union{Nothing, DataFrame}}…\n",
       "  (\"GS\", Date(\"2023-01-03\"… => (data = Dict{Float64, Union{Nothing, DataFrame}}…\n",
       "  (\"AAPL\", Date(\"2023-02-2… => (data = Dict{Float64, Union{Nothing, DataFrame}}…\n",
       "  (\"GS\", Date(\"2023-09-11\"… => (data = Dict{Float64, Union{Nothing, DataFrame}}…\n",
       "  (\"MSFT\", Date(\"2023-02-2… => (data = Dict{Float64, Union{Nothing, DataFrame}}…\n",
       "  (\"SPY\", Date(\"2023-10-30… => (data = Dict{Float64, Union{Nothing, DataFrame}}…\n",
       "  (\"AAPL\", Date(\"2023-01-0… => (data = Dict{Float64, Union{Nothing, DataFrame}}…\n",
       "  (\"QQQ\", Date(\"2023-09-11… => (data = Dict{Float64, Union{Nothing, DataFrame}}…\n",
       "  (\"GS\", Date(\"2023-06-05\"… => (data = Dict{Float64, Union{Nothing, DataFrame}}…\n",
       "  (\"GS\", Date(\"2023-04-17\"… => (data = Dict{Float64, Union{Nothing, DataFrame}}…\n",
       "  (\"AMD\", Date(\"2023-10-30… => (data = Dict{Float64, Union{Nothing, DataFrame}}…\n",
       "  (\"GS\", Date(\"2023-07-24\"… => (data = Dict{Float64, Union{Nothing, DataFrame}}…\n",
       "  ⋮                         => ⋮"
      ]
     },
     "execution_count": 230,
     "metadata": {},
     "output_type": "execute_result"
    }
   ],
   "source": [
    "call_contract_data"
   ]
  },
  {
   "cell_type": "markdown",
   "id": "6f938e91-34a2-4474-a37b-6ae89322ad3e",
   "metadata": {},
   "source": [
    "We access this information by constructing a `tuple,` with the first item being the `ticker,` the second being the `sell` data, and the third item being the expiration date.\n",
    "* For example, to look at the data for an `AMD` call sold on `2023-06-05` and expiring on `2023-07-21`, the `key` would be:"
   ]
  },
  {
   "cell_type": "code",
   "execution_count": 231,
   "id": "a2b30422-2680-4b5e-8f49-518628629723",
   "metadata": {},
   "outputs": [],
   "source": [
    "test_key = (\"ADBE\", Date(\"2023-01-03\"), Date(\"2023-02-17\"));"
   ]
  },
  {
   "cell_type": "markdown",
   "id": "c3bfc254-6010-48d0-8a25-942dad85b700",
   "metadata": {},
   "source": [
    "passing this `key` into the `call_contract_data` dictionary gives us a `dictionary` holding the `OHLC` data for several strike prices:"
   ]
  },
  {
   "cell_type": "code",
   "execution_count": 232,
   "id": "07b30610-5ab5-4cbc-8e27-70f59904c26b",
   "metadata": {},
   "outputs": [
    {
     "data": {
      "text/plain": [
       "Dict{Float64, Union{Nothing, DataFrame}} with 13 entries:\n",
       "  315.0 => \u001b[1m19×8 DataFrame\u001b[0m\u001b[0m…\n",
       "  305.0 => \u001b[1m3×8 DataFrame\u001b[0m\u001b[0m…\n",
       "  345.0 => \u001b[1m32×8 DataFrame\u001b[0m\u001b[0m…\n",
       "  310.0 => \u001b[1m9×8 DataFrame\u001b[0m\u001b[0m…\n",
       "  325.0 => \u001b[1m22×8 DataFrame\u001b[0m\u001b[0m…\n",
       "  365.0 => \u001b[1m33×8 DataFrame\u001b[0m\u001b[0m…\n",
       "  340.0 => \u001b[1m29×8 DataFrame\u001b[0m\u001b[0m…\n",
       "  350.0 => \u001b[1m33×8 DataFrame\u001b[0m\u001b[0m…\n",
       "  335.0 => \u001b[1m29×8 DataFrame\u001b[0m\u001b[0m…\n",
       "  330.0 => \u001b[1m30×8 DataFrame\u001b[0m\u001b[0m…\n",
       "  355.0 => \u001b[1m33×8 DataFrame\u001b[0m\u001b[0m…\n",
       "  320.0 => \u001b[1m18×8 DataFrame\u001b[0m\u001b[0m…\n",
       "  360.0 => \u001b[1m33×8 DataFrame\u001b[0m\u001b[0m…"
      ]
     },
     "execution_count": 232,
     "metadata": {},
     "output_type": "execute_result"
    }
   ],
   "source": [
    "ADBE = call_contract_data[test_key] |> x-> x[:data]"
   ]
  },
  {
   "cell_type": "code",
   "execution_count": 235,
   "id": "6dbfdd9e-e33d-4c22-8439-b4f68813ecd7",
   "metadata": {},
   "outputs": [],
   "source": [
    "original_dataset = load(joinpath(_PATH_TO_DATA, \n",
    "        \"SP500-Daily-OHLC-1-3-2018-to-12-01-2023.jld2\")) |> x-> x[\"dataset\"];"
   ]
  },
  {
   "cell_type": "code",
   "execution_count": 236,
   "id": "f9cf40e9-74f0-4b78-979b-da1a65116c0c",
   "metadata": {
    "jupyter": {
     "source_hidden": true
    }
   },
   "outputs": [],
   "source": [
    "maximum_number_trading_days = original_dataset[\"MSFT\"] |> nrow;\n",
    "\n",
    "dataset = Dict{String,DataFrame}();\n",
    "for (ticker,data) ∈ original_dataset\n",
    "    if (nrow(data) == maximum_number_trading_days)\n",
    "        dataset[ticker] = data;\n",
    "    end\n",
    "end\n",
    "dataset;\n",
    "\n",
    "all_tickers = keys(dataset) |> collect |> sort;\n",
    "K = length(all_tickers);\n",
    "\n",
    "startdate = Date(2023,01,03);\n",
    "MSFT_dataset = dataset[\"MSFT\"];\n",
    "MSFT_df = filter(:timestamp => x-> x >= startdate, MSFT_dataset);"
   ]
  },
  {
   "cell_type": "code",
   "execution_count": 239,
   "id": "1bf9d97e-4577-43dc-8b33-db2768a58899",
   "metadata": {
    "scrolled": true
   },
   "outputs": [
    {
     "data": {
      "text/plain": [
       "option_value (generic function with 1 method)"
      ]
     },
     "execution_count": 239,
     "metadata": {},
     "output_type": "execute_result"
    }
   ],
   "source": [
    "function option_value(market_df::DataFrame, options_df::DataFrame, strike_price::Float64)\n",
    "    last_day = maximum(options_df[:, :timestamp])\n",
    "    last_day_market_info = market_df[market_df[:, :timestamp] .== last_day, :]\n",
    "\n",
    "    last_day_market_price = last_day_market_info[1, :close]\n",
    "    if last_day_market_price < strike_price\n",
    "        # If the option expires worthless return 1.0, otherwise return 0.0\n",
    "        return 1.0\n",
    "    end\n",
    "end\n"
   ]
  },
  {
   "cell_type": "code",
   "execution_count": 802,
   "id": "1f12b38c-acdd-4deb-b757-57887d6aa3e5",
   "metadata": {},
   "outputs": [
    {
     "data": {
      "text/plain": [
       "get_good_calls (generic function with 1 method)"
      ]
     },
     "execution_count": 802,
     "metadata": {},
     "output_type": "execute_result"
    }
   ],
   "source": [
    "function get_good_calls(ticker::String, AssetDict::Dict{Float64, Union{Nothing, DataFrame}})\n",
    "    good_calls = []\n",
    "    for (strike_price, options_df) in AssetDict\n",
    "        result = option_value(tech_price_df[ticker], options_df, strike_price)\n",
    "        sale_date = Date(minimum(options_df[:, :timestamp]))\n",
    "        market_df = tech_price_df[ticker]\n",
    "        last_day_market_info = market_df[market_df[:, :timestamp] .== minimum(options_df[:, :timestamp]), :]\n",
    "        last_day_market_price = last_day_market_info[1, :close]\n",
    "        \n",
    "        if result !== nothing\n",
    "            premium = round(options_df[1, :][\"volume_weighted_average_price\"] * 100, digits=2)\n",
    "            call_description = \"On $sale_date when $ticker is trading at $last_day_market_price, sell a call with a strike price $strike_price for a premium $premium.\"\n",
    "            push!(good_calls, call_description, premium) \n",
    "        end\n",
    "    end\n",
    "\n",
    "    return good_calls\n",
    "end"
   ]
  },
  {
   "cell_type": "code",
   "execution_count": 804,
   "id": "aea9536f-844b-41d8-9362-4d0261ed45a4",
   "metadata": {},
   "outputs": [],
   "source": [
    "tech_portfolio = [\"AMD\", \"AAPL\", \"MSFT\", \"NVDA\", \"ADBE\", \"SPY\"]\n",
    "tech_contracts = Dict()\n",
    "\n",
    "for (key, value) in call_contract_data\n",
    "    ticker, date = key\n",
    "    if ticker in tech_portfolio\n",
    "        tech_contracts[key] = value\n",
    "    end\n",
    "end"
   ]
  },
  {
   "cell_type": "code",
   "execution_count": 805,
   "id": "9592b612-33c1-44f5-a894-898a43a234d1",
   "metadata": {},
   "outputs": [
    {
     "data": {
      "text/plain": [
       "Dict{Any, Any} with 42 entries:\n",
       "  (\"ADBE\", Date(\"2023-02-2… => (data = Dict{Float64, Union{Nothing, DataFrame}}…\n",
       "  (\"ADBE\", Date(\"2023-10-3… => (data = Dict{Float64, Union{Nothing, DataFrame}}…\n",
       "  (\"AMD\", Date(\"2023-04-17… => (data = Dict{Float64, Union{Nothing, DataFrame}}…\n",
       "  (\"NVDA\", Date(\"2023-02-2… => (data = Dict{Float64, Union{Nothing, DataFrame}}…\n",
       "  (\"SPY\", Date(\"2023-06-05… => (data = Dict{Float64, Union{Nothing, DataFrame}}…\n",
       "  (\"AAPL\", Date(\"2023-06-0… => (data = Dict{Float64, Union{Nothing, DataFrame}}…\n",
       "  (\"NVDA\", Date(\"2023-07-2… => (data = Dict{Float64, Union{Nothing, DataFrame}}…\n",
       "  (\"AAPL\", Date(\"2023-10-3… => (data = Dict{Float64, Union{Nothing, DataFrame}}…\n",
       "  (\"SPY\", Date(\"2023-09-11… => (data = Dict{Float64, Union{Nothing, DataFrame}}…\n",
       "  (\"ADBE\", Date(\"2023-06-0… => (data = Dict{Float64, Union{Nothing, DataFrame}}…\n",
       "  (\"SPY\", Date(\"2023-01-03… => (data = Dict{Float64, Union{Nothing, DataFrame}}…\n",
       "  (\"NVDA\", Date(\"2023-04-1… => (data = Dict{Float64, Union{Nothing, DataFrame}}…\n",
       "  (\"ADBE\", Date(\"2023-09-1… => (data = Dict{Float64, Union{Nothing, DataFrame}}…\n",
       "  (\"MSFT\", Date(\"2023-01-0… => (data = Dict{Float64, Union{Nothing, DataFrame}}…\n",
       "  (\"MSFT\", Date(\"2023-04-1… => (data = Dict{Float64, Union{Nothing, DataFrame}}…\n",
       "  (\"MSFT\", Date(\"2023-06-0… => (data = Dict{Float64, Union{Nothing, DataFrame}}…\n",
       "  (\"AMD\", Date(\"2023-02-22… => (data = Dict{Float64, Union{Nothing, DataFrame}}…\n",
       "  (\"ADBE\", Date(\"2023-07-2… => (data = Dict{Float64, Union{Nothing, DataFrame}}…\n",
       "  (\"NVDA\", Date(\"2023-06-0… => (data = Dict{Float64, Union{Nothing, DataFrame}}…\n",
       "  (\"SPY\", Date(\"2023-02-22… => (data = Dict{Float64, Union{Nothing, DataFrame}}…\n",
       "  (\"MSFT\", Date(\"2023-07-2… => (data = Dict{Float64, Union{Nothing, DataFrame}}…\n",
       "  (\"SPY\", Date(\"2023-04-17… => (data = Dict{Float64, Union{Nothing, DataFrame}}…\n",
       "  (\"MSFT\", Date(\"2023-10-3… => (data = Dict{Float64, Union{Nothing, DataFrame}}…\n",
       "  (\"AMD\", Date(\"2023-09-11… => (data = Dict{Float64, Union{Nothing, DataFrame}}…\n",
       "  (\"AMD\", Date(\"2023-06-05… => (data = Dict{Float64, Union{Nothing, DataFrame}}…\n",
       "  ⋮                         => ⋮"
      ]
     },
     "execution_count": 805,
     "metadata": {},
     "output_type": "execute_result"
    }
   ],
   "source": [
    "tech_contracts"
   ]
  },
  {
   "cell_type": "code",
   "execution_count": 806,
   "id": "99b97756-980b-4d84-9872-2527741950d5",
   "metadata": {},
   "outputs": [
    {
     "data": {
      "text/plain": [
       "3-element Vector{Tuple{Date, Date, Int64}}:\n",
       " (Date(\"2023-01-03\"), Date(\"2023-02-17\"), 45)\n",
       " (Date(\"2023-02-22\"), Date(\"2023-04-14\"), 51)\n",
       " (Date(\"2023-04-17\"), Date(\"2023-06-02\"), 46)"
      ]
     },
     "execution_count": 806,
     "metadata": {},
     "output_type": "execute_result"
    }
   ],
   "source": [
    "call_contract_dates[1:3]"
   ]
  },
  {
   "cell_type": "code",
   "execution_count": 807,
   "id": "275543a2-1713-40ba-9f8e-3febbc453668",
   "metadata": {},
   "outputs": [],
   "source": [
    "MyFirmParametersDataSet() = _loadcsvfile(joinpath(_PATH_TO_DATA, \"Parameters-SP500-2018-2022.csv\"));"
   ]
  },
  {
   "cell_type": "code",
   "execution_count": 808,
   "id": "99dbc58c-768e-445d-bc25-a54858f27621",
   "metadata": {},
   "outputs": [
    {
     "data": {
      "text/html": [
       "<div><div style = \"float: left;\"><span>458×4 DataFrame</span></div><div style = \"float: right;\"><span style = \"font-style: italic;\">433 rows omitted</span></div><div style = \"clear: both;\"></div></div><div class = \"data-frame\" style = \"overflow-x: scroll;\"><table class = \"data-frame\" style = \"margin-bottom: 6px;\"><thead><tr class = \"header\"><th class = \"rowNumber\" style = \"font-weight: bold; text-align: right;\">Row</th><th style = \"text-align: left;\">index</th><th style = \"text-align: left;\">ticker</th><th style = \"text-align: left;\">drift</th><th style = \"text-align: left;\">volatility</th></tr><tr class = \"subheader headerLastRow\"><th class = \"rowNumber\" style = \"font-weight: bold; text-align: right;\"></th><th title = \"Int64\" style = \"text-align: left;\">Int64</th><th title = \"String7\" style = \"text-align: left;\">String7</th><th title = \"Float64\" style = \"text-align: left;\">Float64</th><th title = \"Float64\" style = \"text-align: left;\">Float64</th></tr></thead><tbody><tr><td class = \"rowNumber\" style = \"font-weight: bold; text-align: right;\">1</td><td style = \"text-align: right;\">1</td><td style = \"text-align: left;\">MMM</td><td style = \"text-align: right;\">-0.0822692</td><td style = \"text-align: right;\">0.238729</td></tr><tr><td class = \"rowNumber\" style = \"font-weight: bold; text-align: right;\">2</td><td style = \"text-align: right;\">2</td><td style = \"text-align: left;\">AOS</td><td style = \"text-align: right;\">0.0441975</td><td style = \"text-align: right;\">0.266025</td></tr><tr><td class = \"rowNumber\" style = \"font-weight: bold; text-align: right;\">3</td><td style = \"text-align: right;\">3</td><td style = \"text-align: left;\">ABT</td><td style = \"text-align: right;\">0.151149</td><td style = \"text-align: right;\">0.230271</td></tr><tr><td class = \"rowNumber\" style = \"font-weight: bold; text-align: right;\">4</td><td style = \"text-align: right;\">4</td><td style = \"text-align: left;\">ABBV</td><td style = \"text-align: right;\">0.118596</td><td style = \"text-align: right;\">0.266743</td></tr><tr><td class = \"rowNumber\" style = \"font-weight: bold; text-align: right;\">5</td><td style = \"text-align: right;\">6</td><td style = \"text-align: left;\">ACN</td><td style = \"text-align: right;\">0.178695</td><td style = \"text-align: right;\">0.250005</td></tr><tr><td class = \"rowNumber\" style = \"font-weight: bold; text-align: right;\">6</td><td style = \"text-align: right;\">7</td><td style = \"text-align: left;\">ATVI</td><td style = \"text-align: right;\">0.0745844</td><td style = \"text-align: right;\">0.305086</td></tr><tr><td class = \"rowNumber\" style = \"font-weight: bold; text-align: right;\">7</td><td style = \"text-align: right;\">8</td><td style = \"text-align: left;\">ADM</td><td style = \"text-align: right;\">0.161607</td><td style = \"text-align: right;\">0.237929</td></tr><tr><td class = \"rowNumber\" style = \"font-weight: bold; text-align: right;\">8</td><td style = \"text-align: right;\">9</td><td style = \"text-align: left;\">ADBE</td><td style = \"text-align: right;\">0.171392</td><td style = \"text-align: right;\">0.307362</td></tr><tr><td class = \"rowNumber\" style = \"font-weight: bold; text-align: right;\">9</td><td style = \"text-align: right;\">10</td><td style = \"text-align: left;\">AAP</td><td style = \"text-align: right;\">0.0890969</td><td style = \"text-align: right;\">0.307218</td></tr><tr><td class = \"rowNumber\" style = \"font-weight: bold; text-align: right;\">10</td><td style = \"text-align: right;\">11</td><td style = \"text-align: left;\">AMD</td><td style = \"text-align: right;\">0.460484</td><td style = \"text-align: right;\">0.468767</td></tr><tr><td class = \"rowNumber\" style = \"font-weight: bold; text-align: right;\">11</td><td style = \"text-align: right;\">12</td><td style = \"text-align: left;\">AES</td><td style = \"text-align: right;\">0.163333</td><td style = \"text-align: right;\">0.323119</td></tr><tr><td class = \"rowNumber\" style = \"font-weight: bold; text-align: right;\">12</td><td style = \"text-align: right;\">13</td><td style = \"text-align: left;\">AFL</td><td style = \"text-align: right;\">0.0672164</td><td style = \"text-align: right;\">0.272687</td></tr><tr><td class = \"rowNumber\" style = \"font-weight: bold; text-align: right;\">13</td><td style = \"text-align: right;\">14</td><td style = \"text-align: left;\">A</td><td style = \"text-align: right;\">0.200418</td><td style = \"text-align: right;\">0.256747</td></tr><tr><td style = \"text-align: right;\">&vellip;</td><td style = \"text-align: right;\">&vellip;</td><td style = \"text-align: right;\">&vellip;</td><td style = \"text-align: right;\">&vellip;</td><td style = \"text-align: right;\">&vellip;</td></tr><tr><td class = \"rowNumber\" style = \"font-weight: bold; text-align: right;\">447</td><td style = \"text-align: right;\">492</td><td style = \"text-align: left;\">WRK</td><td style = \"text-align: right;\">-0.0370295</td><td style = \"text-align: right;\">0.356485</td></tr><tr><td class = \"rowNumber\" style = \"font-weight: bold; text-align: right;\">448</td><td style = \"text-align: right;\">493</td><td style = \"text-align: left;\">WY</td><td style = \"text-align: right;\">0.0431223</td><td style = \"text-align: right;\">0.323738</td></tr><tr><td class = \"rowNumber\" style = \"font-weight: bold; text-align: right;\">449</td><td style = \"text-align: right;\">494</td><td style = \"text-align: left;\">WHR</td><td style = \"text-align: right;\">0.0772521</td><td style = \"text-align: right;\">0.345513</td></tr><tr><td class = \"rowNumber\" style = \"font-weight: bold; text-align: right;\">450</td><td style = \"text-align: right;\">495</td><td style = \"text-align: left;\">WMB</td><td style = \"text-align: right;\">0.0319938</td><td style = \"text-align: right;\">0.326874</td></tr><tr><td class = \"rowNumber\" style = \"font-weight: bold; text-align: right;\">451</td><td style = \"text-align: right;\">497</td><td style = \"text-align: left;\">WYNN</td><td style = \"text-align: right;\">-0.169108</td><td style = \"text-align: right;\">0.518227</td></tr><tr><td class = \"rowNumber\" style = \"font-weight: bold; text-align: right;\">452</td><td style = \"text-align: right;\">498</td><td style = \"text-align: left;\">XEL</td><td style = \"text-align: right;\">0.093815</td><td style = \"text-align: right;\">0.201305</td></tr><tr><td class = \"rowNumber\" style = \"font-weight: bold; text-align: right;\">453</td><td style = \"text-align: right;\">500</td><td style = \"text-align: left;\">XYL</td><td style = \"text-align: right;\">0.0931437</td><td style = \"text-align: right;\">0.2765</td></tr><tr><td class = \"rowNumber\" style = \"font-weight: bold; text-align: right;\">454</td><td style = \"text-align: right;\">501</td><td style = \"text-align: left;\">YUM</td><td style = \"text-align: right;\">0.084114</td><td style = \"text-align: right;\">0.235818</td></tr><tr><td class = \"rowNumber\" style = \"font-weight: bold; text-align: right;\">455</td><td style = \"text-align: right;\">502</td><td style = \"text-align: left;\">ZBRA</td><td style = \"text-align: right;\">0.249251</td><td style = \"text-align: right;\">0.353413</td></tr><tr><td class = \"rowNumber\" style = \"font-weight: bold; text-align: right;\">456</td><td style = \"text-align: right;\">503</td><td style = \"text-align: left;\">ZBH</td><td style = \"text-align: right;\">0.0162484</td><td style = \"text-align: right;\">0.291476</td></tr><tr><td class = \"rowNumber\" style = \"font-weight: bold; text-align: right;\">457</td><td style = \"text-align: right;\">504</td><td style = \"text-align: left;\">ZION</td><td style = \"text-align: right;\">0.0336192</td><td style = \"text-align: right;\">0.345286</td></tr><tr><td class = \"rowNumber\" style = \"font-weight: bold; text-align: right;\">458</td><td style = \"text-align: right;\">505</td><td style = \"text-align: left;\">ZTS</td><td style = \"text-align: right;\">0.192</td><td style = \"text-align: right;\">0.24808</td></tr></tbody></table></div>"
      ],
      "text/latex": [
       "\\begin{tabular}{r|cccc}\n",
       "\t& index & ticker & drift & volatility\\\\\n",
       "\t\\hline\n",
       "\t& Int64 & String7 & Float64 & Float64\\\\\n",
       "\t\\hline\n",
       "\t1 & 1 & MMM & -0.0822692 & 0.238729 \\\\\n",
       "\t2 & 2 & AOS & 0.0441975 & 0.266025 \\\\\n",
       "\t3 & 3 & ABT & 0.151149 & 0.230271 \\\\\n",
       "\t4 & 4 & ABBV & 0.118596 & 0.266743 \\\\\n",
       "\t5 & 6 & ACN & 0.178695 & 0.250005 \\\\\n",
       "\t6 & 7 & ATVI & 0.0745844 & 0.305086 \\\\\n",
       "\t7 & 8 & ADM & 0.161607 & 0.237929 \\\\\n",
       "\t8 & 9 & ADBE & 0.171392 & 0.307362 \\\\\n",
       "\t9 & 10 & AAP & 0.0890969 & 0.307218 \\\\\n",
       "\t10 & 11 & AMD & 0.460484 & 0.468767 \\\\\n",
       "\t11 & 12 & AES & 0.163333 & 0.323119 \\\\\n",
       "\t12 & 13 & AFL & 0.0672164 & 0.272687 \\\\\n",
       "\t13 & 14 & A & 0.200418 & 0.256747 \\\\\n",
       "\t14 & 15 & APD & 0.124713 & 0.234286 \\\\\n",
       "\t15 & 16 & AKAM & 0.0938754 & 0.2618 \\\\\n",
       "\t16 & 17 & ALK & -0.067659 & 0.42922 \\\\\n",
       "\t17 & 18 & ALB & 0.272078 & 0.428068 \\\\\n",
       "\t18 & 19 & ARE & 0.0796148 & 0.23063 \\\\\n",
       "\t19 & 20 & ALGN & 0.0913652 & 0.473977 \\\\\n",
       "\t20 & 21 & ALLE & 0.0747817 & 0.274496 \\\\\n",
       "\t21 & 22 & LNT & 0.0789945 & 0.210932 \\\\\n",
       "\t22 & 23 & ALL & 0.0778417 & 0.247462 \\\\\n",
       "\t23 & 24 & GOOGL & 0.210544 & 0.259927 \\\\\n",
       "\t24 & 25 & GOOG & 0.214113 & 0.260074 \\\\\n",
       "\t25 & 26 & MO & -0.0526736 & 0.247455 \\\\\n",
       "\t26 & 27 & AMZN & 0.144741 & 0.303115 \\\\\n",
       "\t27 & 29 & AEE & 0.0879334 & 0.212974 \\\\\n",
       "\t28 & 30 & AAL & -0.250542 & 0.563645 \\\\\n",
       "\t29 & 31 & AEP & 0.0577161 & 0.211728 \\\\\n",
       "\t30 & 32 & AXP & 0.120525 & 0.329017 \\\\\n",
       "\t$\\dots$ & $\\dots$ & $\\dots$ & $\\dots$ & $\\dots$ \\\\\n",
       "\\end{tabular}\n"
      ],
      "text/plain": [
       "\u001b[1m458×4 DataFrame\u001b[0m\n",
       "\u001b[1m Row \u001b[0m│\u001b[1m index \u001b[0m\u001b[1m ticker  \u001b[0m\u001b[1m drift      \u001b[0m\u001b[1m volatility \u001b[0m\n",
       "     │\u001b[90m Int64 \u001b[0m\u001b[90m String7 \u001b[0m\u001b[90m Float64    \u001b[0m\u001b[90m Float64    \u001b[0m\n",
       "─────┼────────────────────────────────────────\n",
       "   1 │     1  MMM      -0.0822692    0.238729\n",
       "   2 │     2  AOS       0.0441975    0.266025\n",
       "   3 │     3  ABT       0.151149     0.230271\n",
       "   4 │     4  ABBV      0.118596     0.266743\n",
       "   5 │     6  ACN       0.178695     0.250005\n",
       "   6 │     7  ATVI      0.0745844    0.305086\n",
       "   7 │     8  ADM       0.161607     0.237929\n",
       "   8 │     9  ADBE      0.171392     0.307362\n",
       "   9 │    10  AAP       0.0890969    0.307218\n",
       "  10 │    11  AMD       0.460484     0.468767\n",
       "  11 │    12  AES       0.163333     0.323119\n",
       "  ⋮  │   ⋮       ⋮         ⋮           ⋮\n",
       " 449 │   494  WHR       0.0772521    0.345513\n",
       " 450 │   495  WMB       0.0319938    0.326874\n",
       " 451 │   497  WYNN     -0.169108     0.518227\n",
       " 452 │   498  XEL       0.093815     0.201305\n",
       " 453 │   500  XYL       0.0931437    0.2765\n",
       " 454 │   501  YUM       0.084114     0.235818\n",
       " 455 │   502  ZBRA      0.249251     0.353413\n",
       " 456 │   503  ZBH       0.0162484    0.291476\n",
       " 457 │   504  ZION      0.0336192    0.345286\n",
       " 458 │   505  ZTS       0.192        0.24808\n",
       "\u001b[36m                              437 rows omitted\u001b[0m"
      ]
     },
     "execution_count": 808,
     "metadata": {},
     "output_type": "execute_result"
    }
   ],
   "source": [
    "params = MyFirmParametersDataSet()"
   ]
  },
  {
   "cell_type": "code",
   "execution_count": 809,
   "id": "71ca35f9-298a-4576-9a59-d7700998f7d6",
   "metadata": {},
   "outputs": [
    {
     "data": {
      "text/html": [
       "<div><div style = \"float: left;\"><span>6×4 DataFrame</span></div><div style = \"clear: both;\"></div></div><div class = \"data-frame\" style = \"overflow-x: scroll;\"><table class = \"data-frame\" style = \"margin-bottom: 6px;\"><thead><tr class = \"header\"><th class = \"rowNumber\" style = \"font-weight: bold; text-align: right;\">Row</th><th style = \"text-align: left;\">index</th><th style = \"text-align: left;\">ticker</th><th style = \"text-align: left;\">drift</th><th style = \"text-align: left;\">volatility</th></tr><tr class = \"subheader headerLastRow\"><th class = \"rowNumber\" style = \"font-weight: bold; text-align: right;\"></th><th title = \"Int64\" style = \"text-align: left;\">Int64</th><th title = \"String7\" style = \"text-align: left;\">String7</th><th title = \"Float64\" style = \"text-align: left;\">Float64</th><th title = \"Float64\" style = \"text-align: left;\">Float64</th></tr></thead><tbody><tr><td class = \"rowNumber\" style = \"font-weight: bold; text-align: right;\">1</td><td style = \"text-align: right;\">9</td><td style = \"text-align: left;\">ADBE</td><td style = \"text-align: right;\">0.171392</td><td style = \"text-align: right;\">0.307362</td></tr><tr><td class = \"rowNumber\" style = \"font-weight: bold; text-align: right;\">2</td><td style = \"text-align: right;\">11</td><td style = \"text-align: left;\">AMD</td><td style = \"text-align: right;\">0.460484</td><td style = \"text-align: right;\">0.468767</td></tr><tr><td class = \"rowNumber\" style = \"font-weight: bold; text-align: right;\">3</td><td style = \"text-align: right;\">27</td><td style = \"text-align: left;\">AMZN</td><td style = \"text-align: right;\">0.144741</td><td style = \"text-align: right;\">0.303115</td></tr><tr><td class = \"rowNumber\" style = \"font-weight: bold; text-align: right;\">4</td><td style = \"text-align: right;\">46</td><td style = \"text-align: left;\">AAPL</td><td style = \"text-align: right;\">0.33739</td><td style = \"text-align: right;\">0.276418</td></tr><tr><td class = \"rowNumber\" style = \"font-weight: bold; text-align: right;\">5</td><td style = \"text-align: right;\">241</td><td style = \"text-align: left;\">IBM</td><td style = \"text-align: right;\">-0.0181696</td><td style = \"text-align: right;\">0.241395</td></tr><tr><td class = \"rowNumber\" style = \"font-weight: bold; text-align: right;\">6</td><td style = \"text-align: right;\">315</td><td style = \"text-align: left;\">MSFT</td><td style = \"text-align: right;\">0.268955</td><td style = \"text-align: right;\">0.239654</td></tr></tbody></table></div>"
      ],
      "text/latex": [
       "\\begin{tabular}{r|cccc}\n",
       "\t& index & ticker & drift & volatility\\\\\n",
       "\t\\hline\n",
       "\t& Int64 & String7 & Float64 & Float64\\\\\n",
       "\t\\hline\n",
       "\t1 & 9 & ADBE & 0.171392 & 0.307362 \\\\\n",
       "\t2 & 11 & AMD & 0.460484 & 0.468767 \\\\\n",
       "\t3 & 27 & AMZN & 0.144741 & 0.303115 \\\\\n",
       "\t4 & 46 & AAPL & 0.33739 & 0.276418 \\\\\n",
       "\t5 & 241 & IBM & -0.0181696 & 0.241395 \\\\\n",
       "\t6 & 315 & MSFT & 0.268955 & 0.239654 \\\\\n",
       "\\end{tabular}\n"
      ],
      "text/plain": [
       "\u001b[1m6×4 DataFrame\u001b[0m\n",
       "\u001b[1m Row \u001b[0m│\u001b[1m index \u001b[0m\u001b[1m ticker  \u001b[0m\u001b[1m drift      \u001b[0m\u001b[1m volatility \u001b[0m\n",
       "     │\u001b[90m Int64 \u001b[0m\u001b[90m String7 \u001b[0m\u001b[90m Float64    \u001b[0m\u001b[90m Float64    \u001b[0m\n",
       "─────┼────────────────────────────────────────\n",
       "   1 │     9  ADBE      0.171392     0.307362\n",
       "   2 │    11  AMD       0.460484     0.468767\n",
       "   3 │    27  AMZN      0.144741     0.303115\n",
       "   4 │    46  AAPL      0.33739      0.276418\n",
       "   5 │   241  IBM      -0.0181696    0.241395\n",
       "   6 │   315  MSFT      0.268955     0.239654"
      ]
     },
     "execution_count": 809,
     "metadata": {},
     "output_type": "execute_result"
    }
   ],
   "source": [
    "tech_portfolio = [\"AMD\", \"AAPL\", \"MSFT\", \"IBM\", \"ADBE\", \"AMZN\"]\n",
    "tech_params = filter(row -> row[:ticker] in tech_portfolio, params)"
   ]
  },
  {
   "cell_type": "code",
   "execution_count": 810,
   "id": "bbe727f8-ccd0-44f3-9c37-5d64fe0b58be",
   "metadata": {},
   "outputs": [
    {
     "data": {
      "text/plain": [
       "6-element Vector{Float64}:\n",
       "  0.5576236300689372\n",
       "  0.9823318860023869\n",
       "  0.4775115125933747\n",
       "  1.220581292852611\n",
       " -0.07526920226807625\n",
       "  1.1222653702327074"
      ]
     },
     "execution_count": 810,
     "metadata": {},
     "output_type": "execute_result"
    }
   ],
   "source": [
    "tech_params[!, \"mod_sharpe\"] = tech_params[!, \"drift\"] ./ tech_params[!, \"volatility\"]"
   ]
  },
  {
   "cell_type": "code",
   "execution_count": 811,
   "id": "0da0d0cf-3644-4110-834f-cd2282c4d8a8",
   "metadata": {},
   "outputs": [
    {
     "data": {
      "text/html": [
       "<div><div style = \"float: left;\"><span>6×5 DataFrame</span></div><div style = \"clear: both;\"></div></div><div class = \"data-frame\" style = \"overflow-x: scroll;\"><table class = \"data-frame\" style = \"margin-bottom: 6px;\"><thead><tr class = \"header\"><th class = \"rowNumber\" style = \"font-weight: bold; text-align: right;\">Row</th><th style = \"text-align: left;\">index</th><th style = \"text-align: left;\">ticker</th><th style = \"text-align: left;\">drift</th><th style = \"text-align: left;\">volatility</th><th style = \"text-align: left;\">mod_sharpe</th></tr><tr class = \"subheader headerLastRow\"><th class = \"rowNumber\" style = \"font-weight: bold; text-align: right;\"></th><th title = \"Int64\" style = \"text-align: left;\">Int64</th><th title = \"String7\" style = \"text-align: left;\">String7</th><th title = \"Float64\" style = \"text-align: left;\">Float64</th><th title = \"Float64\" style = \"text-align: left;\">Float64</th><th title = \"Float64\" style = \"text-align: left;\">Float64</th></tr></thead><tbody><tr><td class = \"rowNumber\" style = \"font-weight: bold; text-align: right;\">1</td><td style = \"text-align: right;\">9</td><td style = \"text-align: left;\">ADBE</td><td style = \"text-align: right;\">0.171392</td><td style = \"text-align: right;\">0.307362</td><td style = \"text-align: right;\">0.557624</td></tr><tr><td class = \"rowNumber\" style = \"font-weight: bold; text-align: right;\">2</td><td style = \"text-align: right;\">11</td><td style = \"text-align: left;\">AMD</td><td style = \"text-align: right;\">0.460484</td><td style = \"text-align: right;\">0.468767</td><td style = \"text-align: right;\">0.982332</td></tr><tr><td class = \"rowNumber\" style = \"font-weight: bold; text-align: right;\">3</td><td style = \"text-align: right;\">27</td><td style = \"text-align: left;\">AMZN</td><td style = \"text-align: right;\">0.144741</td><td style = \"text-align: right;\">0.303115</td><td style = \"text-align: right;\">0.477512</td></tr><tr><td class = \"rowNumber\" style = \"font-weight: bold; text-align: right;\">4</td><td style = \"text-align: right;\">46</td><td style = \"text-align: left;\">AAPL</td><td style = \"text-align: right;\">0.33739</td><td style = \"text-align: right;\">0.276418</td><td style = \"text-align: right;\">1.22058</td></tr><tr><td class = \"rowNumber\" style = \"font-weight: bold; text-align: right;\">5</td><td style = \"text-align: right;\">241</td><td style = \"text-align: left;\">IBM</td><td style = \"text-align: right;\">-0.0181696</td><td style = \"text-align: right;\">0.241395</td><td style = \"text-align: right;\">-0.0752692</td></tr><tr><td class = \"rowNumber\" style = \"font-weight: bold; text-align: right;\">6</td><td style = \"text-align: right;\">315</td><td style = \"text-align: left;\">MSFT</td><td style = \"text-align: right;\">0.268955</td><td style = \"text-align: right;\">0.239654</td><td style = \"text-align: right;\">1.12227</td></tr></tbody></table></div>"
      ],
      "text/latex": [
       "\\begin{tabular}{r|ccccc}\n",
       "\t& index & ticker & drift & volatility & mod\\_sharpe\\\\\n",
       "\t\\hline\n",
       "\t& Int64 & String7 & Float64 & Float64 & Float64\\\\\n",
       "\t\\hline\n",
       "\t1 & 9 & ADBE & 0.171392 & 0.307362 & 0.557624 \\\\\n",
       "\t2 & 11 & AMD & 0.460484 & 0.468767 & 0.982332 \\\\\n",
       "\t3 & 27 & AMZN & 0.144741 & 0.303115 & 0.477512 \\\\\n",
       "\t4 & 46 & AAPL & 0.33739 & 0.276418 & 1.22058 \\\\\n",
       "\t5 & 241 & IBM & -0.0181696 & 0.241395 & -0.0752692 \\\\\n",
       "\t6 & 315 & MSFT & 0.268955 & 0.239654 & 1.12227 \\\\\n",
       "\\end{tabular}\n"
      ],
      "text/plain": [
       "\u001b[1m6×5 DataFrame\u001b[0m\n",
       "\u001b[1m Row \u001b[0m│\u001b[1m index \u001b[0m\u001b[1m ticker  \u001b[0m\u001b[1m drift      \u001b[0m\u001b[1m volatility \u001b[0m\u001b[1m mod_sharpe \u001b[0m\n",
       "     │\u001b[90m Int64 \u001b[0m\u001b[90m String7 \u001b[0m\u001b[90m Float64    \u001b[0m\u001b[90m Float64    \u001b[0m\u001b[90m Float64    \u001b[0m\n",
       "─────┼────────────────────────────────────────────────────\n",
       "   1 │     9  ADBE      0.171392     0.307362   0.557624\n",
       "   2 │    11  AMD       0.460484     0.468767   0.982332\n",
       "   3 │    27  AMZN      0.144741     0.303115   0.477512\n",
       "   4 │    46  AAPL      0.33739      0.276418   1.22058\n",
       "   5 │   241  IBM      -0.0181696    0.241395  -0.0752692\n",
       "   6 │   315  MSFT      0.268955     0.239654   1.12227"
      ]
     },
     "execution_count": 811,
     "metadata": {},
     "output_type": "execute_result"
    }
   ],
   "source": [
    "tech_params"
   ]
  },
  {
   "cell_type": "code",
   "execution_count": 812,
   "id": "f9b25b3e-e597-4821-bdd2-7fc555be4e63",
   "metadata": {},
   "outputs": [
    {
     "name": "stdout",
     "output_type": "stream",
     "text": [
      "┌───────┬─────────┬────────────┬────────────┬────────────┐\n",
      "│\u001b[1m index \u001b[0m│\u001b[1m  ticker \u001b[0m│\u001b[1m      drift \u001b[0m│\u001b[1m volatility \u001b[0m│\u001b[1m mod_sharpe \u001b[0m│\n",
      "│\u001b[90m Int64 \u001b[0m│\u001b[90m String7 \u001b[0m│\u001b[90m    Float64 \u001b[0m│\u001b[90m    Float64 \u001b[0m│\u001b[90m    Float64 \u001b[0m│\n",
      "├───────┼─────────┼────────────┼────────────┼────────────┤\n",
      "│     9 │    ADBE │   0.171392 │   0.307362 │   0.557624 │\n",
      "│    11 │     AMD │   0.460484 │   0.468767 │   0.982332 │\n",
      "│    27 │    AMZN │   0.144741 │   0.303115 │   0.477512 │\n",
      "│    46 │    AAPL │    0.33739 │   0.276418 │    1.22058 │\n",
      "│   241 │     IBM │ -0.0181696 │   0.241395 │ -0.0752692 │\n",
      "│   315 │    MSFT │   0.268955 │   0.239654 │    1.12227 │\n",
      "└───────┴─────────┴────────────┴────────────┴────────────┘\n"
     ]
    }
   ],
   "source": [
    "p = pretty_table(tech_params)"
   ]
  },
  {
   "cell_type": "code",
   "execution_count": 813,
   "id": "e91a3914-42f6-4ae8-9cce-6f860f504005",
   "metadata": {},
   "outputs": [],
   "source": [
    "tech_portfolio = [\"ADBE\", \"AMD\", \"MSFT\", \"AAPL\", \"IBM\", \"AMZN\"]\n",
    "tech_calls = Dict()\n",
    "for (k, v) in call_contract_data\n",
    "    if k[1] in tech_portfolio\n",
    "        tech_calls[k] = v\n",
    "    end\n",
    "end"
   ]
  },
  {
   "cell_type": "code",
   "execution_count": 814,
   "id": "4d71b140-e8fa-414a-b9e9-85117a3565eb",
   "metadata": {},
   "outputs": [
    {
     "data": {
      "text/plain": [
       "Dict{Any, Any} with 28 entries:\n",
       "  (\"ADBE\", Date(\"2023-10-3… => (data = Dict{Float64, Union{Nothing, DataFrame}}…\n",
       "  (\"AMD\", Date(\"2023-04-17… => (data = Dict{Float64, Union{Nothing, DataFrame}}…\n",
       "  (\"AAPL\", Date(\"2023-06-0… => (data = Dict{Float64, Union{Nothing, DataFrame}}…\n",
       "  (\"ADBE\", Date(\"2023-06-0… => (data = Dict{Float64, Union{Nothing, DataFrame}}…\n",
       "  (\"AAPL\", Date(\"2023-10-3… => (data = Dict{Float64, Union{Nothing, DataFrame}}…\n",
       "  (\"ADBE\", Date(\"2023-09-1… => (data = Dict{Float64, Union{Nothing, DataFrame}}…\n",
       "  (\"MSFT\", Date(\"2023-01-0… => (data = Dict{Float64, Union{Nothing, DataFrame}}…\n",
       "  (\"MSFT\", Date(\"2023-07-2… => (data = Dict{Float64, Union{Nothing, DataFrame}}…\n",
       "  (\"MSFT\", Date(\"2023-04-1… => (data = Dict{Float64, Union{Nothing, DataFrame}}…\n",
       "  (\"MSFT\", Date(\"2023-06-0… => (data = Dict{Float64, Union{Nothing, DataFrame}}…\n",
       "  (\"AMD\", Date(\"2023-02-22… => (data = Dict{Float64, Union{Nothing, DataFrame}}…\n",
       "  (\"ADBE\", Date(\"2023-07-2… => (data = Dict{Float64, Union{Nothing, DataFrame}}…\n",
       "  (\"MSFT\", Date(\"2023-10-3… => (data = Dict{Float64, Union{Nothing, DataFrame}}…\n",
       "  (\"AMD\", Date(\"2023-09-11… => (data = Dict{Float64, Union{Nothing, DataFrame}}…\n",
       "  (\"AMD\", Date(\"2023-06-05… => (data = Dict{Float64, Union{Nothing, DataFrame}}…\n",
       "  (\"AAPL\", Date(\"2023-02-2… => (data = Dict{Float64, Union{Nothing, DataFrame}}…\n",
       "  (\"AMD\", Date(\"2023-07-24… => (data = Dict{Float64, Union{Nothing, DataFrame}}…\n",
       "  (\"AAPL\", Date(\"2023-09-1… => (data = Dict{Float64, Union{Nothing, DataFrame}}…\n",
       "  (\"AMD\", Date(\"2023-01-03… => (data = Dict{Float64, Union{Nothing, DataFrame}}…\n",
       "  (\"MSFT\", Date(\"2023-02-2… => (data = Dict{Float64, Union{Nothing, DataFrame}}…\n",
       "  (\"AAPL\", Date(\"2023-01-0… => (data = Dict{Float64, Union{Nothing, DataFrame}}…\n",
       "  (\"ADBE\", Date(\"2023-04-1… => (data = Dict{Float64, Union{Nothing, DataFrame}}…\n",
       "  (\"ADBE\", Date(\"2023-01-0… => (data = Dict{Float64, Union{Nothing, DataFrame}}…\n",
       "  (\"AAPL\", Date(\"2023-04-1… => (data = Dict{Float64, Union{Nothing, DataFrame}}…\n",
       "  (\"MSFT\", Date(\"2023-09-1… => (data = Dict{Float64, Union{Nothing, DataFrame}}…\n",
       "  ⋮                         => ⋮"
      ]
     },
     "execution_count": 814,
     "metadata": {},
     "output_type": "execute_result"
    }
   ],
   "source": [
    "tech_calls"
   ]
  },
  {
   "cell_type": "code",
   "execution_count": 815,
   "id": "1b8f8f01-b08e-4928-ac8a-84dbfe93db57",
   "metadata": {},
   "outputs": [
    {
     "data": {
      "text/plain": [
       "Dict{Tuple{String, Date, Date}, NamedTuple{(:data, :header), Tuple{Dict{Float64, Union{Nothing, DataFrame}}, Dict{Float64, Any}}}} with 7 entries:\n",
       "  (\"AAPL\", Date(\"2023-02-2… => (data = Dict(155.0=>\u001b[1m31×8 DataFrame\u001b[0m\u001b[0m…\n",
       "  (\"AAPL\", Date(\"2023-04-1… => (data = Dict(150.0=>\u001b[1m33×8 DataFrame\u001b[0m\u001b[0m…\n",
       "  (\"AAPL\", Date(\"2023-09-1… => (data = Dict(150.0=>\u001b[1m30×8 DataFrame\u001b[0m\u001b[0m…\n",
       "  (\"AAPL\", Date(\"2023-06-0… => (data = Dict(150.0=>\u001b[1m33×8 DataFrame\u001b[0m\u001b[0m…\n",
       "  (\"AAPL\", Date(\"2023-10-3… => (data = Dict(150.0=>\u001b[1m28×8 DataFrame\u001b[0m\u001b[0m…\n",
       "  (\"AAPL\", Date(\"2023-07-2… => (data = Dict(200.0=>\u001b[1m31×8 DataFrame\u001b[0m\u001b[0m…\n",
       "  (\"AAPL\", Date(\"2023-01-0… => (data = Dict(100.0=>\u001b[1m31×8 DataFrame\u001b[0m\u001b[0m…"
      ]
     },
     "execution_count": 815,
     "metadata": {},
     "output_type": "execute_result"
    }
   ],
   "source": [
    "adbe_calls = Dict(key => value for (key, value) in tech_calls if key[1] == \"ADBE\")\n",
    "amd_calls = Dict(key => value for (key, value) in tech_calls if key[1] == \"AMD\")\n",
    "msft_calls = Dict(key => value for (key, value) in tech_calls if key[1] == \"MSFT\")\n",
    "aapl_calls = Dict(key => value for (key, value) in tech_calls if key[1] == \"AAPL\")"
   ]
  },
  {
   "cell_type": "code",
   "execution_count": 816,
   "id": "1aa4dfec-3d5a-4f48-b357-83fc3192638f",
   "metadata": {},
   "outputs": [
    {
     "data": {
      "text/plain": [
       "4-element Vector{String}:\n",
       " \"ADBE\"\n",
       " \"AMD\"\n",
       " \"MSFT\"\n",
       " \"AAPL\""
      ]
     },
     "execution_count": 816,
     "metadata": {},
     "output_type": "execute_result"
    }
   ],
   "source": [
    "call_tickers = [\"ADBE\", \"AMD\", \"MSFT\", \"AAPL\"]"
   ]
  },
  {
   "cell_type": "code",
   "execution_count": 817,
   "id": "8a750df5-5293-47d5-9f39-38ee30d97958",
   "metadata": {},
   "outputs": [
    {
     "data": {
      "text/plain": [
       "calculate_share_costs (generic function with 1 method)"
      ]
     },
     "execution_count": 817,
     "metadata": {},
     "output_type": "execute_result"
    }
   ],
   "source": [
    "function calculate_share_costs(call_tickers, tech_price_df)\n",
    "    collateral_df = DataFrame(Ticker = String[], Cost_of_100_shares = Float64[])\n",
    "\n",
    "    for ticker in call_tickers\n",
    "        cost = tech_price_df[ticker][1, :][\"volume_weighted_average_price\"] * 100\n",
    "        push!(collateral_df, (ticker, cost))\n",
    "    end\n",
    "\n",
    "    return collateral_df\n",
    "end"
   ]
  },
  {
   "cell_type": "code",
   "execution_count": 818,
   "id": "20623635-1c00-4d11-aca8-f8d1f3717cc3",
   "metadata": {},
   "outputs": [
    {
     "data": {
      "text/html": [
       "<div><div style = \"float: left;\"><span>4×2 DataFrame</span></div><div style = \"clear: both;\"></div></div><div class = \"data-frame\" style = \"overflow-x: scroll;\"><table class = \"data-frame\" style = \"margin-bottom: 6px;\"><thead><tr class = \"header\"><th class = \"rowNumber\" style = \"font-weight: bold; text-align: right;\">Row</th><th style = \"text-align: left;\">Ticker</th><th style = \"text-align: left;\">Cost_of_100_shares</th></tr><tr class = \"subheader headerLastRow\"><th class = \"rowNumber\" style = \"font-weight: bold; text-align: right;\"></th><th title = \"String\" style = \"text-align: left;\">String</th><th title = \"Float64\" style = \"text-align: left;\">Float64</th></tr></thead><tbody><tr><td class = \"rowNumber\" style = \"font-weight: bold; text-align: right;\">1</td><td style = \"text-align: left;\">ADBE</td><td style = \"text-align: right;\">33741.6</td></tr><tr><td class = \"rowNumber\" style = \"font-weight: bold; text-align: right;\">2</td><td style = \"text-align: left;\">AMD</td><td style = \"text-align: right;\">6455.91</td></tr><tr><td class = \"rowNumber\" style = \"font-weight: bold; text-align: right;\">3</td><td style = \"text-align: left;\">MSFT</td><td style = \"text-align: right;\">23983.9</td></tr><tr><td class = \"rowNumber\" style = \"font-weight: bold; text-align: right;\">4</td><td style = \"text-align: left;\">AAPL</td><td style = \"text-align: right;\">12572.5</td></tr></tbody></table></div>"
      ],
      "text/latex": [
       "\\begin{tabular}{r|cc}\n",
       "\t& Ticker & Cost\\_of\\_100\\_shares\\\\\n",
       "\t\\hline\n",
       "\t& String & Float64\\\\\n",
       "\t\\hline\n",
       "\t1 & ADBE & 33741.6 \\\\\n",
       "\t2 & AMD & 6455.91 \\\\\n",
       "\t3 & MSFT & 23983.9 \\\\\n",
       "\t4 & AAPL & 12572.5 \\\\\n",
       "\\end{tabular}\n"
      ],
      "text/plain": [
       "\u001b[1m4×2 DataFrame\u001b[0m\n",
       "\u001b[1m Row \u001b[0m│\u001b[1m Ticker \u001b[0m\u001b[1m Cost_of_100_shares \u001b[0m\n",
       "     │\u001b[90m String \u001b[0m\u001b[90m Float64            \u001b[0m\n",
       "─────┼────────────────────────────\n",
       "   1 │ ADBE              33741.6\n",
       "   2 │ AMD                6455.91\n",
       "   3 │ MSFT              23983.9\n",
       "   4 │ AAPL              12572.5"
      ]
     },
     "execution_count": 818,
     "metadata": {},
     "output_type": "execute_result"
    }
   ],
   "source": [
    "collateral_df = calculate_share_costs(call_tickers, tech_price_df)"
   ]
  },
  {
   "cell_type": "code",
   "execution_count": 819,
   "id": "a3f91f37-a8cb-484a-91bd-270d44450647",
   "metadata": {},
   "outputs": [
    {
     "data": {
      "text/plain": [
       "76753.94"
      ]
     },
     "execution_count": 819,
     "metadata": {},
     "output_type": "execute_result"
    }
   ],
   "source": [
    "#assuming one active call per asset\n",
    "total_collateral_cost = sum(collateral_df[!, \"Cost_of_100_shares\"])"
   ]
  },
  {
   "cell_type": "code",
   "execution_count": 821,
   "id": "09519b64-ac0d-439e-8058-ff555a2ef255",
   "metadata": {
    "jupyter": {
     "source_hidden": true
    },
    "scrolled": true
   },
   "outputs": [
    {
     "data": {
      "text/plain": [
       "get_price_data (generic function with 2 methods)"
      ]
     },
     "execution_count": 821,
     "metadata": {},
     "output_type": "execute_result"
    }
   ],
   "source": [
    "function get_price_data(tickers::Array{String,1}, original_dataset::Dict)\n",
    "    price_data = Dict{String, DataFrame}()\n",
    "\n",
    "    for ticker in tickers\n",
    "        maximum_number_trading_days = nrow(original_dataset[ticker])\n",
    "        dataset = Dict{String, DataFrame}()\n",
    "\n",
    "        for (t, data) in original_dataset\n",
    "            if nrow(data) == maximum_number_trading_days\n",
    "                dataset[t] = data\n",
    "            end\n",
    "        end\n",
    "        startdate = Date(2023, 01, 03)\n",
    "        asset_data = filter(row -> row[:timestamp] >= startdate, dataset[ticker])\n",
    "\n",
    "        price_data[ticker] = asset_data\n",
    "    end\n",
    "\n",
    "    return price_data\n",
    "end"
   ]
  },
  {
   "cell_type": "code",
   "execution_count": 822,
   "id": "3cfed0cf-ccc2-441c-8a19-6c7ca708c632",
   "metadata": {
    "scrolled": true
   },
   "outputs": [
    {
     "data": {
      "text/plain": [
       "Dict{String, DataFrame} with 6 entries:\n",
       "  \"MSFT\" => \u001b[1m231×8 DataFrame\u001b[0m\u001b[0m…\n",
       "  \"AMZN\" => \u001b[1m231×8 DataFrame\u001b[0m\u001b[0m…\n",
       "  \"AMD\"  => \u001b[1m231×8 DataFrame\u001b[0m\u001b[0m…\n",
       "  \"ADBE\" => \u001b[1m231×8 DataFrame\u001b[0m\u001b[0m…\n",
       "  \"IBM\"  => \u001b[1m231×8 DataFrame\u001b[0m\u001b[0m…\n",
       "  \"AAPL\" => \u001b[1m231×8 DataFrame\u001b[0m\u001b[0m…"
      ]
     },
     "execution_count": 822,
     "metadata": {},
     "output_type": "execute_result"
    }
   ],
   "source": [
    "tech_price_df= get_price_data(tech_portfolio, original_dataset)"
   ]
  },
  {
   "cell_type": "markdown",
   "id": "08ae1c33-2ce8-4b4c-9649-dc9528775378",
   "metadata": {},
   "source": [
    "# Calculate the contracts that will expire worthless and their premiums"
   ]
  },
  {
   "cell_type": "code",
   "execution_count": 823,
   "id": "122e5a2e-d41a-4ee2-9c3a-da20381f0a05",
   "metadata": {},
   "outputs": [
    {
     "data": {
      "text/plain": [
       "optimal_covered_calls (generic function with 1 method)"
      ]
     },
     "execution_count": 823,
     "metadata": {},
     "output_type": "execute_result"
    }
   ],
   "source": [
    "#partially generated with GenAI and modified\n",
    "function optimal_covered_calls(tickers::Array{String, 1}, call_contract_data::Dict)\n",
    "    summary_dict = Dict()\n",
    "    date_ranges = [\n",
    "        (Date(2023, 1, 3), Date(2023, 2, 17)),\n",
    "        (Date(2023, 2, 22), Date(2023, 4, 14)),\n",
    "        (Date(2023, 4, 17), Date(2023, 6, 2)),\n",
    "        (Date(2023, 6, 5), Date(2023, 7, 21)),\n",
    "        (Date(2023, 7, 24), Date(2023, 9, 8)),\n",
    "        (Date(2023, 9, 11), Date(2023, 10, 27))\n",
    "    ]\n",
    "\n",
    "    for ticker in tickers\n",
    "        ticker_summary = []\n",
    "        for (idx, (start_date, end_date)) in enumerate(date_ranges)\n",
    "            contract_key = (ticker, start_date, end_date)\n",
    "            if haskey(call_contract_data, contract_key)\n",
    "                options_data = call_contract_data[contract_key] |> x -> x[:data]\n",
    "                good_calls = get_good_calls(ticker, options_data)\n",
    "                push!(ticker_summary, (idx, good_calls))\n",
    "            else\n",
    "                println(\"No contract data for key: \", contract_key)\n",
    "            end\n",
    "        end\n",
    "        if !isempty(ticker_summary)\n",
    "            summary_dict[ticker] = ticker_summary\n",
    "        end\n",
    "    end\n",
    "    return summary_dict\n",
    "end\n"
   ]
  },
  {
   "cell_type": "code",
   "execution_count": 842,
   "id": "5a188176-deb0-4854-8215-61d3f471ade0",
   "metadata": {},
   "outputs": [
    {
     "data": {
      "text/plain": [
       "Dict{Any, Any} with 4 entries:\n",
       "  \"MSFT\" => Any[(1, Any[\"On 2023-01-03 when MSFT is trading at 239.58, sell a c…\n",
       "  \"AMD\"  => Any[(1, Any[\"On 2023-01-03 when AMD is trading at 64.02, sell a cal…\n",
       "  \"ADBE\" => Any[(1, Any[\"On 2023-01-03 when ADBE is trading at 336.92, sell a c…\n",
       "  \"AAPL\" => Any[(1, Any[\"On 2023-01-03 when AAPL is trading at 125.07, sell a c…"
      ]
     },
     "execution_count": 842,
     "metadata": {},
     "output_type": "execute_result"
    }
   ],
   "source": [
    "optimal_covered_calls_dict = optimal_covered_calls(call_tickers, call_contract_data)"
   ]
  },
  {
   "cell_type": "markdown",
   "id": "42afb7b9-1e1c-45de-b9ac-02fa1927e6b2",
   "metadata": {},
   "source": [
    "## All prices within the contracts fall between 1 STD and 2 STD from the upper bound of the mean for the GBM ran on these assets.\n",
    "\n",
    "#### This means we are between 68% and 95% confident we will not be exercised on for these options."
   ]
  },
  {
   "cell_type": "code",
   "execution_count": 825,
   "id": "971cf232-8f8d-4e98-a4a9-344d117f3e05",
   "metadata": {},
   "outputs": [
    {
     "data": {
      "text/plain": [
       "6-element Vector{Any}:\n",
       " (1, Any[\"On 2023-01-03 when MSFT is trading at 239.58, sell a call with a strike price 260.0 for a premium 471.43.\", 471.43, \"On 2023-01-03 when MSFT is trading at 239.58, sell a call with a strike price 265.0 for a premium 308.08.\", 308.08, \"On 2023-01-03 when MSFT is trading at 239.58, sell a call with a strike price 270.0 for a premium 262.69.\", 262.69])\n",
       " (2, Any[])\n",
       " (3, Any[])\n",
       " (4, Any[\"On 2023-06-05 when MSFT is trading at 335.94, sell a call with a strike price 345.0 for a premium 708.48.\", 708.48, \"On 2023-06-05 when MSFT is trading at 335.94, sell a call with a strike price 365.0 for a premium 190.89.\", 190.89, \"On 2023-06-05 when MSFT is trading at 335.94, sell a call with a strike price 350.0 for a premium 510.23.\", 510.23, \"On 2023-06-05 when MSFT is trading at 335.94, sell a call with a strike price 355.0 for a premium 385.68.\", 385.68, \"On 2023-06-05 when MSFT is trading at 335.94, sell a call with a strike price 360.0 for a premium 268.49.\", 268.49])\n",
       " (5, Any[\"On 2023-07-27 when MSFT is trading at 330.72, sell a call with a strike price 360.0 for a premium 357.34.\", 357.34, \"On 2023-07-27 when MSFT is trading at 330.72, sell a call with a strike price 370.0 for a premium 177.19.\", 177.19, \"On 2023-07-27 when MSFT is trading at 330.72, sell a call with a strike price 345.0 for a premium 743.5.\", 743.5, \"On 2023-07-27 when MSFT is trading at 330.72, sell a call with a strike price 365.0 for a premium 248.57.\", 248.57, \"On 2023-07-27 when MSFT is trading at 330.72, sell a call with a strike price 340.0 for a premium 988.72.\", 988.72, \"On 2023-07-27 when MSFT is trading at 330.72, sell a call with a strike price 350.0 for a premium 559.71.\", 559.71, \"On 2023-07-27 when MSFT is trading at 330.72, sell a call with a strike price 375.0 for a premium 170.25.\", 170.25, \"On 2023-07-27 when MSFT is trading at 330.72, sell a call with a strike price 335.0 for a premium 1135.13.\", 1135.13, \"On 2023-07-27 when MSFT is trading at 330.72, sell a call with a strike price 355.0 for a premium 427.09.\", 427.09])\n",
       " (6, Any[\"On 2023-09-11 when MSFT is trading at 337.94, sell a call with a strike price 345.0 for a premium 907.98.\", 907.98, \"On 2023-09-11 when MSFT is trading at 337.94, sell a call with a strike price 365.0 for a premium 300.97.\", 300.97, \"On 2023-09-11 when MSFT is trading at 337.94, sell a call with a strike price 340.0 for a premium 1158.26.\", 1158.26, \"On 2023-09-11 when MSFT is trading at 337.94, sell a call with a strike price 350.0 for a premium 714.05.\", 714.05, \"On 2023-09-11 when MSFT is trading at 337.94, sell a call with a strike price 335.0 for a premium 1428.23.\", 1428.23, \"On 2023-09-11 when MSFT is trading at 337.94, sell a call with a strike price 330.0 for a premium 1715.5.\", 1715.5, \"On 2023-09-11 when MSFT is trading at 337.94, sell a call with a strike price 355.0 for a premium 556.64.\", 556.64, \"On 2023-09-11 when MSFT is trading at 337.94, sell a call with a strike price 360.0 for a premium 402.09.\", 402.09])"
      ]
     },
     "execution_count": 825,
     "metadata": {},
     "output_type": "execute_result"
    }
   ],
   "source": [
    "optimal_covered_calls_dict[\"MSFT\"]"
   ]
  },
  {
   "cell_type": "code",
   "execution_count": 826,
   "id": "93cefb85-f2d4-46b2-a950-f2579441f6ba",
   "metadata": {},
   "outputs": [
    {
     "data": {
      "text/plain": [
       "6-element Vector{Any}:\n",
       " (1, Any[\"On 2023-01-03 when AMD is trading at 64.02, sell a call with a strike price 95.0 for a premium 15.36.\", 15.36, \"On 2023-01-03 when AMD is trading at 64.02, sell a call with a strike price 90.0 for a premium 28.59.\", 28.59, \"On 2023-01-03 when AMD is trading at 64.02, sell a call with a strike price 85.0 for a premium 46.33.\", 46.33, \"On 2023-01-03 when AMD is trading at 64.02, sell a call with a strike price 80.0 for a premium 92.14.\", 92.14])\n",
       " (2, Any[\"On 2023-03-03 when AMD is trading at 81.52, sell a call with a strike price 95.0 for a premium 84.52.\", 84.52, \"On 2023-03-06 when AMD is trading at 81.16, sell a call with a strike price 105.0 for a premium 21.91.\", 21.91, \"On 2023-03-03 when AMD is trading at 81.52, sell a call with a strike price 100.0 for a premium 41.0.\", 41.0])\n",
       " (3, Any[\"On 2023-04-17 when AMD is trading at 89.87, sell a call with a strike price 120.0 for a premium 20.75.\", 20.75])\n",
       " (4, Any[\"On 2023-06-05 when AMD is trading at 117.93, sell a call with a strike price 150.0 for a premium 100.98.\", 100.98, \"On 2023-06-05 when AMD is trading at 117.93, sell a call with a strike price 135.0 for a premium 260.79.\", 260.79, \"On 2023-06-05 when AMD is trading at 117.93, sell a call with a strike price 145.0 for a premium 137.09.\", 137.09, \"On 2023-06-05 when AMD is trading at 117.93, sell a call with a strike price 120.0 for a premium 729.66.\", 729.66, \"On 2023-06-05 when AMD is trading at 117.93, sell a call with a strike price 115.0 for a premium 961.71.\", 961.71, \"On 2023-06-05 when AMD is trading at 117.93, sell a call with a strike price 125.0 for a premium 529.85.\", 529.85, \"On 2023-06-05 when AMD is trading at 117.93, sell a call with a strike price 130.0 for a premium 374.4.\", 374.4, \"On 2023-06-05 when AMD is trading at 117.93, sell a call with a strike price 140.0 for a premium 191.38.\", 191.38])\n",
       " (5, Any[\"On 2023-07-28 when AMD is trading at 112.96, sell a call with a strike price 140.0 for a premium 134.46.\", 134.46, \"On 2023-07-27 when AMD is trading at 111.1, sell a call with a strike price 110.0 for a premium 954.67.\", 954.67, \"On 2023-07-28 when AMD is trading at 112.96, sell a call with a strike price 135.0 for a premium 181.53.\", 181.53, \"On 2023-07-27 when AMD is trading at 111.1, sell a call with a strike price 120.0 for a premium 501.67.\", 501.67, \"On 2023-07-28 when AMD is trading at 112.96, sell a call with a strike price 130.0 for a premium 258.9.\", 258.9, \"On 2023-07-27 when AMD is trading at 111.1, sell a call with a strike price 115.0 for a premium 644.56.\", 644.56, \"On 2023-07-27 when AMD is trading at 111.1, sell a call with a strike price 125.0 for a premium 353.75.\", 353.75])\n",
       " (6, Any[\"On 2023-09-11 when AMD is trading at 105.32, sell a call with a strike price 100.0 for a premium 846.17.\", 846.17, \"On 2023-09-11 when AMD is trading at 105.32, sell a call with a strike price 105.0 for a premium 586.22.\", 586.22, \"On 2023-09-11 when AMD is trading at 105.32, sell a call with a strike price 110.0 for a premium 385.23.\", 385.23, \"On 2023-09-11 when AMD is trading at 105.32, sell a call with a strike price 135.0 for a premium 38.61.\", 38.61, \"On 2023-09-11 when AMD is trading at 105.32, sell a call with a strike price 120.0 for a premium 147.87.\", 147.87, \"On 2023-09-11 when AMD is trading at 105.32, sell a call with a strike price 115.0 for a premium 246.58.\", 246.58, \"On 2023-09-11 when AMD is trading at 105.32, sell a call with a strike price 125.0 for a premium 90.95.\", 90.95, \"On 2023-09-11 when AMD is trading at 105.32, sell a call with a strike price 130.0 for a premium 58.05.\", 58.05])"
      ]
     },
     "execution_count": 826,
     "metadata": {},
     "output_type": "execute_result"
    }
   ],
   "source": [
    "optimal_covered_calls_dict[\"AMD\"]"
   ]
  },
  {
   "cell_type": "code",
   "execution_count": 827,
   "id": "bba30f20-e8ff-4edf-9cd5-86c5afa0c36b",
   "metadata": {},
   "outputs": [
    {
     "data": {
      "text/plain": [
       "6-element Vector{Any}:\n",
       " (1, Any[\"On 2023-01-03 when ADBE is trading at 336.92, sell a call with a strike price 365.0 for a premium 862.37.\", 862.37, \"On 2023-01-03 when ADBE is trading at 336.92, sell a call with a strike price 360.0 for a premium 944.04.\", 944.04])\n",
       " (2, Any[\"On 2023-03-02 when ADBE is trading at 333.5, sell a call with a strike price 380.0 for a premium 318.5.\", 318.5])\n",
       " (3, Any[])\n",
       " (4, Any[])\n",
       " (5, Any[])\n",
       " (6, Any[\"On 2023-09-11 when ADBE is trading at 564.5, sell a call with a strike price 570.0 for a premium 2381.0.\", 2381.0, \"On 2023-09-12 when ADBE is trading at 542.21, sell a call with a strike price 545.0 for a premium 2946.86.\", 2946.86, \"On 2023-09-11 when ADBE is trading at 564.5, sell a call with a strike price 560.0 for a premium 2770.0.\", 2770.0, \"On 2023-09-12 when ADBE is trading at 542.21, sell a call with a strike price 550.0 for a premium 2482.43.\", 2482.43, \"On 2023-09-12 when ADBE is trading at 542.21, sell a call with a strike price 530.0 for a premium 3300.0.\", 3300.0  …  \"On 2023-09-12 when ADBE is trading at 542.21, sell a call with a strike price 575.0 for a premium 1538.0.\", 1538.0, \"On 2023-09-12 when ADBE is trading at 542.21, sell a call with a strike price 585.0 for a premium 1334.5.\", 1334.5, \"On 2023-09-11 when ADBE is trading at 564.5, sell a call with a strike price 540.0 for a premium 3845.0.\", 3845.0, \"On 2023-09-12 when ADBE is trading at 542.21, sell a call with a strike price 555.0 for a premium 2186.5.\", 2186.5, \"On 2023-09-11 when ADBE is trading at 564.5, sell a call with a strike price 565.0 for a premium 2743.15.\", 2743.15])"
      ]
     },
     "execution_count": 827,
     "metadata": {},
     "output_type": "execute_result"
    }
   ],
   "source": [
    "optimal_covered_calls_dict[\"ADBE\"]"
   ]
  },
  {
   "cell_type": "code",
   "execution_count": 828,
   "id": "f381760b-dba5-484e-bc72-31416191eb5a",
   "metadata": {},
   "outputs": [
    {
     "data": {
      "text/plain": [
       "6-element Vector{Any}:\n",
       " (1, Any[\"On 2023-01-03 when AAPL is trading at 125.07, sell a call with a strike price 155.0 for a premium 38.94.\", 38.94])\n",
       " (2, Any[\"On 2023-03-03 when AAPL is trading at 151.03, sell a call with a strike price 180.0 for a premium 1.0.\", 1.0, \"On 2023-03-02 when AAPL is trading at 145.91, sell a call with a strike price 175.0 for a premium 10.5.\", 10.5, \"On 2023-03-03 when AAPL is trading at 151.03, sell a call with a strike price 170.0 for a premium 29.88.\", 29.88])\n",
       " (3, Any[\"On 2023-04-18 when AAPL is trading at 166.47, sell a call with a strike price 195.0 for a premium 10.0.\", 10.0, \"On 2023-04-17 when AAPL is trading at 165.23, sell a call with a strike price 190.0 for a premium 18.5.\", 18.5, \"On 2023-04-17 when AAPL is trading at 165.23, sell a call with a strike price 185.0 for a premium 37.51.\", 37.51])\n",
       " (4, Any[\"On 2023-06-05 when AAPL is trading at 179.58, sell a call with a strike price 200.0 for a premium 85.99.\", 85.99, \"On 2023-06-05 when AAPL is trading at 179.58, sell a call with a strike price 195.0 for a premium 153.74.\", 153.74, \"On 2023-06-05 when AAPL is trading at 179.58, sell a call with a strike price 210.0 for a premium 28.6.\", 28.6, \"On 2023-06-05 when AAPL is trading at 179.58, sell a call with a strike price 205.0 for a premium 54.96.\", 54.96])\n",
       " (5, Any[\"On 2023-07-27 when AAPL is trading at 193.22, sell a call with a strike price 200.0 for a premium 397.39.\", 397.39, \"On 2023-07-27 when AAPL is trading at 193.22, sell a call with a strike price 195.0 for a premium 652.58.\", 652.58, \"On 2023-07-27 when AAPL is trading at 193.22, sell a call with a strike price 210.0 for a premium 103.3.\", 103.3, \"On 2023-07-27 when AAPL is trading at 193.22, sell a call with a strike price 220.0 for a premium 29.09.\", 29.09, \"On 2023-07-27 when AAPL is trading at 193.22, sell a call with a strike price 180.0 for a premium 1538.81.\", 1538.81, \"On 2023-07-28 when AAPL is trading at 195.83, sell a call with a strike price 225.0 for a premium 19.0.\", 19.0, \"On 2023-07-27 when AAPL is trading at 193.22, sell a call with a strike price 190.0 for a premium 984.68.\", 984.68, \"On 2023-07-27 when AAPL is trading at 193.22, sell a call with a strike price 215.0 for a premium 55.23.\", 55.23, \"On 2023-07-27 when AAPL is trading at 193.22, sell a call with a strike price 205.0 for a premium 214.62.\", 214.62, \"On 2023-07-27 when AAPL is trading at 193.22, sell a call with a strike price 185.0 for a premium 1332.21.\", 1332.21])\n",
       " (6, Any[\"On 2023-09-11 when AAPL is trading at 179.36, sell a call with a strike price 200.0 for a premium 45.74.\", 45.74, \"On 2023-09-11 when AAPL is trading at 179.36, sell a call with a strike price 195.0 for a premium 90.35.\", 90.35, \"On 2023-09-11 when AAPL is trading at 179.36, sell a call with a strike price 210.0 for a premium 16.95.\", 16.95, \"On 2023-09-11 when AAPL is trading at 179.36, sell a call with a strike price 180.0 for a premium 541.66.\", 541.66, \"On 2023-09-11 when AAPL is trading at 179.36, sell a call with a strike price 175.0 for a premium 874.53.\", 874.53, \"On 2023-09-11 when AAPL is trading at 179.36, sell a call with a strike price 190.0 for a premium 179.62.\", 179.62, \"On 2023-09-11 when AAPL is trading at 179.36, sell a call with a strike price 170.0 for a premium 1175.5.\", 1175.5, \"On 2023-09-11 when AAPL is trading at 179.36, sell a call with a strike price 205.0 for a premium 25.7.\", 25.7, \"On 2023-09-11 when AAPL is trading at 179.36, sell a call with a strike price 185.0 for a premium 327.73.\", 327.73])"
      ]
     },
     "execution_count": 828,
     "metadata": {},
     "output_type": "execute_result"
    }
   ],
   "source": [
    "optimal_covered_calls_dict[\"AAPL\"]"
   ]
  },
  {
   "cell_type": "code",
   "execution_count": 829,
   "id": "724c063c-69e0-4eaf-97fe-ada46e53ebd8",
   "metadata": {},
   "outputs": [
    {
     "data": {
      "text/plain": [
       "\"On 2023-06-05 when AAPL is trading at 179.58, sell a call with a strike price 200.0 for a premium 85.99.\""
      ]
     },
     "execution_count": 829,
     "metadata": {},
     "output_type": "execute_result"
    }
   ],
   "source": [
    "optimal_covered_calls_dict[\"AAPL\"][4][2][1]"
   ]
  },
  {
   "cell_type": "code",
   "execution_count": 830,
   "id": "abdcce14-a60e-4805-9dce-e7fcb0ec3a64",
   "metadata": {},
   "outputs": [
    {
     "data": {
      "text/plain": [
       "extract_premiums_from_vector (generic function with 1 method)"
      ]
     },
     "execution_count": 830,
     "metadata": {},
     "output_type": "execute_result"
    }
   ],
   "source": [
    "function extract_premiums_from_vector(vector_data::Vector{Any})\n",
    "    premiums = Float64[]\n",
    "\n",
    "    #GenAI created for loop to iterate into the vector data bc idk how to do this in Julia\n",
    "    for (_, call_descriptions) in vector_data\n",
    "        for i in 2:2:length(call_descriptions)\n",
    "            push!(premiums, call_descriptions[i])\n",
    "        end\n",
    "    end\n",
    "\n",
    "    return premiums\n",
    "end"
   ]
  },
  {
   "cell_type": "code",
   "execution_count": 831,
   "id": "cee7829b-1c24-4213-b501-71e47d11ba78",
   "metadata": {},
   "outputs": [
    {
     "data": {
      "text/plain": [
       "67558.53"
      ]
     },
     "execution_count": 831,
     "metadata": {},
     "output_type": "execute_result"
    }
   ],
   "source": [
    "total_premium = 0\n",
    "for ticker in call_tickers\n",
    "    total_premium += sum(extract_premiums_from_vector(optimal_covered_calls_dict[ticker]))\n",
    "end\n",
    "total_premium"
   ]
  },
  {
   "cell_type": "markdown",
   "id": "3671a226-11e9-465a-a066-e820bb1da451",
   "metadata": {},
   "source": [
    "## Return generated by the options strategy alone (assuming 1 optimal contract per period)"
   ]
  },
  {
   "cell_type": "code",
   "execution_count": 832,
   "id": "3e229f58-e8bf-4df1-a41b-b88b721ca756",
   "metadata": {},
   "outputs": [
    {
     "data": {
      "text/plain": [
       "1.8801962479059706"
      ]
     },
     "execution_count": 832,
     "metadata": {},
     "output_type": "execute_result"
    }
   ],
   "source": [
    "premium_return = 1+total_premium/total_collateral_cost"
   ]
  },
  {
   "cell_type": "code",
   "execution_count": 833,
   "id": "6661c79d-73c7-4c6d-bf3a-810a49bb452a",
   "metadata": {},
   "outputs": [
    {
     "data": {
      "text/plain": [
       "1.4436903388975588"
      ]
     },
     "execution_count": 833,
     "metadata": {},
     "output_type": "execute_result"
    }
   ],
   "source": [
    "return_reallocation = 6.09643e7/4.22281e7"
   ]
  },
  {
   "cell_type": "code",
   "execution_count": 834,
   "id": "a107f43f-ccbb-4df0-bb01-45f766a8aa05",
   "metadata": {},
   "outputs": [
    {
     "data": {
      "text/plain": [
       "1.4444822940806967"
      ]
     },
     "execution_count": 834,
     "metadata": {},
     "output_type": "execute_result"
    }
   ],
   "source": [
    "return_overall = (6.09643e7 + total_collateral_cost + total_premium)/(4.22281e7 + total_collateral_cost)"
   ]
  },
  {
   "cell_type": "code",
   "execution_count": 944,
   "id": "3b439886-bf46-4838-bbf6-f04e339d1e71",
   "metadata": {},
   "outputs": [
    {
     "name": "stdout",
     "output_type": "stream",
     "text": [
      "┌──────────────────┬───────────────────┬──────────────┐\n",
      "│\u001b[1m CoveredCallYield \u001b[0m│\u001b[1m ReallocationYield \u001b[0m│\u001b[1m OverallYield \u001b[0m│\n",
      "│\u001b[90m          Float64 \u001b[0m│\u001b[90m           Float64 \u001b[0m│\u001b[90m      Float64 \u001b[0m│\n",
      "├──────────────────┼───────────────────┼──────────────┤\n",
      "│           1.8802 │           1.44369 │      1.44448 │\n",
      "└──────────────────┴───────────────────┴──────────────┘\n"
     ]
    }
   ],
   "source": [
    "yield_df = DataFrame(CoveredCallYield=premium_return, ReallocationYield=return_reallocation, OverallYield=return_overall)\n",
    "pretty_table(yield_df)"
   ]
  },
  {
   "cell_type": "markdown",
   "id": "88180aa4-b483-4ed2-94b3-e5bcefa7683f",
   "metadata": {},
   "source": [
    "# Computing exercise probabilities"
   ]
  },
  {
   "cell_type": "code",
   "execution_count": 874,
   "id": "1826c8a5-9299-4150-b579-77e9db3ec6f2",
   "metadata": {},
   "outputs": [
    {
     "data": {
      "text/plain": [
       "DataFrame"
      ]
     },
     "execution_count": 874,
     "metadata": {},
     "output_type": "execute_result"
    }
   ],
   "source": [
    "typeof(tech_params)"
   ]
  },
  {
   "cell_type": "code",
   "execution_count": 872,
   "id": "0d9172e6-5ea2-44ce-9592-0008e15e7a5a",
   "metadata": {},
   "outputs": [
    {
     "data": {
      "text/plain": [
       "0.23965404099633378"
      ]
     },
     "execution_count": 872,
     "metadata": {},
     "output_type": "execute_result"
    }
   ],
   "source": [
    "tech_params[tech_params.ticker .== \"MSFT\", :volatility][1]"
   ]
  },
  {
   "cell_type": "code",
   "execution_count": 929,
   "id": "5a749c3f-7c30-4e29-be9c-1ed95ba3682c",
   "metadata": {},
   "outputs": [
    {
     "data": {
      "text/plain": [
       "get_good_calls_dataframe (generic function with 2 methods)"
      ]
     },
     "execution_count": 929,
     "metadata": {},
     "output_type": "execute_result"
    }
   ],
   "source": [
    "# modified functions defined above to create dataframes instead of vectors of strings\n",
    "using Distributions\n",
    "function get_good_calls_dataframe(ticker::String, AssetDict::Dict{Float64, Union{Nothing, DataFrame}}, tech_params::DataFrame)\n",
    "    good_calls_df = DataFrame(Date=Date[], Ticker=String[], MarketPrice=Float64[], StrikePrice=Float64[], Std=Float64[], Percentage=Float64[])\n",
    "    for (strike_price, options_df) in AssetDict\n",
    "        result = option_value(tech_price_df[ticker], options_df, strike_price)\n",
    "        if result != nothing && !isempty(options_df)\n",
    "            sale_date = Date(minimum(options_df[:, :timestamp]))\n",
    "            market_df = tech_price_df[ticker]\n",
    "            last_day_market_info = market_df[market_df[:, :timestamp] .== minimum(options_df[:, :timestamp]), :]\n",
    "            last_day_market_price = last_day_market_info[1, :close]\n",
    "            vol = tech_params[tech_params.ticker .== ticker, :volatility][1]*last_day_market_price\n",
    "            std_away = abs(last_day_market_price - strike_price) / vol\n",
    "            calc_std = std_dev -> (cdf(Normal(0, 1), std_dev) - cdf(Normal(0, 1), -std_dev)) * 100\n",
    "            percentage_within_std = calc_std(std_away)\n",
    "            push!(good_calls_df, (sale_date, ticker, last_day_market_price, strike_price, std_away, percentage_within_std))\n",
    "        end\n",
    "    end\n",
    "\n",
    "    return good_calls_df\n",
    "end"
   ]
  },
  {
   "cell_type": "code",
   "execution_count": 930,
   "id": "dc2b1d00-a1e7-4fe2-abac-434224727ec6",
   "metadata": {},
   "outputs": [
    {
     "data": {
      "text/plain": [
       "dataframe_gen_calls (generic function with 2 methods)"
      ]
     },
     "execution_count": 930,
     "metadata": {},
     "output_type": "execute_result"
    }
   ],
   "source": [
    "function dataframe_gen_calls(tickers::Array{String, 1}, call_contract_data::Dict, params::DataFrame)\n",
    "    summary_dict = Dict()\n",
    "    date_ranges = [\n",
    "        (Date(2023, 1, 3), Date(2023, 2, 17)),\n",
    "        (Date(2023, 2, 22), Date(2023, 4, 14)),\n",
    "        (Date(2023, 4, 17), Date(2023, 6, 2)),\n",
    "        (Date(2023, 6, 5), Date(2023, 7, 21)),\n",
    "        (Date(2023, 7, 24), Date(2023, 9, 8)),\n",
    "        (Date(2023, 9, 11), Date(2023, 10, 27))\n",
    "    ]\n",
    "\n",
    "    for ticker in tickers\n",
    "        dfs = []\n",
    "        for (idx, (start_date, end_date)) in enumerate(date_ranges)\n",
    "            contract_key = (ticker, start_date, end_date)\n",
    "            if haskey(call_contract_data, contract_key)\n",
    "                options_data = call_contract_data[contract_key] |> x -> x[:data]\n",
    "                good_calls = get_good_calls_dataframe(ticker, options_data, params)\n",
    "                push!(dfs, (idx, good_calls))\n",
    "            else\n",
    "                println(\"No contract data for key: \", contract_key)\n",
    "            end\n",
    "        end\n",
    "        if !isempty(dfs)\n",
    "            summary_dict[ticker] = dfs\n",
    "        end\n",
    "    end\n",
    "    return summary_dict\n",
    "end"
   ]
  },
  {
   "cell_type": "code",
   "execution_count": 931,
   "id": "40a10783-9ba5-4679-8474-5cc5ecb00526",
   "metadata": {},
   "outputs": [
    {
     "data": {
      "text/plain": [
       "Dict{Any, Any} with 4 entries:\n",
       "  \"MSFT\" => Any[(1, \u001b[1m3×6 DataFrame\u001b[0m\u001b[0m…\n",
       "  \"AMD\"  => Any[(1, \u001b[1m4×6 DataFrame\u001b[0m\u001b[0m…\n",
       "  \"ADBE\" => Any[(1, \u001b[1m2×6 DataFrame\u001b[0m\u001b[0m…\n",
       "  \"AAPL\" => Any[(1, \u001b[1m1×6 DataFrame\u001b[0m\u001b[0m…"
      ]
     },
     "execution_count": 931,
     "metadata": {},
     "output_type": "execute_result"
    }
   ],
   "source": [
    "dfs= dataframe_gen_calls(call_tickers, call_contract_data,  tech_params)"
   ]
  },
  {
   "cell_type": "code",
   "execution_count": 932,
   "id": "86c36060-8b37-4692-b7bd-b8b46f67b97e",
   "metadata": {},
   "outputs": [
    {
     "data": {
      "text/plain": [
       "6-element Vector{Any}:\n",
       " (1, \u001b[1m1×6 DataFrame\u001b[0m\n",
       "\u001b[1m Row \u001b[0m│\u001b[1m Date       \u001b[0m\u001b[1m Ticker \u001b[0m\u001b[1m MarketPrice \u001b[0m\u001b[1m StrikePrice \u001b[0m\u001b[1m Std     \u001b[0m\u001b[1m Percentage \u001b[0m\n",
       "     │\u001b[90m Date       \u001b[0m\u001b[90m String \u001b[0m\u001b[90m Float64     \u001b[0m\u001b[90m Float64     \u001b[0m\u001b[90m Float64 \u001b[0m\u001b[90m Float64    \u001b[0m\n",
       "─────┼───────────────────────────────────────────────────────────────────\n",
       "   1 │ 2023-01-03  AAPL         125.07        155.0  0.86574     61.3367)\n",
       " (2, \u001b[1m3×6 DataFrame\u001b[0m\n",
       "\u001b[1m Row \u001b[0m│\u001b[1m Date       \u001b[0m\u001b[1m Ticker \u001b[0m\u001b[1m MarketPrice \u001b[0m\u001b[1m StrikePrice \u001b[0m\u001b[1m Std      \u001b[0m\u001b[1m Percentage \u001b[0m\n",
       "     │\u001b[90m Date       \u001b[0m\u001b[90m String \u001b[0m\u001b[90m Float64     \u001b[0m\u001b[90m Float64     \u001b[0m\u001b[90m Float64  \u001b[0m\u001b[90m Float64    \u001b[0m\n",
       "─────┼────────────────────────────────────────────────────────────────────\n",
       "   1 │ 2023-03-03  AAPL         151.03        180.0  0.693936     51.2277\n",
       "   2 │ 2023-03-02  AAPL         145.91        175.0  0.721261     52.9251\n",
       "   3 │ 2023-03-03  AAPL         151.03        170.0  0.4544       35.0459)\n",
       " (3, \u001b[1m3×6 DataFrame\u001b[0m\n",
       "\u001b[1m Row \u001b[0m│\u001b[1m Date       \u001b[0m\u001b[1m Ticker \u001b[0m\u001b[1m MarketPrice \u001b[0m\u001b[1m StrikePrice \u001b[0m\u001b[1m Std      \u001b[0m\u001b[1m Percentage \u001b[0m\n",
       "     │\u001b[90m Date       \u001b[0m\u001b[90m String \u001b[0m\u001b[90m Float64     \u001b[0m\u001b[90m Float64     \u001b[0m\u001b[90m Float64  \u001b[0m\u001b[90m Float64    \u001b[0m\n",
       "─────┼────────────────────────────────────────────────────────────────────\n",
       "   1 │ 2023-04-18  AAPL         166.47        195.0  0.620011     46.475\n",
       "   2 │ 2023-04-17  AAPL         165.23        190.0  0.542339     41.2415\n",
       "   3 │ 2023-04-17  AAPL         165.23        185.0  0.432864     33.4887)\n",
       " (4, \u001b[1m4×6 DataFrame\u001b[0m\n",
       "\u001b[1m Row \u001b[0m│\u001b[1m Date       \u001b[0m\u001b[1m Ticker \u001b[0m\u001b[1m MarketPrice \u001b[0m\u001b[1m StrikePrice \u001b[0m\u001b[1m Std      \u001b[0m\u001b[1m Percentage \u001b[0m\n",
       "     │\u001b[90m Date       \u001b[0m\u001b[90m String \u001b[0m\u001b[90m Float64     \u001b[0m\u001b[90m Float64     \u001b[0m\u001b[90m Float64  \u001b[0m\u001b[90m Float64    \u001b[0m\n",
       "─────┼────────────────────────────────────────────────────────────────────\n",
       "   1 │ 2023-06-05  AAPL         179.58        200.0  0.411369     31.9198\n",
       "   2 │ 2023-06-05  AAPL         179.58        195.0  0.310642     24.3927\n",
       "   3 │ 2023-06-05  AAPL         179.58        210.0  0.612823     46.0007\n",
       "   4 │ 2023-06-05  AAPL         179.58        205.0  0.512096     39.1416)\n",
       " (5, \u001b[1m10×6 DataFrame\u001b[0m\n",
       "\u001b[1m Row \u001b[0m│\u001b[1m Date       \u001b[0m\u001b[1m Ticker \u001b[0m\u001b[1m MarketPrice \u001b[0m\u001b[1m StrikePrice \u001b[0m\u001b[1m Std       \u001b[0m\u001b[1m Percentage \u001b[0m\n",
       "     │\u001b[90m Date       \u001b[0m\u001b[90m String \u001b[0m\u001b[90m Float64     \u001b[0m\u001b[90m Float64     \u001b[0m\u001b[90m Float64   \u001b[0m\u001b[90m Float64    \u001b[0m\n",
       "─────┼─────────────────────────────────────────────────────────────────────\n",
       "   1 │ 2023-07-27  AAPL         193.22        200.0  0.126944     10.1015\n",
       "   2 │ 2023-07-27  AAPL         193.22        195.0  0.0333274     2.65865\n",
       "   3 │ 2023-07-27  AAPL         193.22        210.0  0.314177     24.6613\n",
       "   4 │ 2023-07-27  AAPL         193.22        220.0  0.501409     38.3917\n",
       "   5 │ 2023-07-27  AAPL         193.22        180.0  0.247522     19.5496\n",
       "   6 │ 2023-07-28  AAPL         195.83        225.0  0.538879     41.003\n",
       "   7 │ 2023-07-27  AAPL         193.22        190.0  0.060289      4.80745\n",
       "   8 │ 2023-07-27  AAPL         193.22        215.0  0.407793     31.6574\n",
       "   9 │ 2023-07-27  AAPL         193.22        205.0  0.22056      17.4565\n",
       "  10 │ 2023-07-27  AAPL         193.22        185.0  0.153905     12.2316)\n",
       " (6, \u001b[1m9×6 DataFrame\u001b[0m\n",
       "\u001b[1m Row \u001b[0m│\u001b[1m Date       \u001b[0m\u001b[1m Ticker \u001b[0m\u001b[1m MarketPrice \u001b[0m\u001b[1m StrikePrice \u001b[0m\u001b[1m Std       \u001b[0m\u001b[1m Percentage \u001b[0m\n",
       "     │\u001b[90m Date       \u001b[0m\u001b[90m String \u001b[0m\u001b[90m Float64     \u001b[0m\u001b[90m Float64     \u001b[0m\u001b[90m Float64   \u001b[0m\u001b[90m Float64    \u001b[0m\n",
       "─────┼─────────────────────────────────────────────────────────────────────\n",
       "   1 │ 2023-09-11  AAPL         179.36        200.0  0.416311     32.2818\n",
       "   2 │ 2023-09-11  AAPL         179.36        195.0  0.315461     24.7588\n",
       "   3 │ 2023-09-11  AAPL         179.36        210.0  0.618012     46.3433\n",
       "   4 │ 2023-09-11  AAPL         179.36        180.0  0.0129089     1.02995\n",
       "   5 │ 2023-09-11  AAPL         179.36        175.0  0.0879417     7.0077\n",
       "   6 │ 2023-09-11  AAPL         179.36        190.0  0.21461      16.9929\n",
       "   7 │ 2023-09-11  AAPL         179.36        170.0  0.188792     14.9744\n",
       "   8 │ 2023-09-11  AAPL         179.36        205.0  0.517162     39.4957\n",
       "   9 │ 2023-09-11  AAPL         179.36        185.0  0.113759      9.05715)"
      ]
     },
     "execution_count": 932,
     "metadata": {},
     "output_type": "execute_result"
    }
   ],
   "source": [
    "dfs[\"AAPL\"]"
   ]
  },
  {
   "cell_type": "code",
   "execution_count": 933,
   "id": "a2fe097d-13b8-4bed-b2b5-f33cb42c8a5a",
   "metadata": {
    "scrolled": true
   },
   "outputs": [
    {
     "data": {
      "text/plain": [
       "6-element Vector{Any}:\n",
       " (1, \u001b[1m2×6 DataFrame\u001b[0m\n",
       "\u001b[1m Row \u001b[0m│\u001b[1m Date       \u001b[0m\u001b[1m Ticker \u001b[0m\u001b[1m MarketPrice \u001b[0m\u001b[1m StrikePrice \u001b[0m\u001b[1m Std      \u001b[0m\u001b[1m Percentage \u001b[0m\n",
       "     │\u001b[90m Date       \u001b[0m\u001b[90m String \u001b[0m\u001b[90m Float64     \u001b[0m\u001b[90m Float64     \u001b[0m\u001b[90m Float64  \u001b[0m\u001b[90m Float64    \u001b[0m\n",
       "─────┼────────────────────────────────────────────────────────────────────\n",
       "   1 │ 2023-01-03  ADBE         336.92        365.0  0.271156     21.3729\n",
       "   2 │ 2023-01-03  ADBE         336.92        360.0  0.222874     17.6366)\n",
       " (2, \u001b[1m1×6 DataFrame\u001b[0m\n",
       "\u001b[1m Row \u001b[0m│\u001b[1m Date       \u001b[0m\u001b[1m Ticker \u001b[0m\u001b[1m MarketPrice \u001b[0m\u001b[1m StrikePrice \u001b[0m\u001b[1m Std      \u001b[0m\u001b[1m Percentage \u001b[0m\n",
       "     │\u001b[90m Date       \u001b[0m\u001b[90m String \u001b[0m\u001b[90m Float64     \u001b[0m\u001b[90m Float64     \u001b[0m\u001b[90m Float64  \u001b[0m\u001b[90m Float64    \u001b[0m\n",
       "─────┼────────────────────────────────────────────────────────────────────\n",
       "   1 │ 2023-03-02  ADBE          333.5        380.0  0.453635     34.9908)\n",
       " (3, \u001b[1m0×6 DataFrame\u001b[0m\n",
       "\u001b[1m Row \u001b[0m│\u001b[1m Date \u001b[0m\u001b[1m Ticker \u001b[0m\u001b[1m MarketPrice \u001b[0m\u001b[1m StrikePrice \u001b[0m\u001b[1m Std     \u001b[0m\u001b[1m Percentage \u001b[0m\n",
       "     │\u001b[90m Date \u001b[0m\u001b[90m String \u001b[0m\u001b[90m Float64     \u001b[0m\u001b[90m Float64     \u001b[0m\u001b[90m Float64 \u001b[0m\u001b[90m Float64    \u001b[0m\n",
       "─────┴─────────────────────────────────────────────────────────────)\n",
       " (4, \u001b[1m0×6 DataFrame\u001b[0m\n",
       "\u001b[1m Row \u001b[0m│\u001b[1m Date \u001b[0m\u001b[1m Ticker \u001b[0m\u001b[1m MarketPrice \u001b[0m\u001b[1m StrikePrice \u001b[0m\u001b[1m Std     \u001b[0m\u001b[1m Percentage \u001b[0m\n",
       "     │\u001b[90m Date \u001b[0m\u001b[90m String \u001b[0m\u001b[90m Float64     \u001b[0m\u001b[90m Float64     \u001b[0m\u001b[90m Float64 \u001b[0m\u001b[90m Float64    \u001b[0m\n",
       "─────┴─────────────────────────────────────────────────────────────)\n",
       " (5, \u001b[1m0×6 DataFrame\u001b[0m\n",
       "\u001b[1m Row \u001b[0m│\u001b[1m Date \u001b[0m\u001b[1m Ticker \u001b[0m\u001b[1m MarketPrice \u001b[0m\u001b[1m StrikePrice \u001b[0m\u001b[1m Std     \u001b[0m\u001b[1m Percentage \u001b[0m\n",
       "     │\u001b[90m Date \u001b[0m\u001b[90m String \u001b[0m\u001b[90m Float64     \u001b[0m\u001b[90m Float64     \u001b[0m\u001b[90m Float64 \u001b[0m\u001b[90m Float64    \u001b[0m\n",
       "─────┴─────────────────────────────────────────────────────────────)\n",
       " (6, \u001b[1m13×6 DataFrame\u001b[0m\n",
       "\u001b[1m Row \u001b[0m│\u001b[1m Date       \u001b[0m\u001b[1m Ticker \u001b[0m\u001b[1m MarketPrice \u001b[0m\u001b[1m StrikePrice \u001b[0m\u001b[1m Std        \u001b[0m\u001b[1m Percentage \u001b[0m\n",
       "     │\u001b[90m Date       \u001b[0m\u001b[90m String \u001b[0m\u001b[90m Float64     \u001b[0m\u001b[90m Float64     \u001b[0m\u001b[90m Float64    \u001b[0m\u001b[90m Float64    \u001b[0m\n",
       "─────┼──────────────────────────────────────────────────────────────────────\n",
       "   1 │ 2023-09-11  ADBE         564.5         570.0  0.0316992      2.52881\n",
       "   2 │ 2023-09-12  ADBE         542.21        545.0  0.0167412      1.33569\n",
       "   3 │ 2023-09-11  ADBE         564.5         560.0  0.0259357      2.06914\n",
       "   4 │ 2023-09-12  ADBE         542.21        550.0  0.0467433      3.72822\n",
       "   5 │ 2023-09-12  ADBE         542.21        530.0  0.0732652      5.84049\n",
       "   6 │ 2023-09-13  ADBE         553.56        535.0  0.109084       8.68645\n",
       "   7 │ 2023-09-12  ADBE         542.21        590.0  0.28676       22.5704\n",
       "   8 │ 2023-09-12  ADBE         542.21        580.0  0.226756      17.9387\n",
       "   9 │ 2023-09-12  ADBE         542.21        575.0  0.196754      15.598\n",
       "  10 │ 2023-09-12  ADBE         542.21        585.0  0.256758      20.2635\n",
       "  11 │ 2023-09-11  ADBE         564.5         540.0  0.141206      11.2292\n",
       "  12 │ 2023-09-12  ADBE         542.21        555.0  0.0767454      6.11739\n",
       "  13 │ 2023-09-11  ADBE         564.5         565.0  0.00288175     0.22993)"
      ]
     },
     "execution_count": 933,
     "metadata": {},
     "output_type": "execute_result"
    }
   ],
   "source": [
    "dfs[\"ADBE\"]"
   ]
  },
  {
   "cell_type": "markdown",
   "id": "396e705f-ae16-44cc-b1b9-29748be7a848",
   "metadata": {},
   "source": [
    "Here is a vector of Dataframes, each which takes the options that we expect to expire worthless and analyzes their market price and strike price. We use this to understand how far from the expected value of the market price are we willing to sell calls at. In a sense, we want to know how many standard deviations away from the expected market price is our strike price to sell calls that will expire OTM."
   ]
  },
  {
   "cell_type": "code",
   "execution_count": 939,
   "id": "5b69accb-81d7-4f43-8715-79bb5902b645",
   "metadata": {},
   "outputs": [
    {
     "data": {
      "text/plain": [
       "6-element Vector{Any}:\n",
       " (1, \u001b[1m3×6 DataFrame\u001b[0m\n",
       "\u001b[1m Row \u001b[0m│\u001b[1m Date       \u001b[0m\u001b[1m Ticker \u001b[0m\u001b[1m MarketPrice \u001b[0m\u001b[1m StrikePrice \u001b[0m\u001b[1m Std      \u001b[0m\u001b[1m Percentage \u001b[0m\n",
       "     │\u001b[90m Date       \u001b[0m\u001b[90m String \u001b[0m\u001b[90m Float64     \u001b[0m\u001b[90m Float64     \u001b[0m\u001b[90m Float64  \u001b[0m\u001b[90m Float64    \u001b[0m\n",
       "─────┼────────────────────────────────────────────────────────────────────\n",
       "   1 │ 2023-01-03  MSFT         239.58        260.0  0.355648     27.7896\n",
       "   2 │ 2023-01-03  MSFT         239.58        265.0  0.442731     34.204\n",
       "   3 │ 2023-01-03  MSFT         239.58        270.0  0.529815     40.3759)\n",
       " (2, \u001b[1m0×6 DataFrame\u001b[0m\n",
       "\u001b[1m Row \u001b[0m│\u001b[1m Date \u001b[0m\u001b[1m Ticker \u001b[0m\u001b[1m MarketPrice \u001b[0m\u001b[1m StrikePrice \u001b[0m\u001b[1m Std     \u001b[0m\u001b[1m Percentage \u001b[0m\n",
       "     │\u001b[90m Date \u001b[0m\u001b[90m String \u001b[0m\u001b[90m Float64     \u001b[0m\u001b[90m Float64     \u001b[0m\u001b[90m Float64 \u001b[0m\u001b[90m Float64    \u001b[0m\n",
       "─────┴─────────────────────────────────────────────────────────────)\n",
       " (3, \u001b[1m0×6 DataFrame\u001b[0m\n",
       "\u001b[1m Row \u001b[0m│\u001b[1m Date \u001b[0m\u001b[1m Ticker \u001b[0m\u001b[1m MarketPrice \u001b[0m\u001b[1m StrikePrice \u001b[0m\u001b[1m Std     \u001b[0m\u001b[1m Percentage \u001b[0m\n",
       "     │\u001b[90m Date \u001b[0m\u001b[90m String \u001b[0m\u001b[90m Float64     \u001b[0m\u001b[90m Float64     \u001b[0m\u001b[90m Float64 \u001b[0m\u001b[90m Float64    \u001b[0m\n",
       "─────┴─────────────────────────────────────────────────────────────)\n",
       " (4, \u001b[1m5×6 DataFrame\u001b[0m\n",
       "\u001b[1m Row \u001b[0m│\u001b[1m Date       \u001b[0m\u001b[1m Ticker \u001b[0m\u001b[1m MarketPrice \u001b[0m\u001b[1m StrikePrice \u001b[0m\u001b[1m Std      \u001b[0m\u001b[1m Percentage \u001b[0m\n",
       "     │\u001b[90m Date       \u001b[0m\u001b[90m String \u001b[0m\u001b[90m Float64     \u001b[0m\u001b[90m Float64     \u001b[0m\u001b[90m Float64  \u001b[0m\u001b[90m Float64    \u001b[0m\n",
       "─────┼────────────────────────────────────────────────────────────────────\n",
       "   1 │ 2023-06-05  MSFT         335.94        345.0  0.112533     8.95996\n",
       "   2 │ 2023-06-05  MSFT         335.94        365.0  0.360952    28.1864\n",
       "   3 │ 2023-06-05  MSFT         335.94        350.0  0.174638    13.8636\n",
       "   4 │ 2023-06-05  MSFT         335.94        355.0  0.236743    18.7144\n",
       "   5 │ 2023-06-05  MSFT         335.94        360.0  0.298847    23.4943)\n",
       " (5, \u001b[1m9×6 DataFrame\u001b[0m\n",
       "\u001b[1m Row \u001b[0m│\u001b[1m Date       \u001b[0m\u001b[1m Ticker \u001b[0m\u001b[1m MarketPrice \u001b[0m\u001b[1m StrikePrice \u001b[0m\u001b[1m Std       \u001b[0m\u001b[1m Percentage \u001b[0m\n",
       "     │\u001b[90m Date       \u001b[0m\u001b[90m String \u001b[0m\u001b[90m Float64     \u001b[0m\u001b[90m Float64     \u001b[0m\u001b[90m Float64   \u001b[0m\u001b[90m Float64    \u001b[0m\n",
       "─────┼─────────────────────────────────────────────────────────────────────\n",
       "   1 │ 2023-07-27  MSFT         330.72        360.0  0.369425     28.8189\n",
       "   2 │ 2023-07-27  MSFT         330.72        370.0  0.495594     37.9819\n",
       "   3 │ 2023-07-27  MSFT         330.72        345.0  0.18017      14.2981\n",
       "   4 │ 2023-07-27  MSFT         330.72        365.0  0.432509     33.4629\n",
       "   5 │ 2023-07-27  MSFT         330.72        340.0  0.117085      9.32076\n",
       "   6 │ 2023-07-27  MSFT         330.72        350.0  0.243255     19.2192\n",
       "   7 │ 2023-07-27  MSFT         330.72        375.0  0.558679     42.3619\n",
       "   8 │ 2023-07-27  MSFT         330.72        335.0  0.0540006     4.30653\n",
       "   9 │ 2023-07-27  MSFT         330.72        355.0  0.30634      24.0654)\n",
       " (6, \u001b[1m8×6 DataFrame\u001b[0m\n",
       "\u001b[1m Row \u001b[0m│\u001b[1m Date       \u001b[0m\u001b[1m Ticker \u001b[0m\u001b[1m MarketPrice \u001b[0m\u001b[1m StrikePrice \u001b[0m\u001b[1m Std       \u001b[0m\u001b[1m Percentage \u001b[0m\n",
       "     │\u001b[90m Date       \u001b[0m\u001b[90m String \u001b[0m\u001b[90m Float64     \u001b[0m\u001b[90m Float64     \u001b[0m\u001b[90m Float64   \u001b[0m\u001b[90m Float64    \u001b[0m\n",
       "─────┼─────────────────────────────────────────────────────────────────────\n",
       "   1 │ 2023-09-11  MSFT         337.94        345.0  0.0871727     6.94657\n",
       "   2 │ 2023-09-11  MSFT         337.94        365.0  0.334121     26.1712\n",
       "   3 │ 2023-09-11  MSFT         337.94        340.0  0.0254357     2.02925\n",
       "   4 │ 2023-09-11  MSFT         337.94        350.0  0.14891      11.8375\n",
       "   5 │ 2023-09-11  MSFT         337.94        335.0  0.0363014     2.89579\n",
       "   6 │ 2023-09-11  MSFT         337.94        330.0  0.0980384     7.80982\n",
       "   7 │ 2023-09-11  MSFT         337.94        355.0  0.210647     16.6837\n",
       "   8 │ 2023-09-11  MSFT         337.94        360.0  0.272384     21.4673)"
      ]
     },
     "execution_count": 939,
     "metadata": {},
     "output_type": "execute_result"
    }
   ],
   "source": [
    "dfs[\"MSFT\"]"
   ]
  },
  {
   "cell_type": "code",
   "execution_count": 940,
   "id": "93f04ad1-60f3-4d17-b144-a292ddda06c0",
   "metadata": {},
   "outputs": [
    {
     "data": {
      "text/plain": [
       "6-element Vector{Any}:\n",
       " (1, \u001b[1m4×6 DataFrame\u001b[0m\n",
       "\u001b[1m Row \u001b[0m│\u001b[1m Date       \u001b[0m\u001b[1m Ticker \u001b[0m\u001b[1m MarketPrice \u001b[0m\u001b[1m StrikePrice \u001b[0m\u001b[1m Std      \u001b[0m\u001b[1m Percentage \u001b[0m\n",
       "     │\u001b[90m Date       \u001b[0m\u001b[90m String \u001b[0m\u001b[90m Float64     \u001b[0m\u001b[90m Float64     \u001b[0m\u001b[90m Float64  \u001b[0m\u001b[90m Float64    \u001b[0m\n",
       "─────┼────────────────────────────────────────────────────────────────────\n",
       "   1 │ 2023-01-03  AMD           64.02         95.0  1.03231      69.8072\n",
       "   2 │ 2023-01-03  AMD           64.02         90.0  0.865699     61.3345\n",
       "   3 │ 2023-01-03  AMD           64.02         85.0  0.69909      51.5504\n",
       "   4 │ 2023-01-03  AMD           64.02         80.0  0.532481     40.5607)\n",
       " (2, \u001b[1m3×6 DataFrame\u001b[0m\n",
       "\u001b[1m Row \u001b[0m│\u001b[1m Date       \u001b[0m\u001b[1m Ticker \u001b[0m\u001b[1m MarketPrice \u001b[0m\u001b[1m StrikePrice \u001b[0m\u001b[1m Std      \u001b[0m\u001b[1m Percentage \u001b[0m\n",
       "     │\u001b[90m Date       \u001b[0m\u001b[90m String \u001b[0m\u001b[90m Float64     \u001b[0m\u001b[90m Float64     \u001b[0m\u001b[90m Float64  \u001b[0m\u001b[90m Float64    \u001b[0m\n",
       "─────┼────────────────────────────────────────────────────────────────────\n",
       "   1 │ 2023-03-03  AMD           81.52         95.0  0.352752     27.5725\n",
       "   2 │ 2023-03-06  AMD           81.16        105.0  0.626625     46.9095\n",
       "   3 │ 2023-03-03  AMD           81.52        100.0  0.483594     37.1326)\n",
       " (3, \u001b[1m1×6 DataFrame\u001b[0m\n",
       "\u001b[1m Row \u001b[0m│\u001b[1m Date       \u001b[0m\u001b[1m Ticker \u001b[0m\u001b[1m MarketPrice \u001b[0m\u001b[1m StrikePrice \u001b[0m\u001b[1m Std     \u001b[0m\u001b[1m Percentage \u001b[0m\n",
       "     │\u001b[90m Date       \u001b[0m\u001b[90m String \u001b[0m\u001b[90m Float64     \u001b[0m\u001b[90m Float64     \u001b[0m\u001b[90m Float64 \u001b[0m\u001b[90m Float64    \u001b[0m\n",
       "─────┼───────────────────────────────────────────────────────────────────\n",
       "   1 │ 2023-04-17  AMD           89.87        120.0   0.7152     52.5515)\n",
       " (4, \u001b[1m8×6 DataFrame\u001b[0m\n",
       "\u001b[1m Row \u001b[0m│\u001b[1m Date       \u001b[0m\u001b[1m Ticker \u001b[0m\u001b[1m MarketPrice \u001b[0m\u001b[1m StrikePrice \u001b[0m\u001b[1m Std       \u001b[0m\u001b[1m Percentage \u001b[0m\n",
       "     │\u001b[90m Date       \u001b[0m\u001b[90m String \u001b[0m\u001b[90m Float64     \u001b[0m\u001b[90m Float64     \u001b[0m\u001b[90m Float64   \u001b[0m\u001b[90m Float64    \u001b[0m\n",
       "─────┼─────────────────────────────────────────────────────────────────────\n",
       "   1 │ 2023-06-05  AMD          117.93        150.0  0.58012      43.8166\n",
       "   2 │ 2023-06-05  AMD          117.93        135.0  0.308782     24.2513\n",
       "   3 │ 2023-06-05  AMD          117.93        145.0  0.489674     37.5636\n",
       "   4 │ 2023-06-05  AMD          117.93        120.0  0.0374446     2.98695\n",
       "   5 │ 2023-06-05  AMD          117.93        115.0  0.0530013     4.22691\n",
       "   6 │ 2023-06-05  AMD          117.93        125.0  0.127891     10.1764\n",
       "   7 │ 2023-06-05  AMD          117.93        130.0  0.218336     17.2833\n",
       "   8 │ 2023-06-05  AMD          117.93        140.0  0.399228     31.0275)\n",
       " (5, \u001b[1m7×6 DataFrame\u001b[0m\n",
       "\u001b[1m Row \u001b[0m│\u001b[1m Date       \u001b[0m\u001b[1m Ticker \u001b[0m\u001b[1m MarketPrice \u001b[0m\u001b[1m StrikePrice \u001b[0m\u001b[1m Std       \u001b[0m\u001b[1m Percentage \u001b[0m\n",
       "     │\u001b[90m Date       \u001b[0m\u001b[90m String \u001b[0m\u001b[90m Float64     \u001b[0m\u001b[90m Float64     \u001b[0m\u001b[90m Float64   \u001b[0m\u001b[90m Float64    \u001b[0m\n",
       "─────┼─────────────────────────────────────────────────────────────────────\n",
       "   1 │ 2023-07-28  AMD          112.96        140.0  0.510652     39.0405\n",
       "   2 │ 2023-07-27  AMD          111.1         110.0  0.0211214     1.68512\n",
       "   3 │ 2023-07-28  AMD          112.96        135.0  0.416227     32.2756\n",
       "   4 │ 2023-07-27  AMD          111.1         120.0  0.170891     13.5691\n",
       "   5 │ 2023-07-28  AMD          112.96        130.0  0.321802     25.2397\n",
       "   6 │ 2023-07-27  AMD          111.1         115.0  0.0748848     5.96936\n",
       "   7 │ 2023-07-27  AMD          111.1         125.0  0.266897     21.0452)\n",
       " (6, \u001b[1m8×6 DataFrame\u001b[0m\n",
       "\u001b[1m Row \u001b[0m│\u001b[1m Date       \u001b[0m\u001b[1m Ticker \u001b[0m\u001b[1m MarketPrice \u001b[0m\u001b[1m StrikePrice \u001b[0m\u001b[1m Std       \u001b[0m\u001b[1m Percentage \u001b[0m\n",
       "     │\u001b[90m Date       \u001b[0m\u001b[90m String \u001b[0m\u001b[90m Float64     \u001b[0m\u001b[90m Float64     \u001b[0m\u001b[90m Float64   \u001b[0m\u001b[90m Float64    \u001b[0m\n",
       "─────┼─────────────────────────────────────────────────────────────────────\n",
       "   1 │ 2023-09-11  AMD          105.32        100.0  0.107757     8.58113\n",
       "   2 │ 2023-09-11  AMD          105.32        105.0  0.0064816    0.517153\n",
       "   3 │ 2023-09-11  AMD          105.32        110.0  0.0947934    7.55211\n",
       "   4 │ 2023-09-11  AMD          105.32        135.0  0.601169    45.2272\n",
       "   5 │ 2023-09-11  AMD          105.32        120.0  0.297344    23.3796\n",
       "   6 │ 2023-09-11  AMD          105.32        115.0  0.196068    15.5443\n",
       "   7 │ 2023-09-11  AMD          105.32        125.0  0.398619    30.9826\n",
       "   8 │ 2023-09-11  AMD          105.32        130.0  0.499894    38.285)"
      ]
     },
     "execution_count": 940,
     "metadata": {},
     "output_type": "execute_result"
    }
   ],
   "source": [
    "dfs[\"AMD\"]"
   ]
  },
  {
   "cell_type": "markdown",
   "id": "6c604adf-5285-4d9f-9faa-1522f96bf7f0",
   "metadata": {},
   "source": [
    "sanity check -- it works!"
   ]
  },
  {
   "cell_type": "code",
   "execution_count": 935,
   "id": "66075c28-9d3a-404f-8231-152b259ed81a",
   "metadata": {},
   "outputs": [],
   "source": [
    "@assert sum(nrow(df[2]) for df in dfs[\"MSFT\"]) == length(extract_premiums_from_vector(optimal_covered_calls_dict[\"MSFT\"]))"
   ]
  },
  {
   "cell_type": "code",
   "execution_count": 966,
   "id": "ccd611a3-2e04-44bc-875b-63e05aeeec7d",
   "metadata": {},
   "outputs": [
    {
     "data": {
      "text/plain": [
       "exercise_prob (generic function with 3 methods)"
      ]
     },
     "execution_count": 966,
     "metadata": {},
     "output_type": "execute_result"
    }
   ],
   "source": [
    "function exercise_prob(dfs::Vector{Any})\n",
    "    total_percentage = 0.0\n",
    "    count = 1\n",
    "    \n",
    "    for df in dfs\n",
    "        df[2][count]\n",
    "        total_percentage += sum(df[:, :Percentage])\n",
    "        count += 1\n",
    "    end\n",
    "    \n",
    "    return total_percentage / count\n",
    "end"
   ]
  },
  {
   "cell_type": "code",
   "execution_count": 991,
   "id": "e2a5bf88-a1c9-4df6-9cdf-c173e9dbad40",
   "metadata": {},
   "outputs": [
    {
     "data": {
      "text/plain": [
       "Dict{Any, Any} with 4 entries:\n",
       "  \"MSFT\" => Any[(1, \u001b[1m3×6 DataFrame\u001b[0m\u001b[0m…\n",
       "  \"AMD\"  => Any[(1, \u001b[1m4×6 DataFrame\u001b[0m\u001b[0m…\n",
       "  \"ADBE\" => Any[(1, \u001b[1m2×6 DataFrame\u001b[0m\u001b[0m…\n",
       "  \"AAPL\" => Any[(1, \u001b[1m1×6 DataFrame\u001b[0m\u001b[0m…"
      ]
     },
     "execution_count": 991,
     "metadata": {},
     "output_type": "execute_result"
    }
   ],
   "source": [
    "dfs"
   ]
  },
  {
   "cell_type": "code",
   "execution_count": 992,
   "id": "2756073f-0253-4fa6-abed-d96c15e3b829",
   "metadata": {},
   "outputs": [
    {
     "data": {
      "text/plain": [
       "6-element Vector{Any}:\n",
       " (1, \u001b[1m3×6 DataFrame\u001b[0m\n",
       "\u001b[1m Row \u001b[0m│\u001b[1m Date       \u001b[0m\u001b[1m Ticker \u001b[0m\u001b[1m MarketPrice \u001b[0m\u001b[1m StrikePrice \u001b[0m\u001b[1m Std      \u001b[0m\u001b[1m Percentage \u001b[0m\n",
       "     │\u001b[90m Date       \u001b[0m\u001b[90m String \u001b[0m\u001b[90m Float64     \u001b[0m\u001b[90m Float64     \u001b[0m\u001b[90m Float64  \u001b[0m\u001b[90m Float64    \u001b[0m\n",
       "─────┼────────────────────────────────────────────────────────────────────\n",
       "   1 │ 2023-01-03  MSFT         239.58        260.0  0.355648     27.7896\n",
       "   2 │ 2023-01-03  MSFT         239.58        265.0  0.442731     34.204\n",
       "   3 │ 2023-01-03  MSFT         239.58        270.0  0.529815     40.3759)\n",
       " (2, \u001b[1m0×6 DataFrame\u001b[0m\n",
       "\u001b[1m Row \u001b[0m│\u001b[1m Date \u001b[0m\u001b[1m Ticker \u001b[0m\u001b[1m MarketPrice \u001b[0m\u001b[1m StrikePrice \u001b[0m\u001b[1m Std     \u001b[0m\u001b[1m Percentage \u001b[0m\n",
       "     │\u001b[90m Date \u001b[0m\u001b[90m String \u001b[0m\u001b[90m Float64     \u001b[0m\u001b[90m Float64     \u001b[0m\u001b[90m Float64 \u001b[0m\u001b[90m Float64    \u001b[0m\n",
       "─────┴─────────────────────────────────────────────────────────────)\n",
       " (3, \u001b[1m0×6 DataFrame\u001b[0m\n",
       "\u001b[1m Row \u001b[0m│\u001b[1m Date \u001b[0m\u001b[1m Ticker \u001b[0m\u001b[1m MarketPrice \u001b[0m\u001b[1m StrikePrice \u001b[0m\u001b[1m Std     \u001b[0m\u001b[1m Percentage \u001b[0m\n",
       "     │\u001b[90m Date \u001b[0m\u001b[90m String \u001b[0m\u001b[90m Float64     \u001b[0m\u001b[90m Float64     \u001b[0m\u001b[90m Float64 \u001b[0m\u001b[90m Float64    \u001b[0m\n",
       "─────┴─────────────────────────────────────────────────────────────)\n",
       " (4, \u001b[1m5×6 DataFrame\u001b[0m\n",
       "\u001b[1m Row \u001b[0m│\u001b[1m Date       \u001b[0m\u001b[1m Ticker \u001b[0m\u001b[1m MarketPrice \u001b[0m\u001b[1m StrikePrice \u001b[0m\u001b[1m Std      \u001b[0m\u001b[1m Percentage \u001b[0m\n",
       "     │\u001b[90m Date       \u001b[0m\u001b[90m String \u001b[0m\u001b[90m Float64     \u001b[0m\u001b[90m Float64     \u001b[0m\u001b[90m Float64  \u001b[0m\u001b[90m Float64    \u001b[0m\n",
       "─────┼────────────────────────────────────────────────────────────────────\n",
       "   1 │ 2023-06-05  MSFT         335.94        345.0  0.112533     8.95996\n",
       "   2 │ 2023-06-05  MSFT         335.94        365.0  0.360952    28.1864\n",
       "   3 │ 2023-06-05  MSFT         335.94        350.0  0.174638    13.8636\n",
       "   4 │ 2023-06-05  MSFT         335.94        355.0  0.236743    18.7144\n",
       "   5 │ 2023-06-05  MSFT         335.94        360.0  0.298847    23.4943)\n",
       " (5, \u001b[1m9×6 DataFrame\u001b[0m\n",
       "\u001b[1m Row \u001b[0m│\u001b[1m Date       \u001b[0m\u001b[1m Ticker \u001b[0m\u001b[1m MarketPrice \u001b[0m\u001b[1m StrikePrice \u001b[0m\u001b[1m Std       \u001b[0m\u001b[1m Percentage \u001b[0m\n",
       "     │\u001b[90m Date       \u001b[0m\u001b[90m String \u001b[0m\u001b[90m Float64     \u001b[0m\u001b[90m Float64     \u001b[0m\u001b[90m Float64   \u001b[0m\u001b[90m Float64    \u001b[0m\n",
       "─────┼─────────────────────────────────────────────────────────────────────\n",
       "   1 │ 2023-07-27  MSFT         330.72        360.0  0.369425     28.8189\n",
       "   2 │ 2023-07-27  MSFT         330.72        370.0  0.495594     37.9819\n",
       "   3 │ 2023-07-27  MSFT         330.72        345.0  0.18017      14.2981\n",
       "   4 │ 2023-07-27  MSFT         330.72        365.0  0.432509     33.4629\n",
       "   5 │ 2023-07-27  MSFT         330.72        340.0  0.117085      9.32076\n",
       "   6 │ 2023-07-27  MSFT         330.72        350.0  0.243255     19.2192\n",
       "   7 │ 2023-07-27  MSFT         330.72        375.0  0.558679     42.3619\n",
       "   8 │ 2023-07-27  MSFT         330.72        335.0  0.0540006     4.30653\n",
       "   9 │ 2023-07-27  MSFT         330.72        355.0  0.30634      24.0654)\n",
       " (6, \u001b[1m8×6 DataFrame\u001b[0m\n",
       "\u001b[1m Row \u001b[0m│\u001b[1m Date       \u001b[0m\u001b[1m Ticker \u001b[0m\u001b[1m MarketPrice \u001b[0m\u001b[1m StrikePrice \u001b[0m\u001b[1m Std       \u001b[0m\u001b[1m Percentage \u001b[0m\n",
       "     │\u001b[90m Date       \u001b[0m\u001b[90m String \u001b[0m\u001b[90m Float64     \u001b[0m\u001b[90m Float64     \u001b[0m\u001b[90m Float64   \u001b[0m\u001b[90m Float64    \u001b[0m\n",
       "─────┼─────────────────────────────────────────────────────────────────────\n",
       "   1 │ 2023-09-11  MSFT         337.94        345.0  0.0871727     6.94657\n",
       "   2 │ 2023-09-11  MSFT         337.94        365.0  0.334121     26.1712\n",
       "   3 │ 2023-09-11  MSFT         337.94        340.0  0.0254357     2.02925\n",
       "   4 │ 2023-09-11  MSFT         337.94        350.0  0.14891      11.8375\n",
       "   5 │ 2023-09-11  MSFT         337.94        335.0  0.0363014     2.89579\n",
       "   6 │ 2023-09-11  MSFT         337.94        330.0  0.0980384     7.80982\n",
       "   7 │ 2023-09-11  MSFT         337.94        355.0  0.210647     16.6837\n",
       "   8 │ 2023-09-11  MSFT         337.94        360.0  0.272384     21.4673)"
      ]
     },
     "execution_count": 992,
     "metadata": {},
     "output_type": "execute_result"
    }
   ],
   "source": [
    "dfs[\"MSFT\"]"
   ]
  },
  {
   "cell_type": "code",
   "execution_count": 1007,
   "id": "c5307358-56d8-4219-a38f-8ed46237178a",
   "metadata": {},
   "outputs": [
    {
     "data": {
      "text/plain": [
       "(4, \u001b[1m5×6 DataFrame\u001b[0m\n",
       "\u001b[1m Row \u001b[0m│\u001b[1m Date       \u001b[0m\u001b[1m Ticker \u001b[0m\u001b[1m MarketPrice \u001b[0m\u001b[1m StrikePrice \u001b[0m\u001b[1m Std      \u001b[0m\u001b[1m Percentage \u001b[0m\n",
       "     │\u001b[90m Date       \u001b[0m\u001b[90m String \u001b[0m\u001b[90m Float64     \u001b[0m\u001b[90m Float64     \u001b[0m\u001b[90m Float64  \u001b[0m\u001b[90m Float64    \u001b[0m\n",
       "─────┼────────────────────────────────────────────────────────────────────\n",
       "   1 │ 2023-06-05  MSFT         335.94        345.0  0.112533     8.95996\n",
       "   2 │ 2023-06-05  MSFT         335.94        365.0  0.360952    28.1864\n",
       "   3 │ 2023-06-05  MSFT         335.94        350.0  0.174638    13.8636\n",
       "   4 │ 2023-06-05  MSFT         335.94        355.0  0.236743    18.7144\n",
       "   5 │ 2023-06-05  MSFT         335.94        360.0  0.298847    23.4943)"
      ]
     },
     "execution_count": 1007,
     "metadata": {},
     "output_type": "execute_result"
    }
   ],
   "source": [
    "dfs[\"MSFT\"][4]"
   ]
  },
  {
   "cell_type": "code",
   "execution_count": 1019,
   "id": "9ab11bb1-b6e4-4992-91c6-7dc559ab2406",
   "metadata": {
    "jupyter": {
     "source_hidden": true
    }
   },
   "outputs": [
    {
     "data": {
      "text/plain": [
       "average_exercise_prob (generic function with 2 methods)"
      ]
     },
     "execution_count": 1019,
     "metadata": {},
     "output_type": "execute_result"
    }
   ],
   "source": [
    "function average_exercise_prob(tickers::Array{String, 1}, dfs::Dict{Any, Any})\n",
    "    exercise_df = DataFrame(Ticker=String[], AverageExerciseProbability=Float64[])\n",
    "    for ticker in tickers\n",
    "        total_percentage = 0.0\n",
    "        count = 0\n",
    "        for tuple in dfs[ticker]\n",
    "            df = tuple[2]\n",
    "            total_percentage += sum(df[:, :Percentage])\n",
    "            count += nrow(df)\n",
    "        end\n",
    "        contract_percentage = total_percentage / count\n",
    "        push!(exercise_df, (ticker, contract_percentage))\n",
    "    end\n",
    "    return exercise_df\n",
    "end"
   ]
  },
  {
   "cell_type": "code",
   "execution_count": 1021,
   "id": "e87ef193-efd0-4fb9-9408-9c08eecf92af",
   "metadata": {},
   "outputs": [
    {
     "name": "stdout",
     "output_type": "stream",
     "text": [
      "┌────────┬────────────────────────────┐\n",
      "│\u001b[1m Ticker \u001b[0m│\u001b[1m AverageExerciseProbability \u001b[0m│\n",
      "│\u001b[90m String \u001b[0m│\u001b[90m                    Float64 \u001b[0m│\n",
      "├────────┼────────────────────────────┤\n",
      "│   ADBE │                    12.0085 │\n",
      "│    AMD │                    27.9886 │\n",
      "│   MSFT │                    20.2106 │\n",
      "│   AAPL │                    28.5885 │\n",
      "└────────┴────────────────────────────┘\n"
     ]
    }
   ],
   "source": [
    "pretty_table(average_exercise_prob(call_tickers, dfs))"
   ]
  }
 ],
 "metadata": {
  "kernelspec": {
   "display_name": "Julia 1.9.2",
   "language": "julia",
   "name": "julia-1.9"
  },
  "language_info": {
   "file_extension": ".jl",
   "mimetype": "application/julia",
   "name": "julia",
   "version": "1.9.2"
  }
 },
 "nbformat": 4,
 "nbformat_minor": 5
}
