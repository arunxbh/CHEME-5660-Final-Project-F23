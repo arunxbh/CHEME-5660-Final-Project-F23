{
 "cells": [
  {
   "cell_type": "markdown",
   "id": "ec07121b-9bb9-4792-9249-57b11c238be6",
   "metadata": {},
   "source": [
    "# Load options data files\n",
    "I've downloaded the options data for the `tickers` you requested for both `call` and `put` contracts for 45-day contracts starting on `2023-01-03`. Let's walk through the `call` contract data (the `put` contract procedure is the same; we change the `jld2` file name to `Options-Put-Daily-OHLC-45d-2023.jld2`)"
   ]
  },
  {
   "cell_type": "markdown",
   "id": "0a434aa8-cb8e-43ce-8f38-a8e22ff4dd80",
   "metadata": {},
   "source": [
    "## Setup"
   ]
  },
  {
   "cell_type": "code",
   "execution_count": 227,
   "id": "39b19abd-3d21-41d9-9650-fbeae9791c89",
   "metadata": {},
   "outputs": [
    {
     "name": "stderr",
     "output_type": "stream",
     "text": [
      "\u001b[32m\u001b[1m    Updating\u001b[22m\u001b[39m git-repo `https://github.com/varnerlab/VLQuantitativeFinancePackage.jl.git`\n",
      "\u001b[32m\u001b[1m   Resolving\u001b[22m\u001b[39m package versions...\n",
      "\u001b[32m\u001b[1m  No Changes\u001b[22m\u001b[39m to `~/Documents/GitHub/CHEME5660/CHEME-5660-Project-Template-F23/Project.toml`\n",
      "\u001b[32m\u001b[1m  No Changes\u001b[22m\u001b[39m to `~/Documents/GitHub/CHEME5660/CHEME-5660-Project-Template-F23/Manifest.toml`\n",
      "\u001b[32m\u001b[1m  Activating\u001b[22m\u001b[39m project at `~/Documents/GitHub/CHEME5660/CHEME-5660-Project-Template-F23`\n",
      "\u001b[32m\u001b[1m  No Changes\u001b[22m\u001b[39m to `~/Documents/GitHub/CHEME5660/CHEME-5660-Project-Template-F23/Project.toml`\n",
      "\u001b[32m\u001b[1m  No Changes\u001b[22m\u001b[39m to `~/Documents/GitHub/CHEME5660/CHEME-5660-Project-Template-F23/Manifest.toml`\n",
      "\u001b[32m\u001b[1m    Updating\u001b[22m\u001b[39m registry at `~/.julia/registries/General.toml`\n",
      "\u001b[32m\u001b[1m    Updating\u001b[22m\u001b[39m git-repo `https://github.com/varnerlab/VLQuantitativeFinancePackage.jl.git`\n",
      "\u001b[32m\u001b[1m   Installed\u001b[22m\u001b[39m LinearOperators ─ v2.6.0\n",
      "\u001b[32m\u001b[1m  No Changes\u001b[22m\u001b[39m to `~/Documents/GitHub/CHEME5660/CHEME-5660-Project-Template-F23/Project.toml`\n",
      "\u001b[32m\u001b[1m    Updating\u001b[22m\u001b[39m `~/Documents/GitHub/CHEME5660/CHEME-5660-Project-Template-F23/Manifest.toml`\n",
      "  \u001b[90m[5c8ed15e] \u001b[39m\u001b[93m↑ LinearOperators v2.5.2 ⇒ v2.6.0\u001b[39m\n",
      "\u001b[32m\u001b[1mPrecompiling\u001b[22m\u001b[39m project...\n",
      "\u001b[33m  ✓ \u001b[39m\u001b[90mLinearOperators\u001b[39m\n",
      "\u001b[32m  ✓ \u001b[39m\u001b[90mLinearOperators → LinearOperatorsChainRulesCoreExt\u001b[39m\n",
      "\u001b[33m  ✓ \u001b[39m\u001b[90mNLPModels\u001b[39m\n",
      "\u001b[33m  ✓ \u001b[39m\u001b[90mSolverCore\u001b[39m\n",
      "\u001b[33m  ✓ \u001b[39m\u001b[90mMadNLP\u001b[39m\n",
      "\u001b[33m  ✓ \u001b[39mVLQuantitativeFinancePackage\n",
      "  6 dependencies successfully precompiled in 24 seconds. 249 already precompiled.\n",
      "  \u001b[33m5\u001b[39m dependencies precompiled but different versions are currently loaded. Restart julia to access the new versions\n"
     ]
    },
    {
     "data": {
      "text/plain": [
       "log_return_matrix (generic function with 1 method)"
      ]
     },
     "execution_count": 227,
     "metadata": {},
     "output_type": "execute_result"
    }
   ],
   "source": [
    "include(\"Include.jl\")"
   ]
  },
  {
   "cell_type": "code",
   "execution_count": 226,
   "id": "0f6b09f7-64b3-4df3-b884-f0ee055c0823",
   "metadata": {},
   "outputs": [
    {
     "data": {
      "text/plain": [
       "_loadcsvfile (generic function with 1 method)"
      ]
     },
     "execution_count": 226,
     "metadata": {},
     "output_type": "execute_result"
    }
   ],
   "source": [
    "function _loadcsvfile(path::String)::DataFrame\n",
    "    return CSV.read(path, DataFrame);\n",
    "end"
   ]
  },
  {
   "cell_type": "markdown",
   "id": "648ebeb4-f7da-4975-8774-7e7246f023bc",
   "metadata": {},
   "source": [
    "## Load `call` contract data\n",
    "We downloaded data for 45-day contracts starting on `2023-01-03` and running through `2023`. The date information for each contract is given in the `call_contract_dates` variable. This is a `Tuple` that holds the day the contract was sold (`index = 1`), the day the contract expires (`index = 2`), and the number of days of the contract (`index=3`):"
   ]
  },
  {
   "cell_type": "code",
   "execution_count": 228,
   "id": "5080ab6a-7def-4fcc-8d08-846fd6802b5f",
   "metadata": {},
   "outputs": [
    {
     "data": {
      "text/plain": [
       "8-element Vector{Tuple{Date, Date, Int64}}:\n",
       " (Date(\"2023-01-03\"), Date(\"2023-02-17\"), 45)\n",
       " (Date(\"2023-02-22\"), Date(\"2023-04-14\"), 51)\n",
       " (Date(\"2023-04-17\"), Date(\"2023-06-02\"), 46)\n",
       " (Date(\"2023-06-05\"), Date(\"2023-07-21\"), 46)\n",
       " (Date(\"2023-07-24\"), Date(\"2023-09-08\"), 46)\n",
       " (Date(\"2023-09-11\"), Date(\"2023-10-27\"), 46)\n",
       " (Date(\"2023-10-30\"), Date(\"2023-12-15\"), 46)\n",
       " (Date(\"2023-12-18\"), Date(\"2024-02-02\"), 46)"
      ]
     },
     "execution_count": 228,
     "metadata": {},
     "output_type": "execute_result"
    }
   ],
   "source": [
    "call_contract_dates = load(joinpath(_PATH_TO_DATA, \"Options-Call-Daily-OHLC-45d-2023.jld2\")) |> x -> x[\"dates\"]"
   ]
  },
  {
   "cell_type": "markdown",
   "id": "8837728a-d279-46a3-a7b7-6bbe3ced45f4",
   "metadata": {},
   "source": [
    "To see the price information for each `call` contract, we load the `call_contract_data` dictionary. This data structure holds the price values for each ticker and each date combination. "
   ]
  },
  {
   "cell_type": "code",
   "execution_count": 229,
   "id": "60b81fdf-a551-4272-b86b-91faf8570fc5",
   "metadata": {},
   "outputs": [
    {
     "data": {
      "text/plain": [
       "Dict{Tuple, NamedTuple} with 56 entries:\n",
       "  (\"AMD\", Date(\"2023-04-17… => (data = Dict{Float64, Union{Nothing, DataFrame}}…\n",
       "  (\"NVDA\", Date(\"2023-02-2… => (data = Dict{Float64, Union{Nothing, DataFrame}}…\n",
       "  (\"SPY\", Date(\"2023-06-05… => (data = Dict{Float64, Union{Nothing, DataFrame}}…\n",
       "  (\"AAPL\", Date(\"2023-06-0… => (data = Dict{Float64, Union{Nothing, DataFrame}}…\n",
       "  (\"NVDA\", Date(\"2023-07-2… => (data = Dict{Float64, Union{Nothing, DataFrame}}…\n",
       "  (\"AAPL\", Date(\"2023-10-3… => (data = Dict{Float64, Union{Nothing, DataFrame}}…\n",
       "  (\"SPY\", Date(\"2023-01-03… => (data = Dict{Float64, Union{Nothing, DataFrame}}…\n",
       "  (\"NVDA\", Date(\"2023-04-1… => (data = Dict{Float64, Union{Nothing, DataFrame}}…\n",
       "  (\"MSFT\", Date(\"2023-04-1… => (data = Dict{Float64, Union{Nothing, DataFrame}}…\n",
       "  (\"MSFT\", Date(\"2023-06-0… => (data = Dict{Float64, Union{Nothing, DataFrame}}…\n",
       "  (\"AMD\", Date(\"2023-02-22… => (data = Dict{Float64, Union{Nothing, DataFrame}}…\n",
       "  (\"ADBE\", Date(\"2023-07-2… => (data = Dict{Float64, Union{Nothing, DataFrame}}…\n",
       "  (\"NVDA\", Date(\"2023-06-0… => (data = Dict{Float64, Union{Nothing, DataFrame}}…\n",
       "  (\"SPY\", Date(\"2023-02-22… => (data = Dict{Float64, Union{Nothing, DataFrame}}…\n",
       "  (\"GS\", Date(\"2023-01-03\"… => (data = Dict{Float64, Union{Nothing, DataFrame}}…\n",
       "  (\"AAPL\", Date(\"2023-02-2… => (data = Dict{Float64, Union{Nothing, DataFrame}}…\n",
       "  (\"GS\", Date(\"2023-09-11\"… => (data = Dict{Float64, Union{Nothing, DataFrame}}…\n",
       "  (\"MSFT\", Date(\"2023-02-2… => (data = Dict{Float64, Union{Nothing, DataFrame}}…\n",
       "  (\"SPY\", Date(\"2023-10-30… => (data = Dict{Float64, Union{Nothing, DataFrame}}…\n",
       "  (\"AAPL\", Date(\"2023-01-0… => (data = Dict{Float64, Union{Nothing, DataFrame}}…\n",
       "  (\"QQQ\", Date(\"2023-09-11… => (data = Dict{Float64, Union{Nothing, DataFrame}}…\n",
       "  (\"GS\", Date(\"2023-06-05\"… => (data = Dict{Float64, Union{Nothing, DataFrame}}…\n",
       "  (\"GS\", Date(\"2023-04-17\"… => (data = Dict{Float64, Union{Nothing, DataFrame}}…\n",
       "  (\"AMD\", Date(\"2023-10-30… => (data = Dict{Float64, Union{Nothing, DataFrame}}…\n",
       "  (\"GS\", Date(\"2023-07-24\"… => (data = Dict{Float64, Union{Nothing, DataFrame}}…\n",
       "  ⋮                         => ⋮"
      ]
     },
     "execution_count": 229,
     "metadata": {},
     "output_type": "execute_result"
    }
   ],
   "source": [
    "call_contract_data = load(joinpath(_PATH_TO_DATA, \"Options-Call-Daily-OHLC-45d-2023.jld2\")) |> x -> x[\"dataset\"]"
   ]
  },
  {
   "cell_type": "code",
   "execution_count": 230,
   "id": "9dbb0138-dce8-4b8b-a80c-64f5d9d05383",
   "metadata": {},
   "outputs": [
    {
     "data": {
      "text/plain": [
       "Dict{Tuple, NamedTuple} with 56 entries:\n",
       "  (\"AMD\", Date(\"2023-04-17… => (data = Dict{Float64, Union{Nothing, DataFrame}}…\n",
       "  (\"NVDA\", Date(\"2023-02-2… => (data = Dict{Float64, Union{Nothing, DataFrame}}…\n",
       "  (\"SPY\", Date(\"2023-06-05… => (data = Dict{Float64, Union{Nothing, DataFrame}}…\n",
       "  (\"AAPL\", Date(\"2023-06-0… => (data = Dict{Float64, Union{Nothing, DataFrame}}…\n",
       "  (\"NVDA\", Date(\"2023-07-2… => (data = Dict{Float64, Union{Nothing, DataFrame}}…\n",
       "  (\"AAPL\", Date(\"2023-10-3… => (data = Dict{Float64, Union{Nothing, DataFrame}}…\n",
       "  (\"SPY\", Date(\"2023-01-03… => (data = Dict{Float64, Union{Nothing, DataFrame}}…\n",
       "  (\"NVDA\", Date(\"2023-04-1… => (data = Dict{Float64, Union{Nothing, DataFrame}}…\n",
       "  (\"MSFT\", Date(\"2023-04-1… => (data = Dict{Float64, Union{Nothing, DataFrame}}…\n",
       "  (\"MSFT\", Date(\"2023-06-0… => (data = Dict{Float64, Union{Nothing, DataFrame}}…\n",
       "  (\"AMD\", Date(\"2023-02-22… => (data = Dict{Float64, Union{Nothing, DataFrame}}…\n",
       "  (\"ADBE\", Date(\"2023-07-2… => (data = Dict{Float64, Union{Nothing, DataFrame}}…\n",
       "  (\"NVDA\", Date(\"2023-06-0… => (data = Dict{Float64, Union{Nothing, DataFrame}}…\n",
       "  (\"SPY\", Date(\"2023-02-22… => (data = Dict{Float64, Union{Nothing, DataFrame}}…\n",
       "  (\"GS\", Date(\"2023-01-03\"… => (data = Dict{Float64, Union{Nothing, DataFrame}}…\n",
       "  (\"AAPL\", Date(\"2023-02-2… => (data = Dict{Float64, Union{Nothing, DataFrame}}…\n",
       "  (\"GS\", Date(\"2023-09-11\"… => (data = Dict{Float64, Union{Nothing, DataFrame}}…\n",
       "  (\"MSFT\", Date(\"2023-02-2… => (data = Dict{Float64, Union{Nothing, DataFrame}}…\n",
       "  (\"SPY\", Date(\"2023-10-30… => (data = Dict{Float64, Union{Nothing, DataFrame}}…\n",
       "  (\"AAPL\", Date(\"2023-01-0… => (data = Dict{Float64, Union{Nothing, DataFrame}}…\n",
       "  (\"QQQ\", Date(\"2023-09-11… => (data = Dict{Float64, Union{Nothing, DataFrame}}…\n",
       "  (\"GS\", Date(\"2023-06-05\"… => (data = Dict{Float64, Union{Nothing, DataFrame}}…\n",
       "  (\"GS\", Date(\"2023-04-17\"… => (data = Dict{Float64, Union{Nothing, DataFrame}}…\n",
       "  (\"AMD\", Date(\"2023-10-30… => (data = Dict{Float64, Union{Nothing, DataFrame}}…\n",
       "  (\"GS\", Date(\"2023-07-24\"… => (data = Dict{Float64, Union{Nothing, DataFrame}}…\n",
       "  ⋮                         => ⋮"
      ]
     },
     "execution_count": 230,
     "metadata": {},
     "output_type": "execute_result"
    }
   ],
   "source": [
    "call_contract_data"
   ]
  },
  {
   "cell_type": "markdown",
   "id": "6f938e91-34a2-4474-a37b-6ae89322ad3e",
   "metadata": {},
   "source": [
    "We access this information by constructing a `tuple,` with the first item being the `ticker,` the second being the `sell` data, and the third item being the expiration date.\n",
    "* For example, to look at the data for an `AMD` call sold on `2023-06-05` and expiring on `2023-07-21`, the `key` would be:"
   ]
  },
  {
   "cell_type": "code",
   "execution_count": 231,
   "id": "a2b30422-2680-4b5e-8f49-518628629723",
   "metadata": {},
   "outputs": [],
   "source": [
    "test_key = (\"ADBE\", Date(\"2023-01-03\"), Date(\"2023-02-17\"));"
   ]
  },
  {
   "cell_type": "markdown",
   "id": "c3bfc254-6010-48d0-8a25-942dad85b700",
   "metadata": {},
   "source": [
    "passing this `key` into the `call_contract_data` dictionary gives us a `dictionary` holding the `OHLC` data for several strike prices:"
   ]
  },
  {
   "cell_type": "code",
   "execution_count": 232,
   "id": "07b30610-5ab5-4cbc-8e27-70f59904c26b",
   "metadata": {},
   "outputs": [
    {
     "data": {
      "text/plain": [
       "Dict{Float64, Union{Nothing, DataFrame}} with 13 entries:\n",
       "  315.0 => \u001b[1m19×8 DataFrame\u001b[0m\u001b[0m…\n",
       "  305.0 => \u001b[1m3×8 DataFrame\u001b[0m\u001b[0m…\n",
       "  345.0 => \u001b[1m32×8 DataFrame\u001b[0m\u001b[0m…\n",
       "  310.0 => \u001b[1m9×8 DataFrame\u001b[0m\u001b[0m…\n",
       "  325.0 => \u001b[1m22×8 DataFrame\u001b[0m\u001b[0m…\n",
       "  365.0 => \u001b[1m33×8 DataFrame\u001b[0m\u001b[0m…\n",
       "  340.0 => \u001b[1m29×8 DataFrame\u001b[0m\u001b[0m…\n",
       "  350.0 => \u001b[1m33×8 DataFrame\u001b[0m\u001b[0m…\n",
       "  335.0 => \u001b[1m29×8 DataFrame\u001b[0m\u001b[0m…\n",
       "  330.0 => \u001b[1m30×8 DataFrame\u001b[0m\u001b[0m…\n",
       "  355.0 => \u001b[1m33×8 DataFrame\u001b[0m\u001b[0m…\n",
       "  320.0 => \u001b[1m18×8 DataFrame\u001b[0m\u001b[0m…\n",
       "  360.0 => \u001b[1m33×8 DataFrame\u001b[0m\u001b[0m…"
      ]
     },
     "execution_count": 232,
     "metadata": {},
     "output_type": "execute_result"
    }
   ],
   "source": [
    "ADBE = call_contract_data[test_key] |> x-> x[:data]"
   ]
  },
  {
   "cell_type": "code",
   "execution_count": 233,
   "id": "368fec8b-e259-4995-a74c-19c884d1f42e",
   "metadata": {},
   "outputs": [
    {
     "data": {
      "text/html": [
       "<div><div style = \"float: left;\"><span>DataFrameRow (8 columns)</span></div><div style = \"clear: both;\"></div></div><div class = \"data-frame\" style = \"overflow-x: scroll;\"><table class = \"data-frame\" style = \"margin-bottom: 6px;\"><thead><tr class = \"header\"><th class = \"rowLabel\" style = \"font-weight: bold; text-align: right;\">Row</th><th style = \"text-align: left;\">volume</th><th style = \"text-align: left;\">volume_weighted_average_price</th><th style = \"text-align: left;\">open</th><th style = \"text-align: left;\">close</th><th style = \"text-align: left;\">high</th><th style = \"text-align: left;\">low</th><th style = \"text-align: left;\">timestamp</th><th style = \"text-align: left;\">number_of_transactions</th></tr><tr class = \"subheader headerLastRow\"><th class = \"rowLabel\" style = \"font-weight: bold; text-align: right;\"></th><th title = \"Float64\" style = \"text-align: left;\">Float64</th><th title = \"Float64\" style = \"text-align: left;\">Float64</th><th title = \"Float64\" style = \"text-align: left;\">Float64</th><th title = \"Float64\" style = \"text-align: left;\">Float64</th><th title = \"Float64\" style = \"text-align: left;\">Float64</th><th title = \"Float64\" style = \"text-align: left;\">Float64</th><th title = \"DateTime\" style = \"text-align: left;\">DateTime</th><th title = \"Int64\" style = \"text-align: left;\">Int64</th></tr></thead><tbody><tr><td class = \"rowLabel\" style = \"font-weight: bold; text-align: right;\">1</td><td style = \"text-align: right;\">618.0</td><td style = \"text-align: right;\">4.7143</td><td style = \"text-align: right;\">5.32</td><td style = \"text-align: right;\">4.1</td><td style = \"text-align: right;\">6.1</td><td style = \"text-align: right;\">3.85</td><td style = \"text-align: left;\">2023-01-03T05:00:00</td><td style = \"text-align: right;\">121</td></tr></tbody></table></div>"
      ],
      "text/latex": [
       "\\begin{tabular}{r|cccccccc}\n",
       "\t& volume & volume\\_weighted\\_average\\_price & open & close & high & low & timestamp & \\\\\n",
       "\t\\hline\n",
       "\t& Float64 & Float64 & Float64 & Float64 & Float64 & Float64 & DateTime & \\\\\n",
       "\t\\hline\n",
       "\t1 & 618.0 & 4.7143 & 5.32 & 4.1 & 6.1 & 3.85 & 2023-01-03T05:00:00 & $\\dots$ \\\\\n",
       "\\end{tabular}\n"
      ],
      "text/plain": [
       "\u001b[1mDataFrameRow\u001b[0m\n",
       "\u001b[1m Row \u001b[0m│\u001b[1m volume  \u001b[0m\u001b[1m volume_weighted_average_price \u001b[0m\u001b[1m open    \u001b[0m\u001b[1m close   \u001b[0m\u001b[1m high    \u001b[0m\u001b[1m low \u001b[0m ⋯\n",
       "     │\u001b[90m Float64 \u001b[0m\u001b[90m Float64                       \u001b[0m\u001b[90m Float64 \u001b[0m\u001b[90m Float64 \u001b[0m\u001b[90m Float64 \u001b[0m\u001b[90m Floa\u001b[0m ⋯\n",
       "─────┼──────────────────────────────────────────────────────────────────────────\n",
       "   1 │   618.0                         4.7143     5.32      4.1      6.1     3 ⋯\n",
       "\u001b[36m                                                               3 columns omitted\u001b[0m"
      ]
     },
     "execution_count": 233,
     "metadata": {},
     "output_type": "execute_result"
    }
   ],
   "source": [
    "MSFT[260.0][1,:]"
   ]
  },
  {
   "cell_type": "code",
   "execution_count": 234,
   "id": "2893cc1d-8064-478f-80bb-953353db5307",
   "metadata": {},
   "outputs": [
    {
     "data": {
      "text/plain": [
       "471.42999999999995"
      ]
     },
     "execution_count": 234,
     "metadata": {},
     "output_type": "execute_result"
    }
   ],
   "source": [
    "MSFT[260.0][1,:2]*100"
   ]
  },
  {
   "cell_type": "code",
   "execution_count": 235,
   "id": "6dbfdd9e-e33d-4c22-8439-b4f68813ecd7",
   "metadata": {},
   "outputs": [],
   "source": [
    "original_dataset = load(joinpath(_PATH_TO_DATA, \n",
    "        \"SP500-Daily-OHLC-1-3-2018-to-12-01-2023.jld2\")) |> x-> x[\"dataset\"];"
   ]
  },
  {
   "cell_type": "code",
   "execution_count": 236,
   "id": "f9cf40e9-74f0-4b78-979b-da1a65116c0c",
   "metadata": {
    "jupyter": {
     "source_hidden": true
    }
   },
   "outputs": [],
   "source": [
    "maximum_number_trading_days = original_dataset[\"MSFT\"] |> nrow;\n",
    "\n",
    "dataset = Dict{String,DataFrame}();\n",
    "for (ticker,data) ∈ original_dataset\n",
    "    if (nrow(data) == maximum_number_trading_days)\n",
    "        dataset[ticker] = data;\n",
    "    end\n",
    "end\n",
    "dataset;\n",
    "\n",
    "all_tickers = keys(dataset) |> collect |> sort;\n",
    "K = length(all_tickers);\n",
    "\n",
    "startdate = Date(2023,01,03);\n",
    "MSFT_dataset = dataset[\"MSFT\"];\n",
    "MSFT_df = filter(:timestamp => x-> x >= startdate, MSFT_dataset);"
   ]
  },
  {
   "cell_type": "code",
   "execution_count": 237,
   "id": "ebb3c651-a7f6-4a1a-81e7-a5f45dc72890",
   "metadata": {},
   "outputs": [
    {
     "data": {
      "text/html": [
       "<div><div style = \"float: left;\"><span>1×8 DataFrame</span></div><div style = \"clear: both;\"></div></div><div class = \"data-frame\" style = \"overflow-x: scroll;\"><table class = \"data-frame\" style = \"margin-bottom: 6px;\"><thead><tr class = \"header\"><th class = \"rowNumber\" style = \"font-weight: bold; text-align: right;\">Row</th><th style = \"text-align: left;\">volume</th><th style = \"text-align: left;\">volume_weighted_average_price</th><th style = \"text-align: left;\">open</th><th style = \"text-align: left;\">close</th><th style = \"text-align: left;\">high</th><th style = \"text-align: left;\">low</th><th style = \"text-align: left;\">timestamp</th><th style = \"text-align: left;\">number_of_transactions</th></tr><tr class = \"subheader headerLastRow\"><th class = \"rowNumber\" style = \"font-weight: bold; text-align: right;\"></th><th title = \"Float64\" style = \"text-align: left;\">Float64</th><th title = \"Float64\" style = \"text-align: left;\">Float64</th><th title = \"Float64\" style = \"text-align: left;\">Float64</th><th title = \"Float64\" style = \"text-align: left;\">Float64</th><th title = \"Float64\" style = \"text-align: left;\">Float64</th><th title = \"Float64\" style = \"text-align: left;\">Float64</th><th title = \"DateTime\" style = \"text-align: left;\">DateTime</th><th title = \"Int64\" style = \"text-align: left;\">Int64</th></tr></thead><tbody><tr><td class = \"rowNumber\" style = \"font-weight: bold; text-align: right;\">1</td><td style = \"text-align: right;\">2.574e7</td><td style = \"text-align: right;\">239.839</td><td style = \"text-align: right;\">243.08</td><td style = \"text-align: right;\">239.58</td><td style = \"text-align: right;\">245.75</td><td style = \"text-align: right;\">237.4</td><td style = \"text-align: left;\">2023-01-03T05:00:00</td><td style = \"text-align: right;\">314904</td></tr></tbody></table></div>"
      ],
      "text/latex": [
       "\\begin{tabular}{r|cccccccc}\n",
       "\t& volume & volume\\_weighted\\_average\\_price & open & close & high & low & timestamp & \\\\\n",
       "\t\\hline\n",
       "\t& Float64 & Float64 & Float64 & Float64 & Float64 & Float64 & DateTime & \\\\\n",
       "\t\\hline\n",
       "\t1 & 2.574e7 & 239.839 & 243.08 & 239.58 & 245.75 & 237.4 & 2023-01-03T05:00:00 & $\\dots$ \\\\\n",
       "\\end{tabular}\n"
      ],
      "text/plain": [
       "\u001b[1m1×8 DataFrame\u001b[0m\n",
       "\u001b[1m Row \u001b[0m│\u001b[1m volume  \u001b[0m\u001b[1m volume_weighted_average_price \u001b[0m\u001b[1m open    \u001b[0m\u001b[1m close   \u001b[0m\u001b[1m high    \u001b[0m\u001b[1m low \u001b[0m ⋯\n",
       "     │\u001b[90m Float64 \u001b[0m\u001b[90m Float64                       \u001b[0m\u001b[90m Float64 \u001b[0m\u001b[90m Float64 \u001b[0m\u001b[90m Float64 \u001b[0m\u001b[90m Floa\u001b[0m ⋯\n",
       "─────┼──────────────────────────────────────────────────────────────────────────\n",
       "   1 │ 2.574e7                        239.839   243.08   239.58   245.75    23 ⋯\n",
       "\u001b[36m                                                               3 columns omitted\u001b[0m"
      ]
     },
     "execution_count": 237,
     "metadata": {},
     "output_type": "execute_result"
    }
   ],
   "source": [
    "MSFT_df[MSFT_df.timestamp .== DateTime(2023, 1, 3, 5, 0, 0), :]"
   ]
  },
  {
   "cell_type": "code",
   "execution_count": 238,
   "id": "850ed3ee-1422-402d-9eed-a8c7c2fb8f1e",
   "metadata": {},
   "outputs": [
    {
     "data": {
      "text/html": [
       "<div><div style = \"float: left;\"><span>1×8 DataFrame</span></div><div style = \"clear: both;\"></div></div><div class = \"data-frame\" style = \"overflow-x: scroll;\"><table class = \"data-frame\" style = \"margin-bottom: 6px;\"><thead><tr class = \"header\"><th class = \"rowNumber\" style = \"font-weight: bold; text-align: right;\">Row</th><th style = \"text-align: left;\">volume</th><th style = \"text-align: left;\">volume_weighted_average_price</th><th style = \"text-align: left;\">open</th><th style = \"text-align: left;\">close</th><th style = \"text-align: left;\">high</th><th style = \"text-align: left;\">low</th><th style = \"text-align: left;\">timestamp</th><th style = \"text-align: left;\">number_of_transactions</th></tr><tr class = \"subheader headerLastRow\"><th class = \"rowNumber\" style = \"font-weight: bold; text-align: right;\"></th><th title = \"Float64\" style = \"text-align: left;\">Float64</th><th title = \"Float64\" style = \"text-align: left;\">Float64</th><th title = \"Float64\" style = \"text-align: left;\">Float64</th><th title = \"Float64\" style = \"text-align: left;\">Float64</th><th title = \"Float64\" style = \"text-align: left;\">Float64</th><th title = \"Float64\" style = \"text-align: left;\">Float64</th><th title = \"DateTime\" style = \"text-align: left;\">DateTime</th><th title = \"Int64\" style = \"text-align: left;\">Int64</th></tr></thead><tbody><tr><td class = \"rowNumber\" style = \"font-weight: bold; text-align: right;\">1</td><td style = \"text-align: right;\">2.99982e7</td><td style = \"text-align: right;\">257.685</td><td style = \"text-align: right;\">259.39</td><td style = \"text-align: right;\">258.06</td><td style = \"text-align: right;\">260.09</td><td style = \"text-align: right;\">256.0</td><td style = \"text-align: left;\">2023-02-17T05:00:00</td><td style = \"text-align: right;\">392723</td></tr></tbody></table></div>"
      ],
      "text/latex": [
       "\\begin{tabular}{r|cccccccc}\n",
       "\t& volume & volume\\_weighted\\_average\\_price & open & close & high & low & timestamp & \\\\\n",
       "\t\\hline\n",
       "\t& Float64 & Float64 & Float64 & Float64 & Float64 & Float64 & DateTime & \\\\\n",
       "\t\\hline\n",
       "\t1 & 2.99982e7 & 257.685 & 259.39 & 258.06 & 260.09 & 256.0 & 2023-02-17T05:00:00 & $\\dots$ \\\\\n",
       "\\end{tabular}\n"
      ],
      "text/plain": [
       "\u001b[1m1×8 DataFrame\u001b[0m\n",
       "\u001b[1m Row \u001b[0m│\u001b[1m volume    \u001b[0m\u001b[1m volume_weighted_average_price \u001b[0m\u001b[1m open    \u001b[0m\u001b[1m close   \u001b[0m\u001b[1m high    \u001b[0m\u001b[1m lo\u001b[0m ⋯\n",
       "     │\u001b[90m Float64   \u001b[0m\u001b[90m Float64                       \u001b[0m\u001b[90m Float64 \u001b[0m\u001b[90m Float64 \u001b[0m\u001b[90m Float64 \u001b[0m\u001b[90m Fl\u001b[0m ⋯\n",
       "─────┼──────────────────────────────────────────────────────────────────────────\n",
       "   1 │ 2.99982e7                        257.685   259.39   258.06   260.09     ⋯\n",
       "\u001b[36m                                                               3 columns omitted\u001b[0m"
      ]
     },
     "execution_count": 238,
     "metadata": {},
     "output_type": "execute_result"
    }
   ],
   "source": [
    "MSFT_df[MSFT_df.timestamp .== DateTime(2023, 2, 17, 5, 0, 0), :]"
   ]
  },
  {
   "cell_type": "code",
   "execution_count": 239,
   "id": "1bf9d97e-4577-43dc-8b33-db2768a58899",
   "metadata": {
    "scrolled": true
   },
   "outputs": [
    {
     "data": {
      "text/plain": [
       "option_value (generic function with 1 method)"
      ]
     },
     "execution_count": 239,
     "metadata": {},
     "output_type": "execute_result"
    }
   ],
   "source": [
    "function option_value(market_df::DataFrame, options_df::DataFrame, strike_price::Float64)\n",
    "    last_day = maximum(options_df[:, :timestamp])\n",
    "    last_day_market_info = market_df[market_df[:, :timestamp] .== last_day, :]\n",
    "\n",
    "    last_day_market_price = last_day_market_info[1, :close]\n",
    "    if last_day_market_price < strike_price\n",
    "        # If the option expires worthless return 1.0, otherwise return 0.0\n",
    "        return 1.0\n",
    "    end\n",
    "end\n"
   ]
  },
  {
   "cell_type": "code",
   "execution_count": 240,
   "id": "a507ea91-3970-4814-8258-0c3366e23b44",
   "metadata": {},
   "outputs": [
    {
     "data": {
      "text/plain": [
       "Dict{Float64, Union{Nothing, DataFrame}} with 13 entries:\n",
       "  260.0 => \u001b[1m33×8 DataFrame\u001b[0m\u001b[0m…\n",
       "  230.0 => \u001b[1m33×8 DataFrame\u001b[0m\u001b[0m…\n",
       "  265.0 => \u001b[1m33×8 DataFrame\u001b[0m\u001b[0m…\n",
       "  210.0 => \u001b[1m29×8 DataFrame\u001b[0m\u001b[0m…\n",
       "  220.0 => \u001b[1m33×8 DataFrame\u001b[0m\u001b[0m…\n",
       "  255.0 => \u001b[1m33×8 DataFrame\u001b[0m\u001b[0m…\n",
       "  225.0 => \u001b[1m33×8 DataFrame\u001b[0m\u001b[0m…\n",
       "  245.0 => \u001b[1m33×8 DataFrame\u001b[0m\u001b[0m…\n",
       "  215.0 => \u001b[1m26×8 DataFrame\u001b[0m\u001b[0m…\n",
       "  240.0 => \u001b[1m33×8 DataFrame\u001b[0m\u001b[0m…\n",
       "  235.0 => \u001b[1m33×8 DataFrame\u001b[0m\u001b[0m…\n",
       "  250.0 => \u001b[1m33×8 DataFrame\u001b[0m\u001b[0m…\n",
       "  270.0 => \u001b[1m33×8 DataFrame\u001b[0m\u001b[0m…"
      ]
     },
     "execution_count": 240,
     "metadata": {},
     "output_type": "execute_result"
    }
   ],
   "source": [
    "MSFT"
   ]
  },
  {
   "cell_type": "code",
   "execution_count": 395,
   "id": "1f12b38c-acdd-4deb-b757-57887d6aa3e5",
   "metadata": {},
   "outputs": [
    {
     "data": {
      "text/plain": [
       "get_good_calls (generic function with 1 method)"
      ]
     },
     "execution_count": 395,
     "metadata": {},
     "output_type": "execute_result"
    }
   ],
   "source": [
    "function get_good_calls(ticker::String, AssetDict::Dict{Float64, Union{Nothing, DataFrame}})\n",
    "    good_calls = []\n",
    "    for (strike_price, options_df) in AssetDict\n",
    "        result = option_value(tech_price_df[ticker], options_df, strike_price)\n",
    "        \n",
    "        if result !== nothing\n",
    "            premium = round(options_df[1, :][\"volume_weighted_average_price\"] * 100, digits=2)\n",
    "            call_description = \"For a $ticker short call with a strike price $strike_price and a premium $premium: $result\"\n",
    "            push!(good_calls, call_description, premium) \n",
    "        end\n",
    "    end\n",
    "\n",
    "    return good_calls\n",
    "end"
   ]
  },
  {
   "cell_type": "code",
   "execution_count": 396,
   "id": "aea9536f-844b-41d8-9362-4d0261ed45a4",
   "metadata": {},
   "outputs": [],
   "source": [
    "tech_portfolio = [\"AMD\", \"AAPL\", \"MSFT\", \"NVDA\", \"ADBE\", \"SPY\"]\n",
    "tech_contracts = Dict()\n",
    "\n",
    "for (key, value) in call_contract_data\n",
    "    ticker, date = key\n",
    "    if ticker in tech_portfolio\n",
    "        tech_contracts[key] = value\n",
    "    end\n",
    "end"
   ]
  },
  {
   "cell_type": "code",
   "execution_count": 397,
   "id": "9592b612-33c1-44f5-a894-898a43a234d1",
   "metadata": {},
   "outputs": [
    {
     "data": {
      "text/plain": [
       "Dict{Any, Any} with 42 entries:\n",
       "  (\"ADBE\", Date(\"2023-02-2… => (data = Dict{Float64, Union{Nothing, DataFrame}}…\n",
       "  (\"ADBE\", Date(\"2023-10-3… => (data = Dict{Float64, Union{Nothing, DataFrame}}…\n",
       "  (\"AMD\", Date(\"2023-04-17… => (data = Dict{Float64, Union{Nothing, DataFrame}}…\n",
       "  (\"NVDA\", Date(\"2023-02-2… => (data = Dict{Float64, Union{Nothing, DataFrame}}…\n",
       "  (\"SPY\", Date(\"2023-06-05… => (data = Dict{Float64, Union{Nothing, DataFrame}}…\n",
       "  (\"AAPL\", Date(\"2023-06-0… => (data = Dict{Float64, Union{Nothing, DataFrame}}…\n",
       "  (\"NVDA\", Date(\"2023-07-2… => (data = Dict{Float64, Union{Nothing, DataFrame}}…\n",
       "  (\"AAPL\", Date(\"2023-10-3… => (data = Dict{Float64, Union{Nothing, DataFrame}}…\n",
       "  (\"SPY\", Date(\"2023-09-11… => (data = Dict{Float64, Union{Nothing, DataFrame}}…\n",
       "  (\"ADBE\", Date(\"2023-06-0… => (data = Dict{Float64, Union{Nothing, DataFrame}}…\n",
       "  (\"SPY\", Date(\"2023-01-03… => (data = Dict{Float64, Union{Nothing, DataFrame}}…\n",
       "  (\"NVDA\", Date(\"2023-04-1… => (data = Dict{Float64, Union{Nothing, DataFrame}}…\n",
       "  (\"ADBE\", Date(\"2023-09-1… => (data = Dict{Float64, Union{Nothing, DataFrame}}…\n",
       "  (\"MSFT\", Date(\"2023-01-0… => (data = Dict{Float64, Union{Nothing, DataFrame}}…\n",
       "  (\"MSFT\", Date(\"2023-04-1… => (data = Dict{Float64, Union{Nothing, DataFrame}}…\n",
       "  (\"MSFT\", Date(\"2023-06-0… => (data = Dict{Float64, Union{Nothing, DataFrame}}…\n",
       "  (\"AMD\", Date(\"2023-02-22… => (data = Dict{Float64, Union{Nothing, DataFrame}}…\n",
       "  (\"ADBE\", Date(\"2023-07-2… => (data = Dict{Float64, Union{Nothing, DataFrame}}…\n",
       "  (\"NVDA\", Date(\"2023-06-0… => (data = Dict{Float64, Union{Nothing, DataFrame}}…\n",
       "  (\"SPY\", Date(\"2023-02-22… => (data = Dict{Float64, Union{Nothing, DataFrame}}…\n",
       "  (\"MSFT\", Date(\"2023-07-2… => (data = Dict{Float64, Union{Nothing, DataFrame}}…\n",
       "  (\"SPY\", Date(\"2023-04-17… => (data = Dict{Float64, Union{Nothing, DataFrame}}…\n",
       "  (\"MSFT\", Date(\"2023-10-3… => (data = Dict{Float64, Union{Nothing, DataFrame}}…\n",
       "  (\"AMD\", Date(\"2023-09-11… => (data = Dict{Float64, Union{Nothing, DataFrame}}…\n",
       "  (\"AMD\", Date(\"2023-06-05… => (data = Dict{Float64, Union{Nothing, DataFrame}}…\n",
       "  ⋮                         => ⋮"
      ]
     },
     "execution_count": 397,
     "metadata": {},
     "output_type": "execute_result"
    }
   ],
   "source": [
    "tech_contracts"
   ]
  },
  {
   "cell_type": "code",
   "execution_count": 398,
   "id": "99b97756-980b-4d84-9872-2527741950d5",
   "metadata": {},
   "outputs": [
    {
     "data": {
      "text/plain": [
       "3-element Vector{Tuple{Date, Date, Int64}}:\n",
       " (Date(\"2023-01-03\"), Date(\"2023-02-17\"), 45)\n",
       " (Date(\"2023-02-22\"), Date(\"2023-04-14\"), 51)\n",
       " (Date(\"2023-04-17\"), Date(\"2023-06-02\"), 46)"
      ]
     },
     "execution_count": 398,
     "metadata": {},
     "output_type": "execute_result"
    }
   ],
   "source": [
    "call_contract_dates[1:3]"
   ]
  },
  {
   "cell_type": "code",
   "execution_count": 399,
   "id": "275543a2-1713-40ba-9f8e-3febbc453668",
   "metadata": {},
   "outputs": [],
   "source": [
    "MyFirmParametersDataSet() = _loadcsvfile(joinpath(_PATH_TO_DATA, \"Parameters-SP500-2018-2022.csv\"));"
   ]
  },
  {
   "cell_type": "code",
   "execution_count": 400,
   "id": "99dbc58c-768e-445d-bc25-a54858f27621",
   "metadata": {},
   "outputs": [
    {
     "data": {
      "text/html": [
       "<div><div style = \"float: left;\"><span>458×4 DataFrame</span></div><div style = \"float: right;\"><span style = \"font-style: italic;\">433 rows omitted</span></div><div style = \"clear: both;\"></div></div><div class = \"data-frame\" style = \"overflow-x: scroll;\"><table class = \"data-frame\" style = \"margin-bottom: 6px;\"><thead><tr class = \"header\"><th class = \"rowNumber\" style = \"font-weight: bold; text-align: right;\">Row</th><th style = \"text-align: left;\">index</th><th style = \"text-align: left;\">ticker</th><th style = \"text-align: left;\">drift</th><th style = \"text-align: left;\">volatility</th></tr><tr class = \"subheader headerLastRow\"><th class = \"rowNumber\" style = \"font-weight: bold; text-align: right;\"></th><th title = \"Int64\" style = \"text-align: left;\">Int64</th><th title = \"String7\" style = \"text-align: left;\">String7</th><th title = \"Float64\" style = \"text-align: left;\">Float64</th><th title = \"Float64\" style = \"text-align: left;\">Float64</th></tr></thead><tbody><tr><td class = \"rowNumber\" style = \"font-weight: bold; text-align: right;\">1</td><td style = \"text-align: right;\">1</td><td style = \"text-align: left;\">MMM</td><td style = \"text-align: right;\">-0.0822692</td><td style = \"text-align: right;\">0.238729</td></tr><tr><td class = \"rowNumber\" style = \"font-weight: bold; text-align: right;\">2</td><td style = \"text-align: right;\">2</td><td style = \"text-align: left;\">AOS</td><td style = \"text-align: right;\">0.0441975</td><td style = \"text-align: right;\">0.266025</td></tr><tr><td class = \"rowNumber\" style = \"font-weight: bold; text-align: right;\">3</td><td style = \"text-align: right;\">3</td><td style = \"text-align: left;\">ABT</td><td style = \"text-align: right;\">0.151149</td><td style = \"text-align: right;\">0.230271</td></tr><tr><td class = \"rowNumber\" style = \"font-weight: bold; text-align: right;\">4</td><td style = \"text-align: right;\">4</td><td style = \"text-align: left;\">ABBV</td><td style = \"text-align: right;\">0.118596</td><td style = \"text-align: right;\">0.266743</td></tr><tr><td class = \"rowNumber\" style = \"font-weight: bold; text-align: right;\">5</td><td style = \"text-align: right;\">6</td><td style = \"text-align: left;\">ACN</td><td style = \"text-align: right;\">0.178695</td><td style = \"text-align: right;\">0.250005</td></tr><tr><td class = \"rowNumber\" style = \"font-weight: bold; text-align: right;\">6</td><td style = \"text-align: right;\">7</td><td style = \"text-align: left;\">ATVI</td><td style = \"text-align: right;\">0.0745844</td><td style = \"text-align: right;\">0.305086</td></tr><tr><td class = \"rowNumber\" style = \"font-weight: bold; text-align: right;\">7</td><td style = \"text-align: right;\">8</td><td style = \"text-align: left;\">ADM</td><td style = \"text-align: right;\">0.161607</td><td style = \"text-align: right;\">0.237929</td></tr><tr><td class = \"rowNumber\" style = \"font-weight: bold; text-align: right;\">8</td><td style = \"text-align: right;\">9</td><td style = \"text-align: left;\">ADBE</td><td style = \"text-align: right;\">0.171392</td><td style = \"text-align: right;\">0.307362</td></tr><tr><td class = \"rowNumber\" style = \"font-weight: bold; text-align: right;\">9</td><td style = \"text-align: right;\">10</td><td style = \"text-align: left;\">AAP</td><td style = \"text-align: right;\">0.0890969</td><td style = \"text-align: right;\">0.307218</td></tr><tr><td class = \"rowNumber\" style = \"font-weight: bold; text-align: right;\">10</td><td style = \"text-align: right;\">11</td><td style = \"text-align: left;\">AMD</td><td style = \"text-align: right;\">0.460484</td><td style = \"text-align: right;\">0.468767</td></tr><tr><td class = \"rowNumber\" style = \"font-weight: bold; text-align: right;\">11</td><td style = \"text-align: right;\">12</td><td style = \"text-align: left;\">AES</td><td style = \"text-align: right;\">0.163333</td><td style = \"text-align: right;\">0.323119</td></tr><tr><td class = \"rowNumber\" style = \"font-weight: bold; text-align: right;\">12</td><td style = \"text-align: right;\">13</td><td style = \"text-align: left;\">AFL</td><td style = \"text-align: right;\">0.0672164</td><td style = \"text-align: right;\">0.272687</td></tr><tr><td class = \"rowNumber\" style = \"font-weight: bold; text-align: right;\">13</td><td style = \"text-align: right;\">14</td><td style = \"text-align: left;\">A</td><td style = \"text-align: right;\">0.200418</td><td style = \"text-align: right;\">0.256747</td></tr><tr><td style = \"text-align: right;\">&vellip;</td><td style = \"text-align: right;\">&vellip;</td><td style = \"text-align: right;\">&vellip;</td><td style = \"text-align: right;\">&vellip;</td><td style = \"text-align: right;\">&vellip;</td></tr><tr><td class = \"rowNumber\" style = \"font-weight: bold; text-align: right;\">447</td><td style = \"text-align: right;\">492</td><td style = \"text-align: left;\">WRK</td><td style = \"text-align: right;\">-0.0370295</td><td style = \"text-align: right;\">0.356485</td></tr><tr><td class = \"rowNumber\" style = \"font-weight: bold; text-align: right;\">448</td><td style = \"text-align: right;\">493</td><td style = \"text-align: left;\">WY</td><td style = \"text-align: right;\">0.0431223</td><td style = \"text-align: right;\">0.323738</td></tr><tr><td class = \"rowNumber\" style = \"font-weight: bold; text-align: right;\">449</td><td style = \"text-align: right;\">494</td><td style = \"text-align: left;\">WHR</td><td style = \"text-align: right;\">0.0772521</td><td style = \"text-align: right;\">0.345513</td></tr><tr><td class = \"rowNumber\" style = \"font-weight: bold; text-align: right;\">450</td><td style = \"text-align: right;\">495</td><td style = \"text-align: left;\">WMB</td><td style = \"text-align: right;\">0.0319938</td><td style = \"text-align: right;\">0.326874</td></tr><tr><td class = \"rowNumber\" style = \"font-weight: bold; text-align: right;\">451</td><td style = \"text-align: right;\">497</td><td style = \"text-align: left;\">WYNN</td><td style = \"text-align: right;\">-0.169108</td><td style = \"text-align: right;\">0.518227</td></tr><tr><td class = \"rowNumber\" style = \"font-weight: bold; text-align: right;\">452</td><td style = \"text-align: right;\">498</td><td style = \"text-align: left;\">XEL</td><td style = \"text-align: right;\">0.093815</td><td style = \"text-align: right;\">0.201305</td></tr><tr><td class = \"rowNumber\" style = \"font-weight: bold; text-align: right;\">453</td><td style = \"text-align: right;\">500</td><td style = \"text-align: left;\">XYL</td><td style = \"text-align: right;\">0.0931437</td><td style = \"text-align: right;\">0.2765</td></tr><tr><td class = \"rowNumber\" style = \"font-weight: bold; text-align: right;\">454</td><td style = \"text-align: right;\">501</td><td style = \"text-align: left;\">YUM</td><td style = \"text-align: right;\">0.084114</td><td style = \"text-align: right;\">0.235818</td></tr><tr><td class = \"rowNumber\" style = \"font-weight: bold; text-align: right;\">455</td><td style = \"text-align: right;\">502</td><td style = \"text-align: left;\">ZBRA</td><td style = \"text-align: right;\">0.249251</td><td style = \"text-align: right;\">0.353413</td></tr><tr><td class = \"rowNumber\" style = \"font-weight: bold; text-align: right;\">456</td><td style = \"text-align: right;\">503</td><td style = \"text-align: left;\">ZBH</td><td style = \"text-align: right;\">0.0162484</td><td style = \"text-align: right;\">0.291476</td></tr><tr><td class = \"rowNumber\" style = \"font-weight: bold; text-align: right;\">457</td><td style = \"text-align: right;\">504</td><td style = \"text-align: left;\">ZION</td><td style = \"text-align: right;\">0.0336192</td><td style = \"text-align: right;\">0.345286</td></tr><tr><td class = \"rowNumber\" style = \"font-weight: bold; text-align: right;\">458</td><td style = \"text-align: right;\">505</td><td style = \"text-align: left;\">ZTS</td><td style = \"text-align: right;\">0.192</td><td style = \"text-align: right;\">0.24808</td></tr></tbody></table></div>"
      ],
      "text/latex": [
       "\\begin{tabular}{r|cccc}\n",
       "\t& index & ticker & drift & volatility\\\\\n",
       "\t\\hline\n",
       "\t& Int64 & String7 & Float64 & Float64\\\\\n",
       "\t\\hline\n",
       "\t1 & 1 & MMM & -0.0822692 & 0.238729 \\\\\n",
       "\t2 & 2 & AOS & 0.0441975 & 0.266025 \\\\\n",
       "\t3 & 3 & ABT & 0.151149 & 0.230271 \\\\\n",
       "\t4 & 4 & ABBV & 0.118596 & 0.266743 \\\\\n",
       "\t5 & 6 & ACN & 0.178695 & 0.250005 \\\\\n",
       "\t6 & 7 & ATVI & 0.0745844 & 0.305086 \\\\\n",
       "\t7 & 8 & ADM & 0.161607 & 0.237929 \\\\\n",
       "\t8 & 9 & ADBE & 0.171392 & 0.307362 \\\\\n",
       "\t9 & 10 & AAP & 0.0890969 & 0.307218 \\\\\n",
       "\t10 & 11 & AMD & 0.460484 & 0.468767 \\\\\n",
       "\t11 & 12 & AES & 0.163333 & 0.323119 \\\\\n",
       "\t12 & 13 & AFL & 0.0672164 & 0.272687 \\\\\n",
       "\t13 & 14 & A & 0.200418 & 0.256747 \\\\\n",
       "\t14 & 15 & APD & 0.124713 & 0.234286 \\\\\n",
       "\t15 & 16 & AKAM & 0.0938754 & 0.2618 \\\\\n",
       "\t16 & 17 & ALK & -0.067659 & 0.42922 \\\\\n",
       "\t17 & 18 & ALB & 0.272078 & 0.428068 \\\\\n",
       "\t18 & 19 & ARE & 0.0796148 & 0.23063 \\\\\n",
       "\t19 & 20 & ALGN & 0.0913652 & 0.473977 \\\\\n",
       "\t20 & 21 & ALLE & 0.0747817 & 0.274496 \\\\\n",
       "\t21 & 22 & LNT & 0.0789945 & 0.210932 \\\\\n",
       "\t22 & 23 & ALL & 0.0778417 & 0.247462 \\\\\n",
       "\t23 & 24 & GOOGL & 0.210544 & 0.259927 \\\\\n",
       "\t24 & 25 & GOOG & 0.214113 & 0.260074 \\\\\n",
       "\t25 & 26 & MO & -0.0526736 & 0.247455 \\\\\n",
       "\t26 & 27 & AMZN & 0.144741 & 0.303115 \\\\\n",
       "\t27 & 29 & AEE & 0.0879334 & 0.212974 \\\\\n",
       "\t28 & 30 & AAL & -0.250542 & 0.563645 \\\\\n",
       "\t29 & 31 & AEP & 0.0577161 & 0.211728 \\\\\n",
       "\t30 & 32 & AXP & 0.120525 & 0.329017 \\\\\n",
       "\t$\\dots$ & $\\dots$ & $\\dots$ & $\\dots$ & $\\dots$ \\\\\n",
       "\\end{tabular}\n"
      ],
      "text/plain": [
       "\u001b[1m458×4 DataFrame\u001b[0m\n",
       "\u001b[1m Row \u001b[0m│\u001b[1m index \u001b[0m\u001b[1m ticker  \u001b[0m\u001b[1m drift      \u001b[0m\u001b[1m volatility \u001b[0m\n",
       "     │\u001b[90m Int64 \u001b[0m\u001b[90m String7 \u001b[0m\u001b[90m Float64    \u001b[0m\u001b[90m Float64    \u001b[0m\n",
       "─────┼────────────────────────────────────────\n",
       "   1 │     1  MMM      -0.0822692    0.238729\n",
       "   2 │     2  AOS       0.0441975    0.266025\n",
       "   3 │     3  ABT       0.151149     0.230271\n",
       "   4 │     4  ABBV      0.118596     0.266743\n",
       "   5 │     6  ACN       0.178695     0.250005\n",
       "   6 │     7  ATVI      0.0745844    0.305086\n",
       "   7 │     8  ADM       0.161607     0.237929\n",
       "   8 │     9  ADBE      0.171392     0.307362\n",
       "   9 │    10  AAP       0.0890969    0.307218\n",
       "  10 │    11  AMD       0.460484     0.468767\n",
       "  11 │    12  AES       0.163333     0.323119\n",
       "  ⋮  │   ⋮       ⋮         ⋮           ⋮\n",
       " 449 │   494  WHR       0.0772521    0.345513\n",
       " 450 │   495  WMB       0.0319938    0.326874\n",
       " 451 │   497  WYNN     -0.169108     0.518227\n",
       " 452 │   498  XEL       0.093815     0.201305\n",
       " 453 │   500  XYL       0.0931437    0.2765\n",
       " 454 │   501  YUM       0.084114     0.235818\n",
       " 455 │   502  ZBRA      0.249251     0.353413\n",
       " 456 │   503  ZBH       0.0162484    0.291476\n",
       " 457 │   504  ZION      0.0336192    0.345286\n",
       " 458 │   505  ZTS       0.192        0.24808\n",
       "\u001b[36m                              437 rows omitted\u001b[0m"
      ]
     },
     "execution_count": 400,
     "metadata": {},
     "output_type": "execute_result"
    }
   ],
   "source": [
    "params = MyFirmParametersDataSet()"
   ]
  },
  {
   "cell_type": "code",
   "execution_count": 401,
   "id": "71ca35f9-298a-4576-9a59-d7700998f7d6",
   "metadata": {},
   "outputs": [
    {
     "data": {
      "text/html": [
       "<div><div style = \"float: left;\"><span>6×4 DataFrame</span></div><div style = \"clear: both;\"></div></div><div class = \"data-frame\" style = \"overflow-x: scroll;\"><table class = \"data-frame\" style = \"margin-bottom: 6px;\"><thead><tr class = \"header\"><th class = \"rowNumber\" style = \"font-weight: bold; text-align: right;\">Row</th><th style = \"text-align: left;\">index</th><th style = \"text-align: left;\">ticker</th><th style = \"text-align: left;\">drift</th><th style = \"text-align: left;\">volatility</th></tr><tr class = \"subheader headerLastRow\"><th class = \"rowNumber\" style = \"font-weight: bold; text-align: right;\"></th><th title = \"Int64\" style = \"text-align: left;\">Int64</th><th title = \"String7\" style = \"text-align: left;\">String7</th><th title = \"Float64\" style = \"text-align: left;\">Float64</th><th title = \"Float64\" style = \"text-align: left;\">Float64</th></tr></thead><tbody><tr><td class = \"rowNumber\" style = \"font-weight: bold; text-align: right;\">1</td><td style = \"text-align: right;\">9</td><td style = \"text-align: left;\">ADBE</td><td style = \"text-align: right;\">0.171392</td><td style = \"text-align: right;\">0.307362</td></tr><tr><td class = \"rowNumber\" style = \"font-weight: bold; text-align: right;\">2</td><td style = \"text-align: right;\">11</td><td style = \"text-align: left;\">AMD</td><td style = \"text-align: right;\">0.460484</td><td style = \"text-align: right;\">0.468767</td></tr><tr><td class = \"rowNumber\" style = \"font-weight: bold; text-align: right;\">3</td><td style = \"text-align: right;\">27</td><td style = \"text-align: left;\">AMZN</td><td style = \"text-align: right;\">0.144741</td><td style = \"text-align: right;\">0.303115</td></tr><tr><td class = \"rowNumber\" style = \"font-weight: bold; text-align: right;\">4</td><td style = \"text-align: right;\">46</td><td style = \"text-align: left;\">AAPL</td><td style = \"text-align: right;\">0.33739</td><td style = \"text-align: right;\">0.276418</td></tr><tr><td class = \"rowNumber\" style = \"font-weight: bold; text-align: right;\">5</td><td style = \"text-align: right;\">241</td><td style = \"text-align: left;\">IBM</td><td style = \"text-align: right;\">-0.0181696</td><td style = \"text-align: right;\">0.241395</td></tr><tr><td class = \"rowNumber\" style = \"font-weight: bold; text-align: right;\">6</td><td style = \"text-align: right;\">315</td><td style = \"text-align: left;\">MSFT</td><td style = \"text-align: right;\">0.268955</td><td style = \"text-align: right;\">0.239654</td></tr></tbody></table></div>"
      ],
      "text/latex": [
       "\\begin{tabular}{r|cccc}\n",
       "\t& index & ticker & drift & volatility\\\\\n",
       "\t\\hline\n",
       "\t& Int64 & String7 & Float64 & Float64\\\\\n",
       "\t\\hline\n",
       "\t1 & 9 & ADBE & 0.171392 & 0.307362 \\\\\n",
       "\t2 & 11 & AMD & 0.460484 & 0.468767 \\\\\n",
       "\t3 & 27 & AMZN & 0.144741 & 0.303115 \\\\\n",
       "\t4 & 46 & AAPL & 0.33739 & 0.276418 \\\\\n",
       "\t5 & 241 & IBM & -0.0181696 & 0.241395 \\\\\n",
       "\t6 & 315 & MSFT & 0.268955 & 0.239654 \\\\\n",
       "\\end{tabular}\n"
      ],
      "text/plain": [
       "\u001b[1m6×4 DataFrame\u001b[0m\n",
       "\u001b[1m Row \u001b[0m│\u001b[1m index \u001b[0m\u001b[1m ticker  \u001b[0m\u001b[1m drift      \u001b[0m\u001b[1m volatility \u001b[0m\n",
       "     │\u001b[90m Int64 \u001b[0m\u001b[90m String7 \u001b[0m\u001b[90m Float64    \u001b[0m\u001b[90m Float64    \u001b[0m\n",
       "─────┼────────────────────────────────────────\n",
       "   1 │     9  ADBE      0.171392     0.307362\n",
       "   2 │    11  AMD       0.460484     0.468767\n",
       "   3 │    27  AMZN      0.144741     0.303115\n",
       "   4 │    46  AAPL      0.33739      0.276418\n",
       "   5 │   241  IBM      -0.0181696    0.241395\n",
       "   6 │   315  MSFT      0.268955     0.239654"
      ]
     },
     "execution_count": 401,
     "metadata": {},
     "output_type": "execute_result"
    }
   ],
   "source": [
    "tech_portfolio = [\"AMD\", \"AAPL\", \"MSFT\", \"IBM\", \"ADBE\", \"AMZN\"]\n",
    "tech_params = filter(row -> row[:ticker] in tech_portfolio, params)"
   ]
  },
  {
   "cell_type": "code",
   "execution_count": 402,
   "id": "bbe727f8-ccd0-44f3-9c37-5d64fe0b58be",
   "metadata": {},
   "outputs": [
    {
     "data": {
      "text/plain": [
       "6-element Vector{Float64}:\n",
       "  0.5576236300689372\n",
       "  0.9823318860023869\n",
       "  0.4775115125933747\n",
       "  1.220581292852611\n",
       " -0.07526920226807625\n",
       "  1.1222653702327074"
      ]
     },
     "execution_count": 402,
     "metadata": {},
     "output_type": "execute_result"
    }
   ],
   "source": [
    "tech_params[!, \"mod_sharpe\"] = tech_params[!, \"drift\"] ./ tech_params[!, \"volatility\"]"
   ]
  },
  {
   "cell_type": "code",
   "execution_count": 403,
   "id": "0da0d0cf-3644-4110-834f-cd2282c4d8a8",
   "metadata": {},
   "outputs": [
    {
     "data": {
      "text/html": [
       "<div><div style = \"float: left;\"><span>6×5 DataFrame</span></div><div style = \"clear: both;\"></div></div><div class = \"data-frame\" style = \"overflow-x: scroll;\"><table class = \"data-frame\" style = \"margin-bottom: 6px;\"><thead><tr class = \"header\"><th class = \"rowNumber\" style = \"font-weight: bold; text-align: right;\">Row</th><th style = \"text-align: left;\">index</th><th style = \"text-align: left;\">ticker</th><th style = \"text-align: left;\">drift</th><th style = \"text-align: left;\">volatility</th><th style = \"text-align: left;\">mod_sharpe</th></tr><tr class = \"subheader headerLastRow\"><th class = \"rowNumber\" style = \"font-weight: bold; text-align: right;\"></th><th title = \"Int64\" style = \"text-align: left;\">Int64</th><th title = \"String7\" style = \"text-align: left;\">String7</th><th title = \"Float64\" style = \"text-align: left;\">Float64</th><th title = \"Float64\" style = \"text-align: left;\">Float64</th><th title = \"Float64\" style = \"text-align: left;\">Float64</th></tr></thead><tbody><tr><td class = \"rowNumber\" style = \"font-weight: bold; text-align: right;\">1</td><td style = \"text-align: right;\">9</td><td style = \"text-align: left;\">ADBE</td><td style = \"text-align: right;\">0.171392</td><td style = \"text-align: right;\">0.307362</td><td style = \"text-align: right;\">0.557624</td></tr><tr><td class = \"rowNumber\" style = \"font-weight: bold; text-align: right;\">2</td><td style = \"text-align: right;\">11</td><td style = \"text-align: left;\">AMD</td><td style = \"text-align: right;\">0.460484</td><td style = \"text-align: right;\">0.468767</td><td style = \"text-align: right;\">0.982332</td></tr><tr><td class = \"rowNumber\" style = \"font-weight: bold; text-align: right;\">3</td><td style = \"text-align: right;\">27</td><td style = \"text-align: left;\">AMZN</td><td style = \"text-align: right;\">0.144741</td><td style = \"text-align: right;\">0.303115</td><td style = \"text-align: right;\">0.477512</td></tr><tr><td class = \"rowNumber\" style = \"font-weight: bold; text-align: right;\">4</td><td style = \"text-align: right;\">46</td><td style = \"text-align: left;\">AAPL</td><td style = \"text-align: right;\">0.33739</td><td style = \"text-align: right;\">0.276418</td><td style = \"text-align: right;\">1.22058</td></tr><tr><td class = \"rowNumber\" style = \"font-weight: bold; text-align: right;\">5</td><td style = \"text-align: right;\">241</td><td style = \"text-align: left;\">IBM</td><td style = \"text-align: right;\">-0.0181696</td><td style = \"text-align: right;\">0.241395</td><td style = \"text-align: right;\">-0.0752692</td></tr><tr><td class = \"rowNumber\" style = \"font-weight: bold; text-align: right;\">6</td><td style = \"text-align: right;\">315</td><td style = \"text-align: left;\">MSFT</td><td style = \"text-align: right;\">0.268955</td><td style = \"text-align: right;\">0.239654</td><td style = \"text-align: right;\">1.12227</td></tr></tbody></table></div>"
      ],
      "text/latex": [
       "\\begin{tabular}{r|ccccc}\n",
       "\t& index & ticker & drift & volatility & mod\\_sharpe\\\\\n",
       "\t\\hline\n",
       "\t& Int64 & String7 & Float64 & Float64 & Float64\\\\\n",
       "\t\\hline\n",
       "\t1 & 9 & ADBE & 0.171392 & 0.307362 & 0.557624 \\\\\n",
       "\t2 & 11 & AMD & 0.460484 & 0.468767 & 0.982332 \\\\\n",
       "\t3 & 27 & AMZN & 0.144741 & 0.303115 & 0.477512 \\\\\n",
       "\t4 & 46 & AAPL & 0.33739 & 0.276418 & 1.22058 \\\\\n",
       "\t5 & 241 & IBM & -0.0181696 & 0.241395 & -0.0752692 \\\\\n",
       "\t6 & 315 & MSFT & 0.268955 & 0.239654 & 1.12227 \\\\\n",
       "\\end{tabular}\n"
      ],
      "text/plain": [
       "\u001b[1m6×5 DataFrame\u001b[0m\n",
       "\u001b[1m Row \u001b[0m│\u001b[1m index \u001b[0m\u001b[1m ticker  \u001b[0m\u001b[1m drift      \u001b[0m\u001b[1m volatility \u001b[0m\u001b[1m mod_sharpe \u001b[0m\n",
       "     │\u001b[90m Int64 \u001b[0m\u001b[90m String7 \u001b[0m\u001b[90m Float64    \u001b[0m\u001b[90m Float64    \u001b[0m\u001b[90m Float64    \u001b[0m\n",
       "─────┼────────────────────────────────────────────────────\n",
       "   1 │     9  ADBE      0.171392     0.307362   0.557624\n",
       "   2 │    11  AMD       0.460484     0.468767   0.982332\n",
       "   3 │    27  AMZN      0.144741     0.303115   0.477512\n",
       "   4 │    46  AAPL      0.33739      0.276418   1.22058\n",
       "   5 │   241  IBM      -0.0181696    0.241395  -0.0752692\n",
       "   6 │   315  MSFT      0.268955     0.239654   1.12227"
      ]
     },
     "execution_count": 403,
     "metadata": {},
     "output_type": "execute_result"
    }
   ],
   "source": [
    "tech_params"
   ]
  },
  {
   "cell_type": "code",
   "execution_count": 404,
   "id": "f9b25b3e-e597-4821-bdd2-7fc555be4e63",
   "metadata": {},
   "outputs": [
    {
     "name": "stdout",
     "output_type": "stream",
     "text": [
      "┌───────┬─────────┬────────────┬────────────┬────────────┐\n",
      "│\u001b[1m index \u001b[0m│\u001b[1m  ticker \u001b[0m│\u001b[1m      drift \u001b[0m│\u001b[1m volatility \u001b[0m│\u001b[1m mod_sharpe \u001b[0m│\n",
      "│\u001b[90m Int64 \u001b[0m│\u001b[90m String7 \u001b[0m│\u001b[90m    Float64 \u001b[0m│\u001b[90m    Float64 \u001b[0m│\u001b[90m    Float64 \u001b[0m│\n",
      "├───────┼─────────┼────────────┼────────────┼────────────┤\n",
      "│     9 │    ADBE │   0.171392 │   0.307362 │   0.557624 │\n",
      "│    11 │     AMD │   0.460484 │   0.468767 │   0.982332 │\n",
      "│    27 │    AMZN │   0.144741 │   0.303115 │   0.477512 │\n",
      "│    46 │    AAPL │    0.33739 │   0.276418 │    1.22058 │\n",
      "│   241 │     IBM │ -0.0181696 │   0.241395 │ -0.0752692 │\n",
      "│   315 │    MSFT │   0.268955 │   0.239654 │    1.12227 │\n",
      "└───────┴─────────┴────────────┴────────────┴────────────┘\n"
     ]
    }
   ],
   "source": [
    "p = pretty_table(tech_params)"
   ]
  },
  {
   "cell_type": "code",
   "execution_count": 405,
   "id": "e91a3914-42f6-4ae8-9cce-6f860f504005",
   "metadata": {},
   "outputs": [],
   "source": [
    "tech_portfolio = [\"ADBE\", \"AMD\", \"MSFT\", \"AAPL\", \"IBM\", \"AMZN\"]\n",
    "tech_calls = Dict()\n",
    "for (k, v) in call_contract_data\n",
    "    if k[1] in tech_portfolio\n",
    "        tech_calls[k] = v\n",
    "    end\n",
    "end"
   ]
  },
  {
   "cell_type": "code",
   "execution_count": 406,
   "id": "4d71b140-e8fa-414a-b9e9-85117a3565eb",
   "metadata": {},
   "outputs": [
    {
     "data": {
      "text/plain": [
       "Dict{Any, Any} with 28 entries:\n",
       "  (\"ADBE\", Date(\"2023-10-3… => (data = Dict{Float64, Union{Nothing, DataFrame}}…\n",
       "  (\"AMD\", Date(\"2023-04-17… => (data = Dict{Float64, Union{Nothing, DataFrame}}…\n",
       "  (\"AAPL\", Date(\"2023-06-0… => (data = Dict{Float64, Union{Nothing, DataFrame}}…\n",
       "  (\"ADBE\", Date(\"2023-06-0… => (data = Dict{Float64, Union{Nothing, DataFrame}}…\n",
       "  (\"AAPL\", Date(\"2023-10-3… => (data = Dict{Float64, Union{Nothing, DataFrame}}…\n",
       "  (\"ADBE\", Date(\"2023-09-1… => (data = Dict{Float64, Union{Nothing, DataFrame}}…\n",
       "  (\"MSFT\", Date(\"2023-01-0… => (data = Dict{Float64, Union{Nothing, DataFrame}}…\n",
       "  (\"MSFT\", Date(\"2023-07-2… => (data = Dict{Float64, Union{Nothing, DataFrame}}…\n",
       "  (\"MSFT\", Date(\"2023-04-1… => (data = Dict{Float64, Union{Nothing, DataFrame}}…\n",
       "  (\"MSFT\", Date(\"2023-06-0… => (data = Dict{Float64, Union{Nothing, DataFrame}}…\n",
       "  (\"AMD\", Date(\"2023-02-22… => (data = Dict{Float64, Union{Nothing, DataFrame}}…\n",
       "  (\"ADBE\", Date(\"2023-07-2… => (data = Dict{Float64, Union{Nothing, DataFrame}}…\n",
       "  (\"MSFT\", Date(\"2023-10-3… => (data = Dict{Float64, Union{Nothing, DataFrame}}…\n",
       "  (\"AMD\", Date(\"2023-09-11… => (data = Dict{Float64, Union{Nothing, DataFrame}}…\n",
       "  (\"AMD\", Date(\"2023-06-05… => (data = Dict{Float64, Union{Nothing, DataFrame}}…\n",
       "  (\"AAPL\", Date(\"2023-02-2… => (data = Dict{Float64, Union{Nothing, DataFrame}}…\n",
       "  (\"AMD\", Date(\"2023-07-24… => (data = Dict{Float64, Union{Nothing, DataFrame}}…\n",
       "  (\"AAPL\", Date(\"2023-09-1… => (data = Dict{Float64, Union{Nothing, DataFrame}}…\n",
       "  (\"AMD\", Date(\"2023-01-03… => (data = Dict{Float64, Union{Nothing, DataFrame}}…\n",
       "  (\"MSFT\", Date(\"2023-02-2… => (data = Dict{Float64, Union{Nothing, DataFrame}}…\n",
       "  (\"AAPL\", Date(\"2023-01-0… => (data = Dict{Float64, Union{Nothing, DataFrame}}…\n",
       "  (\"ADBE\", Date(\"2023-04-1… => (data = Dict{Float64, Union{Nothing, DataFrame}}…\n",
       "  (\"ADBE\", Date(\"2023-01-0… => (data = Dict{Float64, Union{Nothing, DataFrame}}…\n",
       "  (\"AAPL\", Date(\"2023-04-1… => (data = Dict{Float64, Union{Nothing, DataFrame}}…\n",
       "  (\"MSFT\", Date(\"2023-09-1… => (data = Dict{Float64, Union{Nothing, DataFrame}}…\n",
       "  ⋮                         => ⋮"
      ]
     },
     "execution_count": 406,
     "metadata": {},
     "output_type": "execute_result"
    }
   ],
   "source": [
    "tech_calls"
   ]
  },
  {
   "cell_type": "code",
   "execution_count": 407,
   "id": "1b8f8f01-b08e-4928-ac8a-84dbfe93db57",
   "metadata": {},
   "outputs": [
    {
     "data": {
      "text/plain": [
       "Dict{Tuple{String, Date, Date}, NamedTuple{(:data, :header), Tuple{Dict{Float64, Union{Nothing, DataFrame}}, Dict{Float64, Any}}}} with 7 entries:\n",
       "  (\"AAPL\", Date(\"2023-02-2… => (data = Dict(155.0=>\u001b[1m31×8 DataFrame\u001b[0m\u001b[0m…\n",
       "  (\"AAPL\", Date(\"2023-04-1… => (data = Dict(150.0=>\u001b[1m33×8 DataFrame\u001b[0m\u001b[0m…\n",
       "  (\"AAPL\", Date(\"2023-09-1… => (data = Dict(150.0=>\u001b[1m30×8 DataFrame\u001b[0m\u001b[0m…\n",
       "  (\"AAPL\", Date(\"2023-06-0… => (data = Dict(150.0=>\u001b[1m33×8 DataFrame\u001b[0m\u001b[0m…\n",
       "  (\"AAPL\", Date(\"2023-10-3… => (data = Dict(150.0=>\u001b[1m28×8 DataFrame\u001b[0m\u001b[0m…\n",
       "  (\"AAPL\", Date(\"2023-07-2… => (data = Dict(200.0=>\u001b[1m31×8 DataFrame\u001b[0m\u001b[0m…\n",
       "  (\"AAPL\", Date(\"2023-01-0… => (data = Dict(100.0=>\u001b[1m31×8 DataFrame\u001b[0m\u001b[0m…"
      ]
     },
     "execution_count": 407,
     "metadata": {},
     "output_type": "execute_result"
    }
   ],
   "source": [
    "adbe_calls = Dict(key => value for (key, value) in tech_calls if key[1] == \"ADBE\")\n",
    "amd_calls = Dict(key => value for (key, value) in tech_calls if key[1] == \"AMD\")\n",
    "msft_calls = Dict(key => value for (key, value) in tech_calls if key[1] == \"MSFT\")\n",
    "aapl_calls = Dict(key => value for (key, value) in tech_calls if key[1] == \"AAPL\")"
   ]
  },
  {
   "cell_type": "code",
   "execution_count": 408,
   "id": "1aa4dfec-3d5a-4f48-b357-83fc3192638f",
   "metadata": {},
   "outputs": [
    {
     "data": {
      "text/plain": [
       "4-element Vector{String}:\n",
       " \"ADBE\"\n",
       " \"AMD\"\n",
       " \"MSFT\"\n",
       " \"AAPL\""
      ]
     },
     "execution_count": 408,
     "metadata": {},
     "output_type": "execute_result"
    }
   ],
   "source": [
    "call_tickers = [\"ADBE\", \"AMD\", \"MSFT\", \"AAPL\"]"
   ]
  },
  {
   "cell_type": "code",
   "execution_count": 409,
   "id": "8a750df5-5293-47d5-9f39-38ee30d97958",
   "metadata": {},
   "outputs": [
    {
     "data": {
      "text/plain": [
       "calculate_share_costs (generic function with 1 method)"
      ]
     },
     "execution_count": 409,
     "metadata": {},
     "output_type": "execute_result"
    }
   ],
   "source": [
    "function calculate_share_costs(call_tickers, tech_price_df)\n",
    "    collateral_df = DataFrame(Ticker = String[], Cost_of_100_shares = Float64[])\n",
    "\n",
    "    for ticker in call_tickers\n",
    "        cost = tech_price_df[ticker][1, :][\"volume_weighted_average_price\"] * 100\n",
    "        push!(collateral_df, (ticker, cost))\n",
    "    end\n",
    "\n",
    "    return collateral_df\n",
    "end"
   ]
  },
  {
   "cell_type": "code",
   "execution_count": 410,
   "id": "20623635-1c00-4d11-aca8-f8d1f3717cc3",
   "metadata": {},
   "outputs": [
    {
     "data": {
      "text/html": [
       "<div><div style = \"float: left;\"><span>4×2 DataFrame</span></div><div style = \"clear: both;\"></div></div><div class = \"data-frame\" style = \"overflow-x: scroll;\"><table class = \"data-frame\" style = \"margin-bottom: 6px;\"><thead><tr class = \"header\"><th class = \"rowNumber\" style = \"font-weight: bold; text-align: right;\">Row</th><th style = \"text-align: left;\">Ticker</th><th style = \"text-align: left;\">Cost_of_100_shares</th></tr><tr class = \"subheader headerLastRow\"><th class = \"rowNumber\" style = \"font-weight: bold; text-align: right;\"></th><th title = \"String\" style = \"text-align: left;\">String</th><th title = \"Float64\" style = \"text-align: left;\">Float64</th></tr></thead><tbody><tr><td class = \"rowNumber\" style = \"font-weight: bold; text-align: right;\">1</td><td style = \"text-align: left;\">ADBE</td><td style = \"text-align: right;\">33741.6</td></tr><tr><td class = \"rowNumber\" style = \"font-weight: bold; text-align: right;\">2</td><td style = \"text-align: left;\">AMD</td><td style = \"text-align: right;\">6455.91</td></tr><tr><td class = \"rowNumber\" style = \"font-weight: bold; text-align: right;\">3</td><td style = \"text-align: left;\">MSFT</td><td style = \"text-align: right;\">23983.9</td></tr><tr><td class = \"rowNumber\" style = \"font-weight: bold; text-align: right;\">4</td><td style = \"text-align: left;\">AAPL</td><td style = \"text-align: right;\">12572.5</td></tr></tbody></table></div>"
      ],
      "text/latex": [
       "\\begin{tabular}{r|cc}\n",
       "\t& Ticker & Cost\\_of\\_100\\_shares\\\\\n",
       "\t\\hline\n",
       "\t& String & Float64\\\\\n",
       "\t\\hline\n",
       "\t1 & ADBE & 33741.6 \\\\\n",
       "\t2 & AMD & 6455.91 \\\\\n",
       "\t3 & MSFT & 23983.9 \\\\\n",
       "\t4 & AAPL & 12572.5 \\\\\n",
       "\\end{tabular}\n"
      ],
      "text/plain": [
       "\u001b[1m4×2 DataFrame\u001b[0m\n",
       "\u001b[1m Row \u001b[0m│\u001b[1m Ticker \u001b[0m\u001b[1m Cost_of_100_shares \u001b[0m\n",
       "     │\u001b[90m String \u001b[0m\u001b[90m Float64            \u001b[0m\n",
       "─────┼────────────────────────────\n",
       "   1 │ ADBE              33741.6\n",
       "   2 │ AMD                6455.91\n",
       "   3 │ MSFT              23983.9\n",
       "   4 │ AAPL              12572.5"
      ]
     },
     "execution_count": 410,
     "metadata": {},
     "output_type": "execute_result"
    }
   ],
   "source": [
    "collateral_df = calculate_share_costs(call_tickers, tech_price_df)"
   ]
  },
  {
   "cell_type": "code",
   "execution_count": 411,
   "id": "a3f91f37-a8cb-484a-91bd-270d44450647",
   "metadata": {},
   "outputs": [
    {
     "data": {
      "text/plain": [
       "76753.94"
      ]
     },
     "execution_count": 411,
     "metadata": {},
     "output_type": "execute_result"
    }
   ],
   "source": [
    "#assuming one active call per asset\n",
    "total_collateral_cost = sum(collateral_df[!, \"Cost_of_100_shares\"])"
   ]
  },
  {
   "cell_type": "code",
   "execution_count": 412,
   "id": "def8fc57-ccd6-415e-b1c5-ed90b1d54bcf",
   "metadata": {},
   "outputs": [
    {
     "data": {
      "text/plain": [
       "8-element Vector{Tuple{Date, Date, Int64}}:\n",
       " (Date(\"2023-01-03\"), Date(\"2023-02-17\"), 45)\n",
       " (Date(\"2023-02-22\"), Date(\"2023-04-14\"), 51)\n",
       " (Date(\"2023-04-17\"), Date(\"2023-06-02\"), 46)\n",
       " (Date(\"2023-06-05\"), Date(\"2023-07-21\"), 46)\n",
       " (Date(\"2023-07-24\"), Date(\"2023-09-08\"), 46)\n",
       " (Date(\"2023-09-11\"), Date(\"2023-10-27\"), 46)\n",
       " (Date(\"2023-10-30\"), Date(\"2023-12-15\"), 46)\n",
       " (Date(\"2023-12-18\"), Date(\"2024-02-02\"), 46)"
      ]
     },
     "execution_count": 412,
     "metadata": {},
     "output_type": "execute_result"
    }
   ],
   "source": [
    "call_contract_dates"
   ]
  },
  {
   "cell_type": "code",
   "execution_count": 413,
   "id": "09519b64-ac0d-439e-8058-ff555a2ef255",
   "metadata": {
    "jupyter": {
     "source_hidden": true
    },
    "scrolled": true
   },
   "outputs": [
    {
     "data": {
      "text/plain": [
       "get_price_data (generic function with 2 methods)"
      ]
     },
     "execution_count": 413,
     "metadata": {},
     "output_type": "execute_result"
    }
   ],
   "source": [
    "function get_price_data(tickers::Array{String,1}, original_dataset::Dict)\n",
    "    price_data = Dict{String, DataFrame}()\n",
    "\n",
    "    for ticker in tickers\n",
    "        maximum_number_trading_days = nrow(original_dataset[ticker])\n",
    "        dataset = Dict{String, DataFrame}()\n",
    "\n",
    "        for (t, data) in original_dataset\n",
    "            if nrow(data) == maximum_number_trading_days\n",
    "                dataset[t] = data\n",
    "            end\n",
    "        end\n",
    "        startdate = Date(2023, 01, 03)\n",
    "        asset_data = filter(row -> row[:timestamp] >= startdate, dataset[ticker])\n",
    "\n",
    "        price_data[ticker] = asset_data\n",
    "    end\n",
    "\n",
    "    return price_data\n",
    "end"
   ]
  },
  {
   "cell_type": "code",
   "execution_count": 414,
   "id": "3cfed0cf-ccc2-441c-8a19-6c7ca708c632",
   "metadata": {
    "scrolled": true
   },
   "outputs": [
    {
     "data": {
      "text/plain": [
       "Dict{String, DataFrame} with 6 entries:\n",
       "  \"MSFT\" => \u001b[1m231×8 DataFrame\u001b[0m\u001b[0m…\n",
       "  \"AMZN\" => \u001b[1m231×8 DataFrame\u001b[0m\u001b[0m…\n",
       "  \"AMD\"  => \u001b[1m231×8 DataFrame\u001b[0m\u001b[0m…\n",
       "  \"ADBE\" => \u001b[1m231×8 DataFrame\u001b[0m\u001b[0m…\n",
       "  \"IBM\"  => \u001b[1m231×8 DataFrame\u001b[0m\u001b[0m…\n",
       "  \"AAPL\" => \u001b[1m231×8 DataFrame\u001b[0m\u001b[0m…"
      ]
     },
     "execution_count": 414,
     "metadata": {},
     "output_type": "execute_result"
    }
   ],
   "source": [
    "tech_price_df= get_price_data(tech_portfolio, original_dataset)"
   ]
  },
  {
   "cell_type": "markdown",
   "id": "08ae1c33-2ce8-4b4c-9649-dc9528775378",
   "metadata": {},
   "source": [
    "# Calculate the contracts that will expire worthless and their premiums"
   ]
  },
  {
   "cell_type": "code",
   "execution_count": 415,
   "id": "122e5a2e-d41a-4ee2-9c3a-da20381f0a05",
   "metadata": {},
   "outputs": [
    {
     "data": {
      "text/plain": [
       "optimal_covered_calls (generic function with 1 method)"
      ]
     },
     "execution_count": 415,
     "metadata": {},
     "output_type": "execute_result"
    }
   ],
   "source": [
    "#partially generated with GenAI and modified\n",
    "function optimal_covered_calls(tickers::Array{String, 1}, call_contract_data::Dict)\n",
    "    summary_dict = Dict()\n",
    "    date_ranges = [\n",
    "        (Date(2023, 1, 3), Date(2023, 2, 17)),\n",
    "        (Date(2023, 2, 22), Date(2023, 4, 14)),\n",
    "        (Date(2023, 4, 17), Date(2023, 6, 2)),\n",
    "        (Date(2023, 6, 5), Date(2023, 7, 21)),\n",
    "        (Date(2023, 7, 24), Date(2023, 9, 8)),\n",
    "        (Date(2023, 9, 11), Date(2023, 10, 27))\n",
    "    ]\n",
    "\n",
    "    for ticker in tickers\n",
    "        ticker_summary = []\n",
    "        for (idx, (start_date, end_date)) in enumerate(date_ranges)\n",
    "            contract_key = (ticker, start_date, end_date)\n",
    "            if haskey(call_contract_data, contract_key)\n",
    "                options_data = call_contract_data[contract_key] |> x -> x[:data]\n",
    "                good_calls = get_good_calls(ticker, options_data)\n",
    "                push!(ticker_summary, (idx, good_calls))\n",
    "            else\n",
    "                println(\"No contract data for key: \", contract_key)\n",
    "            end\n",
    "        end\n",
    "        if !isempty(ticker_summary)\n",
    "            summary_dict[ticker] = ticker_summary\n",
    "        end\n",
    "    end\n",
    "    return summary_dict\n",
    "end\n"
   ]
  },
  {
   "cell_type": "code",
   "execution_count": 416,
   "id": "5a188176-deb0-4854-8215-61d3f471ade0",
   "metadata": {},
   "outputs": [
    {
     "data": {
      "text/plain": [
       "Dict{Any, Any} with 4 entries:\n",
       "  \"MSFT\" => Any[(1, Any[\"For a MSFT short call with a strike price 260.0 and a …\n",
       "  \"AMD\"  => Any[(1, Any[\"For a AMD short call with a strike price 95.0 and a pr…\n",
       "  \"ADBE\" => Any[(1, Any[\"For a ADBE short call with a strike price 365.0 and a …\n",
       "  \"AAPL\" => Any[(1, Any[\"For a AAPL short call with a strike price 155.0 and a …"
      ]
     },
     "execution_count": 416,
     "metadata": {},
     "output_type": "execute_result"
    }
   ],
   "source": [
    "optimal_covered_calls_dict = optimal_covered_calls(call_tickers, call_contract_data)"
   ]
  },
  {
   "cell_type": "code",
   "execution_count": 417,
   "id": "971cf232-8f8d-4e98-a4a9-344d117f3e05",
   "metadata": {},
   "outputs": [
    {
     "data": {
      "text/plain": [
       "6-element Vector{Any}:\n",
       " (1, Any[\"For a MSFT short call with a strike price 260.0 and a premium 471.43: 1.0\", 471.43, \"For a MSFT short call with a strike price 265.0 and a premium 308.08: 1.0\", 308.08, \"For a MSFT short call with a strike price 270.0 and a premium 262.69: 1.0\", 262.69])\n",
       " (2, Any[])\n",
       " (3, Any[])\n",
       " (4, Any[\"For a MSFT short call with a strike price 345.0 and a premium 708.48: 1.0\", 708.48, \"For a MSFT short call with a strike price 365.0 and a premium 190.89: 1.0\", 190.89, \"For a MSFT short call with a strike price 350.0 and a premium 510.23: 1.0\", 510.23, \"For a MSFT short call with a strike price 355.0 and a premium 385.68: 1.0\", 385.68, \"For a MSFT short call with a strike price 360.0 and a premium 268.49: 1.0\", 268.49])\n",
       " (5, Any[\"For a MSFT short call with a strike price 360.0 and a premium 357.34: 1.0\", 357.34, \"For a MSFT short call with a strike price 370.0 and a premium 177.19: 1.0\", 177.19, \"For a MSFT short call with a strike price 345.0 and a premium 743.5: 1.0\", 743.5, \"For a MSFT short call with a strike price 365.0 and a premium 248.57: 1.0\", 248.57, \"For a MSFT short call with a strike price 340.0 and a premium 988.72: 1.0\", 988.72, \"For a MSFT short call with a strike price 350.0 and a premium 559.71: 1.0\", 559.71, \"For a MSFT short call with a strike price 375.0 and a premium 170.25: 1.0\", 170.25, \"For a MSFT short call with a strike price 335.0 and a premium 1135.13: 1.0\", 1135.13, \"For a MSFT short call with a strike price 355.0 and a premium 427.09: 1.0\", 427.09])\n",
       " (6, Any[\"For a MSFT short call with a strike price 345.0 and a premium 907.98: 1.0\", 907.98, \"For a MSFT short call with a strike price 365.0 and a premium 300.97: 1.0\", 300.97, \"For a MSFT short call with a strike price 340.0 and a premium 1158.26: 1.0\", 1158.26, \"For a MSFT short call with a strike price 350.0 and a premium 714.05: 1.0\", 714.05, \"For a MSFT short call with a strike price 335.0 and a premium 1428.23: 1.0\", 1428.23, \"For a MSFT short call with a strike price 330.0 and a premium 1715.5: 1.0\", 1715.5, \"For a MSFT short call with a strike price 355.0 and a premium 556.64: 1.0\", 556.64, \"For a MSFT short call with a strike price 360.0 and a premium 402.09: 1.0\", 402.09])"
      ]
     },
     "execution_count": 417,
     "metadata": {},
     "output_type": "execute_result"
    }
   ],
   "source": [
    "optimal_covered_calls_dict[\"MSFT\"]"
   ]
  },
  {
   "cell_type": "code",
   "execution_count": 418,
   "id": "93cefb85-f2d4-46b2-a950-f2579441f6ba",
   "metadata": {},
   "outputs": [
    {
     "data": {
      "text/plain": [
       "6-element Vector{Any}:\n",
       " (1, Any[\"For a AMD short call with a strike price 95.0 and a premium 15.36: 1.0\", 15.36, \"For a AMD short call with a strike price 90.0 and a premium 28.59: 1.0\", 28.59, \"For a AMD short call with a strike price 85.0 and a premium 46.33: 1.0\", 46.33, \"For a AMD short call with a strike price 80.0 and a premium 92.14: 1.0\", 92.14])\n",
       " (2, Any[\"For a AMD short call with a strike price 95.0 and a premium 84.52: 1.0\", 84.52, \"For a AMD short call with a strike price 105.0 and a premium 21.91: 1.0\", 21.91, \"For a AMD short call with a strike price 100.0 and a premium 41.0: 1.0\", 41.0])\n",
       " (3, Any[\"For a AMD short call with a strike price 120.0 and a premium 20.75: 1.0\", 20.75])\n",
       " (4, Any[\"For a AMD short call with a strike price 150.0 and a premium 100.98: 1.0\", 100.98, \"For a AMD short call with a strike price 135.0 and a premium 260.79: 1.0\", 260.79, \"For a AMD short call with a strike price 145.0 and a premium 137.09: 1.0\", 137.09, \"For a AMD short call with a strike price 120.0 and a premium 729.66: 1.0\", 729.66, \"For a AMD short call with a strike price 115.0 and a premium 961.71: 1.0\", 961.71, \"For a AMD short call with a strike price 125.0 and a premium 529.85: 1.0\", 529.85, \"For a AMD short call with a strike price 130.0 and a premium 374.4: 1.0\", 374.4, \"For a AMD short call with a strike price 140.0 and a premium 191.38: 1.0\", 191.38])\n",
       " (5, Any[\"For a AMD short call with a strike price 140.0 and a premium 134.46: 1.0\", 134.46, \"For a AMD short call with a strike price 110.0 and a premium 954.67: 1.0\", 954.67, \"For a AMD short call with a strike price 135.0 and a premium 181.53: 1.0\", 181.53, \"For a AMD short call with a strike price 120.0 and a premium 501.67: 1.0\", 501.67, \"For a AMD short call with a strike price 130.0 and a premium 258.9: 1.0\", 258.9, \"For a AMD short call with a strike price 115.0 and a premium 644.56: 1.0\", 644.56, \"For a AMD short call with a strike price 125.0 and a premium 353.75: 1.0\", 353.75])\n",
       " (6, Any[\"For a AMD short call with a strike price 100.0 and a premium 846.17: 1.0\", 846.17, \"For a AMD short call with a strike price 105.0 and a premium 586.22: 1.0\", 586.22, \"For a AMD short call with a strike price 110.0 and a premium 385.23: 1.0\", 385.23, \"For a AMD short call with a strike price 135.0 and a premium 38.61: 1.0\", 38.61, \"For a AMD short call with a strike price 120.0 and a premium 147.87: 1.0\", 147.87, \"For a AMD short call with a strike price 115.0 and a premium 246.58: 1.0\", 246.58, \"For a AMD short call with a strike price 125.0 and a premium 90.95: 1.0\", 90.95, \"For a AMD short call with a strike price 130.0 and a premium 58.05: 1.0\", 58.05])"
      ]
     },
     "execution_count": 418,
     "metadata": {},
     "output_type": "execute_result"
    }
   ],
   "source": [
    "optimal_covered_calls_dict[\"AMD\"]"
   ]
  },
  {
   "cell_type": "code",
   "execution_count": 419,
   "id": "bba30f20-e8ff-4edf-9cd5-86c5afa0c36b",
   "metadata": {},
   "outputs": [
    {
     "data": {
      "text/plain": [
       "6-element Vector{Any}:\n",
       " (1, Any[\"For a ADBE short call with a strike price 365.0 and a premium 862.37: 1.0\", 862.37, \"For a ADBE short call with a strike price 360.0 and a premium 944.04: 1.0\", 944.04])\n",
       " (2, Any[\"For a ADBE short call with a strike price 380.0 and a premium 318.5: 1.0\", 318.5])\n",
       " (3, Any[])\n",
       " (4, Any[])\n",
       " (5, Any[])\n",
       " (6, Any[\"For a ADBE short call with a strike price 570.0 and a premium 2381.0: 1.0\", 2381.0, \"For a ADBE short call with a strike price 545.0 and a premium 2946.86: 1.0\", 2946.86, \"For a ADBE short call with a strike price 560.0 and a premium 2770.0: 1.0\", 2770.0, \"For a ADBE short call with a strike price 550.0 and a premium 2482.43: 1.0\", 2482.43, \"For a ADBE short call with a strike price 530.0 and a premium 3300.0: 1.0\", 3300.0  …  \"For a ADBE short call with a strike price 575.0 and a premium 1538.0: 1.0\", 1538.0, \"For a ADBE short call with a strike price 585.0 and a premium 1334.5: 1.0\", 1334.5, \"For a ADBE short call with a strike price 540.0 and a premium 3845.0: 1.0\", 3845.0, \"For a ADBE short call with a strike price 555.0 and a premium 2186.5: 1.0\", 2186.5, \"For a ADBE short call with a strike price 565.0 and a premium 2743.15: 1.0\", 2743.15])"
      ]
     },
     "execution_count": 419,
     "metadata": {},
     "output_type": "execute_result"
    }
   ],
   "source": [
    "optimal_covered_calls_dict[\"ADBE\"]"
   ]
  },
  {
   "cell_type": "code",
   "execution_count": 420,
   "id": "f381760b-dba5-484e-bc72-31416191eb5a",
   "metadata": {},
   "outputs": [
    {
     "data": {
      "text/plain": [
       "6-element Vector{Any}:\n",
       " (1, Any[\"For a AAPL short call with a strike price 155.0 and a premium 38.94: 1.0\", 38.94])\n",
       " (2, Any[\"For a AAPL short call with a strike price 180.0 and a premium 1.0: 1.0\", 1.0, \"For a AAPL short call with a strike price 175.0 and a premium 10.5: 1.0\", 10.5, \"For a AAPL short call with a strike price 170.0 and a premium 29.88: 1.0\", 29.88])\n",
       " (3, Any[\"For a AAPL short call with a strike price 195.0 and a premium 10.0: 1.0\", 10.0, \"For a AAPL short call with a strike price 190.0 and a premium 18.5: 1.0\", 18.5, \"For a AAPL short call with a strike price 185.0 and a premium 37.51: 1.0\", 37.51])\n",
       " (4, Any[\"For a AAPL short call with a strike price 200.0 and a premium 85.99: 1.0\", 85.99, \"For a AAPL short call with a strike price 195.0 and a premium 153.74: 1.0\", 153.74, \"For a AAPL short call with a strike price 210.0 and a premium 28.6: 1.0\", 28.6, \"For a AAPL short call with a strike price 205.0 and a premium 54.96: 1.0\", 54.96])\n",
       " (5, Any[\"For a AAPL short call with a strike price 200.0 and a premium 397.39: 1.0\", 397.39, \"For a AAPL short call with a strike price 195.0 and a premium 652.58: 1.0\", 652.58, \"For a AAPL short call with a strike price 210.0 and a premium 103.3: 1.0\", 103.3, \"For a AAPL short call with a strike price 220.0 and a premium 29.09: 1.0\", 29.09, \"For a AAPL short call with a strike price 180.0 and a premium 1538.81: 1.0\", 1538.81, \"For a AAPL short call with a strike price 225.0 and a premium 19.0: 1.0\", 19.0, \"For a AAPL short call with a strike price 190.0 and a premium 984.68: 1.0\", 984.68, \"For a AAPL short call with a strike price 215.0 and a premium 55.23: 1.0\", 55.23, \"For a AAPL short call with a strike price 205.0 and a premium 214.62: 1.0\", 214.62, \"For a AAPL short call with a strike price 185.0 and a premium 1332.21: 1.0\", 1332.21])\n",
       " (6, Any[\"For a AAPL short call with a strike price 200.0 and a premium 45.74: 1.0\", 45.74, \"For a AAPL short call with a strike price 195.0 and a premium 90.35: 1.0\", 90.35, \"For a AAPL short call with a strike price 210.0 and a premium 16.95: 1.0\", 16.95, \"For a AAPL short call with a strike price 180.0 and a premium 541.66: 1.0\", 541.66, \"For a AAPL short call with a strike price 175.0 and a premium 874.53: 1.0\", 874.53, \"For a AAPL short call with a strike price 190.0 and a premium 179.62: 1.0\", 179.62, \"For a AAPL short call with a strike price 170.0 and a premium 1175.5: 1.0\", 1175.5, \"For a AAPL short call with a strike price 205.0 and a premium 25.7: 1.0\", 25.7, \"For a AAPL short call with a strike price 185.0 and a premium 327.73: 1.0\", 327.73])"
      ]
     },
     "execution_count": 420,
     "metadata": {},
     "output_type": "execute_result"
    }
   ],
   "source": [
    "optimal_covered_calls_dict[\"AAPL\"]"
   ]
  },
  {
   "cell_type": "code",
   "execution_count": 435,
   "id": "abdcce14-a60e-4805-9dce-e7fcb0ec3a64",
   "metadata": {},
   "outputs": [
    {
     "data": {
      "text/plain": [
       "extract_premiums (generic function with 1 method)"
      ]
     },
     "execution_count": 435,
     "metadata": {},
     "output_type": "execute_result"
    }
   ],
   "source": [
    "function extract_premiums(calls_data::Vector{Any})\n",
    "    premiums = []\n",
    "\n",
    "    for call in calls_data\n",
    "        premium = call[2][2]\n",
    "        push!(premiums, premium)\n",
    "    end\n",
    "\n",
    "    return premiums\n",
    "end"
   ]
  },
  {
   "cell_type": "code",
   "execution_count": 437,
   "id": "cee7829b-1c24-4213-b501-71e47d11ba78",
   "metadata": {},
   "outputs": [
    {
     "data": {
      "text/plain": [
       "6-element Vector{Any}:\n",
       "  38.94\n",
       "   1.0\n",
       "  10.0\n",
       "  85.99\n",
       " 397.39\n",
       "  45.74"
      ]
     },
     "execution_count": 437,
     "metadata": {},
     "output_type": "execute_result"
    }
   ],
   "source": [
    "extract_premiums(optimal_covered_calls_dict[\"AAPL\"])"
   ]
  },
  {
   "cell_type": "markdown",
   "id": "618ad4b3-1088-4fa2-9358-237adf59dba5",
   "metadata": {},
   "source": [
    "Notes- \n",
    "\n",
    "rev generated from options as growth\n",
    "\n",
    "more holistics is to consider the change in the underlying, calc return based on underlying, in wealth calculation have a term that is the capital change of the underlying + the revenue from the options\n",
    "\n",
    "exercise prob is the time of exercise for the set of contracts where set is 0.0 in the helper over the 1.0\n",
    "\n",
    "define lower bound to be -1 std, we define and set if that is beating SPY, looking also at expected value beating spy"
   ]
  }
 ],
 "metadata": {
  "kernelspec": {
   "display_name": "Julia 1.9.2",
   "language": "julia",
   "name": "julia-1.9"
  },
  "language_info": {
   "file_extension": ".jl",
   "mimetype": "application/julia",
   "name": "julia",
   "version": "1.9.2"
  }
 },
 "nbformat": 4,
 "nbformat_minor": 5
}
