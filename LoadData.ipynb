{
 "cells": [
  {
   "cell_type": "markdown",
   "id": "ec07121b-9bb9-4792-9249-57b11c238be6",
   "metadata": {},
   "source": [
    "# Load options data files\n",
    "I've downloaded the options data for the `tickers` you requested for both `call` and `put` contracts for 45-day contracts starting on `2023-01-03`. Let's walk through the `call` contract data (the `put` contract procedure is the same; we change the `jld2` file name to `Options-Put-Daily-OHLC-45d-2023.jld2`)"
   ]
  },
  {
   "cell_type": "markdown",
   "id": "0a434aa8-cb8e-43ce-8f38-a8e22ff4dd80",
   "metadata": {},
   "source": [
    "## Setup"
   ]
  },
  {
   "cell_type": "code",
   "execution_count": 1,
   "id": "39b19abd-3d21-41d9-9650-fbeae9791c89",
   "metadata": {},
   "outputs": [],
   "source": [
    "include(\"Include.jl\")"
   ]
  },
  {
   "cell_type": "markdown",
   "id": "648ebeb4-f7da-4975-8774-7e7246f023bc",
   "metadata": {},
   "source": [
    "## Load `call` contract data\n",
    "We downloaded data for 45-day contracts starting on `2023-01-03` and running through `2023`. The date information for each contract is given in the `call_contract_dates` variable. This is a `Tuple` that holds the day the contract was sold (`index = 1`), the day the contract expires (`index = 2`), and the number of days of the contract (`index=3`):"
   ]
  },
  {
   "cell_type": "code",
   "execution_count": 2,
   "id": "5080ab6a-7def-4fcc-8d08-846fd6802b5f",
   "metadata": {},
   "outputs": [
    {
     "data": {
      "text/plain": [
       "8-element Vector{Tuple{Date, Date, Int64}}:\n",
       " (Date(\"2023-01-03\"), Date(\"2023-02-17\"), 45)\n",
       " (Date(\"2023-02-22\"), Date(\"2023-04-14\"), 51)\n",
       " (Date(\"2023-04-17\"), Date(\"2023-06-02\"), 46)\n",
       " (Date(\"2023-06-05\"), Date(\"2023-07-21\"), 46)\n",
       " (Date(\"2023-07-24\"), Date(\"2023-09-08\"), 46)\n",
       " (Date(\"2023-09-11\"), Date(\"2023-10-27\"), 46)\n",
       " (Date(\"2023-10-30\"), Date(\"2023-12-15\"), 46)\n",
       " (Date(\"2023-12-18\"), Date(\"2024-02-02\"), 46)"
      ]
     },
     "execution_count": 2,
     "metadata": {},
     "output_type": "execute_result"
    }
   ],
   "source": [
    "call_contract_dates = load(joinpath(_PATH_TO_DATA, \"Options-Call-Daily-OHLC-45d-2023.jld2\")) |> x -> x[\"dates\"]"
   ]
  },
  {
   "cell_type": "markdown",
   "id": "8837728a-d279-46a3-a7b7-6bbe3ced45f4",
   "metadata": {},
   "source": [
    "To see the price information for each `call` contract, we load the `call_contract_data` dictionary. This data structure holds the price values for each ticker and each date combination. "
   ]
  },
  {
   "cell_type": "code",
   "execution_count": 3,
   "id": "60b81fdf-a551-4272-b86b-91faf8570fc5",
   "metadata": {},
   "outputs": [
    {
     "data": {
      "text/plain": [
       "Dict{Tuple, NamedTuple} with 56 entries:\n",
       "  (\"AMD\", Date(\"2023-04-17… => (data = Dict{Float64, Union{Nothing, DataFrame}}…\n",
       "  (\"NVDA\", Date(\"2023-02-2… => (data = Dict{Float64, Union{Nothing, DataFrame}}…\n",
       "  (\"SPY\", Date(\"2023-06-05… => (data = Dict{Float64, Union{Nothing, DataFrame}}…\n",
       "  (\"AAPL\", Date(\"2023-06-0… => (data = Dict{Float64, Union{Nothing, DataFrame}}…\n",
       "  (\"NVDA\", Date(\"2023-07-2… => (data = Dict{Float64, Union{Nothing, DataFrame}}…\n",
       "  (\"AAPL\", Date(\"2023-10-3… => (data = Dict{Float64, Union{Nothing, DataFrame}}…\n",
       "  (\"SPY\", Date(\"2023-01-03… => (data = Dict{Float64, Union{Nothing, DataFrame}}…\n",
       "  (\"NVDA\", Date(\"2023-04-1… => (data = Dict{Float64, Union{Nothing, DataFrame}}…\n",
       "  (\"MSFT\", Date(\"2023-04-1… => (data = Dict{Float64, Union{Nothing, DataFrame}}…\n",
       "  (\"MSFT\", Date(\"2023-06-0… => (data = Dict{Float64, Union{Nothing, DataFrame}}…\n",
       "  (\"AMD\", Date(\"2023-02-22… => (data = Dict{Float64, Union{Nothing, DataFrame}}…\n",
       "  (\"ADBE\", Date(\"2023-07-2… => (data = Dict{Float64, Union{Nothing, DataFrame}}…\n",
       "  (\"NVDA\", Date(\"2023-06-0… => (data = Dict{Float64, Union{Nothing, DataFrame}}…\n",
       "  (\"SPY\", Date(\"2023-02-22… => (data = Dict{Float64, Union{Nothing, DataFrame}}…\n",
       "  (\"GS\", Date(\"2023-01-03\"… => (data = Dict{Float64, Union{Nothing, DataFrame}}…\n",
       "  (\"AAPL\", Date(\"2023-02-2… => (data = Dict{Float64, Union{Nothing, DataFrame}}…\n",
       "  (\"GS\", Date(\"2023-09-11\"… => (data = Dict{Float64, Union{Nothing, DataFrame}}…\n",
       "  (\"MSFT\", Date(\"2023-02-2… => (data = Dict{Float64, Union{Nothing, DataFrame}}…\n",
       "  (\"SPY\", Date(\"2023-10-30… => (data = Dict{Float64, Union{Nothing, DataFrame}}…\n",
       "  (\"AAPL\", Date(\"2023-01-0… => (data = Dict{Float64, Union{Nothing, DataFrame}}…\n",
       "  (\"QQQ\", Date(\"2023-09-11… => (data = Dict{Float64, Union{Nothing, DataFrame}}…\n",
       "  (\"GS\", Date(\"2023-06-05\"… => (data = Dict{Float64, Union{Nothing, DataFrame}}…\n",
       "  (\"GS\", Date(\"2023-04-17\"… => (data = Dict{Float64, Union{Nothing, DataFrame}}…\n",
       "  (\"AMD\", Date(\"2023-10-30… => (data = Dict{Float64, Union{Nothing, DataFrame}}…\n",
       "  (\"GS\", Date(\"2023-07-24\"… => (data = Dict{Float64, Union{Nothing, DataFrame}}…\n",
       "  ⋮                         => ⋮"
      ]
     },
     "execution_count": 3,
     "metadata": {},
     "output_type": "execute_result"
    }
   ],
   "source": [
    "call_contract_data = load(joinpath(_PATH_TO_DATA, \"Options-Call-Daily-OHLC-45d-2023.jld2\")) |> x -> x[\"dataset\"]"
   ]
  },
  {
   "cell_type": "markdown",
   "id": "6f938e91-34a2-4474-a37b-6ae89322ad3e",
   "metadata": {},
   "source": [
    "We access this information by constructing a `tuple,` with the first item being the `ticker,` the second being the `sell` data, and the third item being the expiration date.\n",
    "* For example, to look at the data for an `AMD` call sold on `2023-06-05` and expiring on `2023-07-21`, the `key` would be:"
   ]
  },
  {
   "cell_type": "code",
   "execution_count": 9,
   "id": "a2b30422-2680-4b5e-8f49-518628629723",
   "metadata": {},
   "outputs": [],
   "source": [
    "test_key = (\"MSFT\", Date(\"2023-01-03\"), Date(\"2023-02-17\"));"
   ]
  },
  {
   "cell_type": "markdown",
   "id": "c3bfc254-6010-48d0-8a25-942dad85b700",
   "metadata": {},
   "source": [
    "passing this `key` into the `call_contract_data` dictionary gives us a `dictionary` holding the `OHLC` data for several strike prices:"
   ]
  },
  {
   "cell_type": "code",
   "execution_count": 10,
   "id": "07b30610-5ab5-4cbc-8e27-70f59904c26b",
   "metadata": {},
   "outputs": [
    {
     "data": {
      "text/plain": [
       "Dict{Float64, Union{Nothing, DataFrame}} with 13 entries:\n",
       "  260.0 => \u001b[1m33×8 DataFrame\u001b[0m\u001b[0m…\n",
       "  230.0 => \u001b[1m33×8 DataFrame\u001b[0m\u001b[0m…\n",
       "  265.0 => \u001b[1m33×8 DataFrame\u001b[0m\u001b[0m…\n",
       "  210.0 => \u001b[1m29×8 DataFrame\u001b[0m\u001b[0m…\n",
       "  220.0 => \u001b[1m33×8 DataFrame\u001b[0m\u001b[0m…\n",
       "  255.0 => \u001b[1m33×8 DataFrame\u001b[0m\u001b[0m…\n",
       "  225.0 => \u001b[1m33×8 DataFrame\u001b[0m\u001b[0m…\n",
       "  245.0 => \u001b[1m33×8 DataFrame\u001b[0m\u001b[0m…\n",
       "  215.0 => \u001b[1m26×8 DataFrame\u001b[0m\u001b[0m…\n",
       "  240.0 => \u001b[1m33×8 DataFrame\u001b[0m\u001b[0m…\n",
       "  235.0 => \u001b[1m33×8 DataFrame\u001b[0m\u001b[0m…\n",
       "  250.0 => \u001b[1m33×8 DataFrame\u001b[0m\u001b[0m…\n",
       "  270.0 => \u001b[1m33×8 DataFrame\u001b[0m\u001b[0m…"
      ]
     },
     "execution_count": 10,
     "metadata": {},
     "output_type": "execute_result"
    }
   ],
   "source": [
    "MSFT = call_contract_data[test_key] |> x-> x[:data]"
   ]
  },
  {
   "cell_type": "markdown",
   "id": "2c0fd18d-dffe-4ecc-8313-3481c5dbe8cb",
   "metadata": {},
   "source": [
    "We can look at a particular strike price by passing that strike into the dictionary. For example, let's look at the `K = 110` strike:"
   ]
  },
  {
   "cell_type": "code",
   "execution_count": 11,
   "id": "3c401ea3-8849-4c39-ab63-f54a0f6ccd64",
   "metadata": {},
   "outputs": [
    {
     "data": {
      "text/html": [
       "<div><div style = \"float: left;\"><span>33×8 DataFrame</span></div><div style = \"float: right;\"><span style = \"font-style: italic;\">8 rows omitted</span></div><div style = \"clear: both;\"></div></div><div class = \"data-frame\" style = \"overflow-x: scroll;\"><table class = \"data-frame\" style = \"margin-bottom: 6px;\"><thead><tr class = \"header\"><th class = \"rowNumber\" style = \"font-weight: bold; text-align: right;\">Row</th><th style = \"text-align: left;\">volume</th><th style = \"text-align: left;\">volume_weighted_average_price</th><th style = \"text-align: left;\">open</th><th style = \"text-align: left;\">close</th><th style = \"text-align: left;\">high</th><th style = \"text-align: left;\">low</th><th style = \"text-align: left;\">timestamp</th><th style = \"text-align: left;\">number_of_transactions</th></tr><tr class = \"subheader headerLastRow\"><th class = \"rowNumber\" style = \"font-weight: bold; text-align: right;\"></th><th title = \"Float64\" style = \"text-align: left;\">Float64</th><th title = \"Float64\" style = \"text-align: left;\">Float64</th><th title = \"Float64\" style = \"text-align: left;\">Float64</th><th title = \"Float64\" style = \"text-align: left;\">Float64</th><th title = \"Float64\" style = \"text-align: left;\">Float64</th><th title = \"Float64\" style = \"text-align: left;\">Float64</th><th title = \"DateTime\" style = \"text-align: left;\">DateTime</th><th title = \"Int64\" style = \"text-align: left;\">Int64</th></tr></thead><tbody><tr><td class = \"rowNumber\" style = \"font-weight: bold; text-align: right;\">1</td><td style = \"text-align: right;\">618.0</td><td style = \"text-align: right;\">4.7143</td><td style = \"text-align: right;\">5.32</td><td style = \"text-align: right;\">4.1</td><td style = \"text-align: right;\">6.1</td><td style = \"text-align: right;\">3.85</td><td style = \"text-align: left;\">2023-01-03T05:00:00</td><td style = \"text-align: right;\">121</td></tr><tr><td class = \"rowNumber\" style = \"font-weight: bold; text-align: right;\">2</td><td style = \"text-align: right;\">1388.0</td><td style = \"text-align: right;\">1.7105</td><td style = \"text-align: right;\">2.62</td><td style = \"text-align: right;\">1.82</td><td style = \"text-align: right;\">2.85</td><td style = \"text-align: right;\">1.44</td><td style = \"text-align: left;\">2023-01-04T05:00:00</td><td style = \"text-align: right;\">492</td></tr><tr><td class = \"rowNumber\" style = \"font-weight: bold; text-align: right;\">3</td><td style = \"text-align: right;\">492.0</td><td style = \"text-align: right;\">1.1747</td><td style = \"text-align: right;\">1.53</td><td style = \"text-align: right;\">1.0</td><td style = \"text-align: right;\">1.53</td><td style = \"text-align: right;\">0.96</td><td style = \"text-align: left;\">2023-01-05T05:00:00</td><td style = \"text-align: right;\">224</td></tr><tr><td class = \"rowNumber\" style = \"font-weight: bold; text-align: right;\">4</td><td style = \"text-align: right;\">654.0</td><td style = \"text-align: right;\">0.898</td><td style = \"text-align: right;\">1.0</td><td style = \"text-align: right;\">0.97</td><td style = \"text-align: right;\">1.07</td><td style = \"text-align: right;\">0.73</td><td style = \"text-align: left;\">2023-01-06T05:00:00</td><td style = \"text-align: right;\">199</td></tr><tr><td class = \"rowNumber\" style = \"font-weight: bold; text-align: right;\">5</td><td style = \"text-align: right;\">1085.0</td><td style = \"text-align: right;\">1.3259</td><td style = \"text-align: right;\">1.1</td><td style = \"text-align: right;\">1.06</td><td style = \"text-align: right;\">1.52</td><td style = \"text-align: right;\">1.02</td><td style = \"text-align: left;\">2023-01-09T05:00:00</td><td style = \"text-align: right;\">224</td></tr><tr><td class = \"rowNumber\" style = \"font-weight: bold; text-align: right;\">6</td><td style = \"text-align: right;\">261.0</td><td style = \"text-align: right;\">1.2702</td><td style = \"text-align: right;\">1.3</td><td style = \"text-align: right;\">1.12</td><td style = \"text-align: right;\">1.52</td><td style = \"text-align: right;\">1.05</td><td style = \"text-align: left;\">2023-01-10T05:00:00</td><td style = \"text-align: right;\">135</td></tr><tr><td class = \"rowNumber\" style = \"font-weight: bold; text-align: right;\">7</td><td style = \"text-align: right;\">815.0</td><td style = \"text-align: right;\">1.7515</td><td style = \"text-align: right;\">1.39</td><td style = \"text-align: right;\">2.17</td><td style = \"text-align: right;\">2.17</td><td style = \"text-align: right;\">1.38</td><td style = \"text-align: left;\">2023-01-11T05:00:00</td><td style = \"text-align: right;\">216</td></tr><tr><td class = \"rowNumber\" style = \"font-weight: bold; text-align: right;\">8</td><td style = \"text-align: right;\">1088.0</td><td style = \"text-align: right;\">2.3777</td><td style = \"text-align: right;\">2.08</td><td style = \"text-align: right;\">2.32</td><td style = \"text-align: right;\">2.62</td><td style = \"text-align: right;\">1.73</td><td style = \"text-align: left;\">2023-01-12T05:00:00</td><td style = \"text-align: right;\">276</td></tr><tr><td class = \"rowNumber\" style = \"font-weight: bold; text-align: right;\">9</td><td style = \"text-align: right;\">2790.0</td><td style = \"text-align: right;\">1.7327</td><td style = \"text-align: right;\">1.85</td><td style = \"text-align: right;\">2.02</td><td style = \"text-align: right;\">2.02</td><td style = \"text-align: right;\">1.6</td><td style = \"text-align: left;\">2023-01-13T05:00:00</td><td style = \"text-align: right;\">244</td></tr><tr><td class = \"rowNumber\" style = \"font-weight: bold; text-align: right;\">10</td><td style = \"text-align: right;\">1234.0</td><td style = \"text-align: right;\">2.143</td><td style = \"text-align: right;\">1.8</td><td style = \"text-align: right;\">2.1</td><td style = \"text-align: right;\">2.44</td><td style = \"text-align: right;\">1.75</td><td style = \"text-align: left;\">2023-01-17T05:00:00</td><td style = \"text-align: right;\">278</td></tr><tr><td class = \"rowNumber\" style = \"font-weight: bold; text-align: right;\">11</td><td style = \"text-align: right;\">843.0</td><td style = \"text-align: right;\">1.6611</td><td style = \"text-align: right;\">2.34</td><td style = \"text-align: right;\">1.27</td><td style = \"text-align: right;\">2.45</td><td style = \"text-align: right;\">1.27</td><td style = \"text-align: left;\">2023-01-18T05:00:00</td><td style = \"text-align: right;\">273</td></tr><tr><td class = \"rowNumber\" style = \"font-weight: bold; text-align: right;\">12</td><td style = \"text-align: right;\">975.0</td><td style = \"text-align: right;\">0.9982</td><td style = \"text-align: right;\">1.12</td><td style = \"text-align: right;\">0.91</td><td style = \"text-align: right;\">1.26</td><td style = \"text-align: right;\">0.88</td><td style = \"text-align: left;\">2023-01-19T05:00:00</td><td style = \"text-align: right;\">222</td></tr><tr><td class = \"rowNumber\" style = \"font-weight: bold; text-align: right;\">13</td><td style = \"text-align: right;\">1262.0</td><td style = \"text-align: right;\">1.5067</td><td style = \"text-align: right;\">1.2</td><td style = \"text-align: right;\">1.68</td><td style = \"text-align: right;\">1.82</td><td style = \"text-align: right;\">1.15</td><td style = \"text-align: left;\">2023-01-20T05:00:00</td><td style = \"text-align: right;\">362</td></tr><tr><td style = \"text-align: right;\">&vellip;</td><td style = \"text-align: right;\">&vellip;</td><td style = \"text-align: right;\">&vellip;</td><td style = \"text-align: right;\">&vellip;</td><td style = \"text-align: right;\">&vellip;</td><td style = \"text-align: right;\">&vellip;</td><td style = \"text-align: right;\">&vellip;</td><td style = \"text-align: right;\">&vellip;</td><td style = \"text-align: right;\">&vellip;</td></tr><tr><td class = \"rowNumber\" style = \"font-weight: bold; text-align: right;\">22</td><td style = \"text-align: right;\">4183.0</td><td style = \"text-align: right;\">5.7906</td><td style = \"text-align: right;\">4.75</td><td style = \"text-align: right;\">8.45</td><td style = \"text-align: right;\">8.68</td><td style = \"text-align: right;\">4.25</td><td style = \"text-align: left;\">2023-02-02T05:00:00</td><td style = \"text-align: right;\">988</td></tr><tr><td class = \"rowNumber\" style = \"font-weight: bold; text-align: right;\">23</td><td style = \"text-align: right;\">3554.0</td><td style = \"text-align: right;\">5.8518</td><td style = \"text-align: right;\">5.55</td><td style = \"text-align: right;\">4.8</td><td style = \"text-align: right;\">8.0</td><td style = \"text-align: right;\">4.4</td><td style = \"text-align: left;\">2023-02-03T05:00:00</td><td style = \"text-align: right;\">988</td></tr><tr><td class = \"rowNumber\" style = \"font-weight: bold; text-align: right;\">24</td><td style = \"text-align: right;\">3159.0</td><td style = \"text-align: right;\">3.8659</td><td style = \"text-align: right;\">4.35</td><td style = \"text-align: right;\">3.85</td><td style = \"text-align: right;\">4.51</td><td style = \"text-align: right;\">3.2</td><td style = \"text-align: left;\">2023-02-06T05:00:00</td><td style = \"text-align: right;\">707</td></tr><tr><td class = \"rowNumber\" style = \"font-weight: bold; text-align: right;\">25</td><td style = \"text-align: right;\">9868.0</td><td style = \"text-align: right;\">8.1381</td><td style = \"text-align: right;\">6.0</td><td style = \"text-align: right;\">10.09</td><td style = \"text-align: right;\">10.8</td><td style = \"text-align: right;\">5.4</td><td style = \"text-align: left;\">2023-02-07T05:00:00</td><td style = \"text-align: right;\">1727</td></tr><tr><td class = \"rowNumber\" style = \"font-weight: bold; text-align: right;\">26</td><td style = \"text-align: right;\">3510.0</td><td style = \"text-align: right;\">12.6114</td><td style = \"text-align: right;\">14.35</td><td style = \"text-align: right;\">9.5</td><td style = \"text-align: right;\">17.62</td><td style = \"text-align: right;\">9.05</td><td style = \"text-align: left;\">2023-02-08T05:00:00</td><td style = \"text-align: right;\">622</td></tr><tr><td class = \"rowNumber\" style = \"font-weight: bold; text-align: right;\">27</td><td style = \"text-align: right;\">1337.0</td><td style = \"text-align: right;\">9.6528</td><td style = \"text-align: right;\">14.8</td><td style = \"text-align: right;\">7.2</td><td style = \"text-align: right;\">15.0</td><td style = \"text-align: right;\">7.0</td><td style = \"text-align: left;\">2023-02-09T05:00:00</td><td style = \"text-align: right;\">350</td></tr><tr><td class = \"rowNumber\" style = \"font-weight: bold; text-align: right;\">28</td><td style = \"text-align: right;\">3289.0</td><td style = \"text-align: right;\">6.0932</td><td style = \"text-align: right;\">6.05</td><td style = \"text-align: right;\">6.55</td><td style = \"text-align: right;\">7.41</td><td style = \"text-align: right;\">5.34</td><td style = \"text-align: left;\">2023-02-10T05:00:00</td><td style = \"text-align: right;\">712</td></tr><tr><td class = \"rowNumber\" style = \"font-weight: bold; text-align: right;\">29</td><td style = \"text-align: right;\">2663.0</td><td style = \"text-align: right;\">12.4833</td><td style = \"text-align: right;\">9.42</td><td style = \"text-align: right;\">12.2</td><td style = \"text-align: right;\">15.15</td><td style = \"text-align: right;\">9.14</td><td style = \"text-align: left;\">2023-02-13T05:00:00</td><td style = \"text-align: right;\">608</td></tr><tr><td class = \"rowNumber\" style = \"font-weight: bold; text-align: right;\">30</td><td style = \"text-align: right;\">10676.0</td><td style = \"text-align: right;\">12.6319</td><td style = \"text-align: right;\">12.8</td><td style = \"text-align: right;\">12.4</td><td style = \"text-align: right;\">14.9</td><td style = \"text-align: right;\">9.78</td><td style = \"text-align: left;\">2023-02-14T05:00:00</td><td style = \"text-align: right;\">605</td></tr><tr><td class = \"rowNumber\" style = \"font-weight: bold; text-align: right;\">31</td><td style = \"text-align: right;\">594.0</td><td style = \"text-align: right;\">8.9537</td><td style = \"text-align: right;\">9.25</td><td style = \"text-align: right;\">9.15</td><td style = \"text-align: right;\">11.45</td><td style = \"text-align: right;\">7.0</td><td style = \"text-align: left;\">2023-02-15T05:00:00</td><td style = \"text-align: right;\">143</td></tr><tr><td class = \"rowNumber\" style = \"font-weight: bold; text-align: right;\">32</td><td style = \"text-align: right;\">1319.0</td><td style = \"text-align: right;\">4.475</td><td style = \"text-align: right;\">5.1</td><td style = \"text-align: right;\">3.38</td><td style = \"text-align: right;\">6.85</td><td style = \"text-align: right;\">3.15</td><td style = \"text-align: left;\">2023-02-16T05:00:00</td><td style = \"text-align: right;\">319</td></tr><tr><td class = \"rowNumber\" style = \"font-weight: bold; text-align: right;\">33</td><td style = \"text-align: right;\">36593.0</td><td style = \"text-align: right;\">0.4178</td><td style = \"text-align: right;\">1.42</td><td style = \"text-align: right;\">0.01</td><td style = \"text-align: right;\">1.48</td><td style = \"text-align: right;\">0.01</td><td style = \"text-align: left;\">2023-02-17T05:00:00</td><td style = \"text-align: right;\">4123</td></tr></tbody></table></div>"
      ],
      "text/latex": [
       "\\begin{tabular}{r|cccccccc}\n",
       "\t& volume & volume\\_weighted\\_average\\_price & open & close & high & low & timestamp & \\\\\n",
       "\t\\hline\n",
       "\t& Float64 & Float64 & Float64 & Float64 & Float64 & Float64 & DateTime & \\\\\n",
       "\t\\hline\n",
       "\t1 & 618.0 & 4.7143 & 5.32 & 4.1 & 6.1 & 3.85 & 2023-01-03T05:00:00 & $\\dots$ \\\\\n",
       "\t2 & 1388.0 & 1.7105 & 2.62 & 1.82 & 2.85 & 1.44 & 2023-01-04T05:00:00 & $\\dots$ \\\\\n",
       "\t3 & 492.0 & 1.1747 & 1.53 & 1.0 & 1.53 & 0.96 & 2023-01-05T05:00:00 & $\\dots$ \\\\\n",
       "\t4 & 654.0 & 0.898 & 1.0 & 0.97 & 1.07 & 0.73 & 2023-01-06T05:00:00 & $\\dots$ \\\\\n",
       "\t5 & 1085.0 & 1.3259 & 1.1 & 1.06 & 1.52 & 1.02 & 2023-01-09T05:00:00 & $\\dots$ \\\\\n",
       "\t6 & 261.0 & 1.2702 & 1.3 & 1.12 & 1.52 & 1.05 & 2023-01-10T05:00:00 & $\\dots$ \\\\\n",
       "\t7 & 815.0 & 1.7515 & 1.39 & 2.17 & 2.17 & 1.38 & 2023-01-11T05:00:00 & $\\dots$ \\\\\n",
       "\t8 & 1088.0 & 2.3777 & 2.08 & 2.32 & 2.62 & 1.73 & 2023-01-12T05:00:00 & $\\dots$ \\\\\n",
       "\t9 & 2790.0 & 1.7327 & 1.85 & 2.02 & 2.02 & 1.6 & 2023-01-13T05:00:00 & $\\dots$ \\\\\n",
       "\t10 & 1234.0 & 2.143 & 1.8 & 2.1 & 2.44 & 1.75 & 2023-01-17T05:00:00 & $\\dots$ \\\\\n",
       "\t11 & 843.0 & 1.6611 & 2.34 & 1.27 & 2.45 & 1.27 & 2023-01-18T05:00:00 & $\\dots$ \\\\\n",
       "\t12 & 975.0 & 0.9982 & 1.12 & 0.91 & 1.26 & 0.88 & 2023-01-19T05:00:00 & $\\dots$ \\\\\n",
       "\t13 & 1262.0 & 1.5067 & 1.2 & 1.68 & 1.82 & 1.15 & 2023-01-20T05:00:00 & $\\dots$ \\\\\n",
       "\t14 & 3410.0 & 2.1714 & 1.76 & 2.13 & 2.65 & 1.55 & 2023-01-23T05:00:00 & $\\dots$ \\\\\n",
       "\t15 & 3056.0 & 1.9926 & 2.14 & 2.01 & 2.45 & 1.76 & 2023-01-24T05:00:00 & $\\dots$ \\\\\n",
       "\t16 & 8122.0 & 0.4944 & 0.41 & 0.76 & 1.13 & 0.21 & 2023-01-25T05:00:00 & $\\dots$ \\\\\n",
       "\t17 & 5167.0 & 1.2204 & 1.14 & 2.04 & 2.04 & 0.94 & 2023-01-26T05:00:00 & $\\dots$ \\\\\n",
       "\t18 & 2474.0 & 1.9923 & 2.11 & 1.8 & 2.26 & 1.59 & 2023-01-27T05:00:00 & $\\dots$ \\\\\n",
       "\t19 & 3419.0 & 1.0426 & 1.2 & 0.85 & 1.32 & 0.83 & 2023-01-30T05:00:00 & $\\dots$ \\\\\n",
       "\t20 & 1353.0 & 1.2683 & 0.93 & 1.5 & 1.5 & 0.86 & 2023-01-31T05:00:00 & $\\dots$ \\\\\n",
       "\t21 & 3810.0 & 1.7155 & 1.56 & 2.33 & 3.2 & 1.19 & 2023-02-01T05:00:00 & $\\dots$ \\\\\n",
       "\t22 & 4183.0 & 5.7906 & 4.75 & 8.45 & 8.68 & 4.25 & 2023-02-02T05:00:00 & $\\dots$ \\\\\n",
       "\t23 & 3554.0 & 5.8518 & 5.55 & 4.8 & 8.0 & 4.4 & 2023-02-03T05:00:00 & $\\dots$ \\\\\n",
       "\t24 & 3159.0 & 3.8659 & 4.35 & 3.85 & 4.51 & 3.2 & 2023-02-06T05:00:00 & $\\dots$ \\\\\n",
       "\t25 & 9868.0 & 8.1381 & 6.0 & 10.09 & 10.8 & 5.4 & 2023-02-07T05:00:00 & $\\dots$ \\\\\n",
       "\t26 & 3510.0 & 12.6114 & 14.35 & 9.5 & 17.62 & 9.05 & 2023-02-08T05:00:00 & $\\dots$ \\\\\n",
       "\t27 & 1337.0 & 9.6528 & 14.8 & 7.2 & 15.0 & 7.0 & 2023-02-09T05:00:00 & $\\dots$ \\\\\n",
       "\t28 & 3289.0 & 6.0932 & 6.05 & 6.55 & 7.41 & 5.34 & 2023-02-10T05:00:00 & $\\dots$ \\\\\n",
       "\t29 & 2663.0 & 12.4833 & 9.42 & 12.2 & 15.15 & 9.14 & 2023-02-13T05:00:00 & $\\dots$ \\\\\n",
       "\t30 & 10676.0 & 12.6319 & 12.8 & 12.4 & 14.9 & 9.78 & 2023-02-14T05:00:00 & $\\dots$ \\\\\n",
       "\t$\\dots$ & $\\dots$ & $\\dots$ & $\\dots$ & $\\dots$ & $\\dots$ & $\\dots$ & $\\dots$ &  \\\\\n",
       "\\end{tabular}\n"
      ],
      "text/plain": [
       "\u001b[1m33×8 DataFrame\u001b[0m\n",
       "\u001b[1m Row \u001b[0m│\u001b[1m volume  \u001b[0m\u001b[1m volume_weighted_average_price \u001b[0m\u001b[1m open    \u001b[0m\u001b[1m close   \u001b[0m\u001b[1m high    \u001b[0m\u001b[1m low \u001b[0m ⋯\n",
       "     │\u001b[90m Float64 \u001b[0m\u001b[90m Float64                       \u001b[0m\u001b[90m Float64 \u001b[0m\u001b[90m Float64 \u001b[0m\u001b[90m Float64 \u001b[0m\u001b[90m Floa\u001b[0m ⋯\n",
       "─────┼──────────────────────────────────────────────────────────────────────────\n",
       "   1 │   618.0                         4.7143     5.32     4.1      6.1      3 ⋯\n",
       "   2 │  1388.0                         1.7105     2.62     1.82     2.85     1\n",
       "   3 │   492.0                         1.1747     1.53     1.0      1.53     0\n",
       "   4 │   654.0                         0.898      1.0      0.97     1.07     0\n",
       "   5 │  1085.0                         1.3259     1.1      1.06     1.52     1 ⋯\n",
       "   6 │   261.0                         1.2702     1.3      1.12     1.52     1\n",
       "   7 │   815.0                         1.7515     1.39     2.17     2.17     1\n",
       "   8 │  1088.0                         2.3777     2.08     2.32     2.62     1\n",
       "   9 │  2790.0                         1.7327     1.85     2.02     2.02     1 ⋯\n",
       "  10 │  1234.0                         2.143      1.8      2.1      2.44     1\n",
       "  11 │   843.0                         1.6611     2.34     1.27     2.45     1\n",
       "  ⋮  │    ⋮                   ⋮                   ⋮        ⋮        ⋮        ⋮ ⋱\n",
       "  24 │  3159.0                         3.8659     4.35     3.85     4.51     3\n",
       "  25 │  9868.0                         8.1381     6.0     10.09    10.8      5 ⋯\n",
       "  26 │  3510.0                        12.6114    14.35     9.5     17.62     9\n",
       "  27 │  1337.0                         9.6528    14.8      7.2     15.0      7\n",
       "  28 │  3289.0                         6.0932     6.05     6.55     7.41     5\n",
       "  29 │  2663.0                        12.4833     9.42    12.2     15.15     9 ⋯\n",
       "  30 │ 10676.0                        12.6319    12.8     12.4     14.9      9\n",
       "  31 │   594.0                         8.9537     9.25     9.15    11.45     7\n",
       "  32 │  1319.0                         4.475      5.1      3.38     6.85     3\n",
       "  33 │ 36593.0                         0.4178     1.42     0.01     1.48     0 ⋯\n",
       "\u001b[36m                                                   3 columns and 12 rows omitted\u001b[0m"
      ]
     },
     "execution_count": 11,
     "metadata": {},
     "output_type": "execute_result"
    }
   ],
   "source": [
    "MSFT[260.0]"
   ]
  },
  {
   "cell_type": "markdown",
   "id": "5be2160a-06fe-443b-bef5-0f20016147e2",
   "metadata": {},
   "source": [
    "Each row is the price for that contract on that day"
   ]
  },
  {
   "cell_type": "code",
   "execution_count": null,
   "id": "d254b741-0ee3-40d4-8a69-6c56e7a2d8cb",
   "metadata": {},
   "outputs": [],
   "source": []
  }
 ],
 "metadata": {
  "kernelspec": {
   "display_name": "Julia 1.9.2",
   "language": "julia",
   "name": "julia-1.9"
  },
  "language_info": {
   "file_extension": ".jl",
   "mimetype": "application/julia",
   "name": "julia",
   "version": "1.9.2"
  }
 },
 "nbformat": 4,
 "nbformat_minor": 5
}
