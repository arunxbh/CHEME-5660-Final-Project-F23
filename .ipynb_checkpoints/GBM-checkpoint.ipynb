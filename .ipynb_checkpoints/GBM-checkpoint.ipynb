{
 "cells": [
  {
   "cell_type": "markdown",
   "id": "25b03035-d1a0-404f-8211-466c6add15ba",
   "metadata": {},
   "source": [
    "# Computing the Price Movements using Single Asset GBM models for Portfolio Asset Selection\n"
   ]
  },
  {
   "cell_type": "markdown",
   "id": "98e6500b-aab8-4171-8f96-b0060bd6a86f",
   "metadata": {
    "tags": []
   },
   "source": [
    "Here we will build a function to generate a GBM model for the assets of interest"
   ]
  },
  {
   "cell_type": "code",
   "execution_count": 1,
   "id": "d2ae47dc-4600-40fb-b2bd-45be624f364b",
   "metadata": {
    "tags": []
   },
   "outputs": [
    {
     "name": "stderr",
     "output_type": "stream",
     "text": [
      "\u001b[32m\u001b[1m    Updating\u001b[22m\u001b[39m git-repo `https://github.com/varnerlab/VLQuantitativeFinancePackage.jl.git`\n",
      "\u001b[32m\u001b[1m   Resolving\u001b[22m\u001b[39m package versions...\n",
      "\u001b[32m\u001b[1m  No Changes\u001b[22m\u001b[39m to `~/Documents/GitHub/CHEME5660/CHEME-5660-Project-Template-F23/Project.toml`\n",
      "\u001b[32m\u001b[1m  No Changes\u001b[22m\u001b[39m to `~/Documents/GitHub/CHEME5660/CHEME-5660-Project-Template-F23/Manifest.toml`\n",
      "\u001b[32m\u001b[1m  Activating\u001b[22m\u001b[39m project at `~/Documents/GitHub/CHEME5660/CHEME-5660-Project-Template-F23`\n",
      "\u001b[32m\u001b[1m  No Changes\u001b[22m\u001b[39m to `~/Documents/GitHub/CHEME5660/CHEME-5660-Project-Template-F23/Project.toml`\n",
      "\u001b[32m\u001b[1m  No Changes\u001b[22m\u001b[39m to `~/Documents/GitHub/CHEME5660/CHEME-5660-Project-Template-F23/Manifest.toml`\n",
      "\u001b[32m\u001b[1m    Updating\u001b[22m\u001b[39m registry at `~/.julia/registries/General.toml`\n",
      "\u001b[32m\u001b[1m    Updating\u001b[22m\u001b[39m git-repo `https://github.com/varnerlab/VLQuantitativeFinancePackage.jl.git`\n",
      "\u001b[32m\u001b[1m  No Changes\u001b[22m\u001b[39m to `~/Documents/GitHub/CHEME5660/CHEME-5660-Project-Template-F23/Project.toml`\n",
      "\u001b[32m\u001b[1m  No Changes\u001b[22m\u001b[39m to `~/Documents/GitHub/CHEME5660/CHEME-5660-Project-Template-F23/Manifest.toml`\n"
     ]
    }
   ],
   "source": [
    "include(\"Include.jl\");"
   ]
  },
  {
   "cell_type": "markdown",
   "id": "ae7164ce-7047-4263-88b8-8f3b707f6702",
   "metadata": {},
   "source": [
    "### Constants\n",
    "Let's set some constant values that we will use below:"
   ]
  },
  {
   "cell_type": "code",
   "execution_count": 2,
   "id": "7cb9ec3b-1a7c-4376-ba82-784551af8c51",
   "metadata": {
    "tags": []
   },
   "outputs": [],
   "source": [
    "Δt = (1.0/252.0); # default timestep: 1-trading day in units of years\n",
    "T = 48; # number of trading days for our projection\n",
    "number_of_trading_days = 194; # number of trading days in the 2023 sample\n",
    "number_of_sample_paths = 10000; # number of sample paths that we used to calculate to sample the model\n",
    "all_range = range(1,stop=number_of_trading_days,step=1) |> collect; # range of possible time steps"
   ]
  },
  {
   "cell_type": "markdown",
   "id": "11c1b73c-f630-4092-8710-c43bba9574e0",
   "metadata": {},
   "source": [
    "### Setup the $\\beta$-array\n",
    "We'll simulate a range of perturbation values between a lower bound $\\beta_{1}$ and an upper bound $\\beta_{2}$, where we specify the number of test points between $\\beta_{1}\\rightarrow\\beta_{2}$. We save this array in the `β` variable:"
   ]
  },
  {
   "cell_type": "code",
   "execution_count": 3,
   "id": "d7788050-9d2e-4713-8073-f3531af3246c",
   "metadata": {
    "tags": []
   },
   "outputs": [],
   "source": [
    "number_of_test_points = 100;\n",
    "β₁ = 0.8;\n",
    "β₂ = 1.2;\n",
    "β = range(β₁,stop=β₂, length=number_of_test_points) |> collect;"
   ]
  },
  {
   "cell_type": "code",
   "execution_count": 4,
   "id": "25c6a4da-ebb5-4beb-bebd-f79a6fa51833",
   "metadata": {
    "tags": []
   },
   "outputs": [],
   "source": [
    "dataset = load(joinpath(_PATH_TO_DATA, \n",
    "        \"SP500-Daily-OHLC-1-3-2018-to-12-01-2023.jld2\")) |> x-> x[\"dataset\"];"
   ]
  },
  {
   "cell_type": "code",
   "execution_count": 5,
   "id": "bbab3ccd-ad04-4379-a83d-bf9f9915f282",
   "metadata": {
    "tags": []
   },
   "outputs": [],
   "source": [
    "list_of_firms = keys(dataset) |> collect |> sort;"
   ]
  },
  {
   "cell_type": "markdown",
   "id": "ed4edc5d-e1d0-4072-8c24-4269a82fcf52",
   "metadata": {},
   "source": [
    "#### Load parameters dataset\n",
    "This has been modified from PS2 to import relevant helper functions for estimating values for the drift and volatility parameters for each firm in our dataset. We load this data by calling the `MyFirmParametersDataSet()` function, and save these values in the `parameters` variable (which is type `DataFrame`):"
   ]
  },
  {
   "cell_type": "code",
   "execution_count": 6,
   "id": "8f97b121-057f-4fa6-86c9-5058929bdcd5",
   "metadata": {},
   "outputs": [
    {
     "data": {
      "text/plain": [
       "_loadcsvfile (generic function with 1 method)"
      ]
     },
     "execution_count": 6,
     "metadata": {},
     "output_type": "execute_result"
    }
   ],
   "source": [
    "function _loadcsvfile(path::String)::DataFrame\n",
    "    return CSV.read(path, DataFrame);\n",
    "end"
   ]
  },
  {
   "cell_type": "code",
   "execution_count": 7,
   "id": "faeb45ce-6ab2-4aff-b421-ca0e0325e2d2",
   "metadata": {},
   "outputs": [],
   "source": [
    "MyFirmParametersDataSet() = _loadcsvfile(joinpath(_PATH_TO_DATA, \"Parameters-SP500-2018-2022.csv\"));"
   ]
  },
  {
   "cell_type": "code",
   "execution_count": 8,
   "id": "6912c7a6-0f22-4176-8ffc-8ef737da4c1f",
   "metadata": {
    "tags": []
   },
   "outputs": [
    {
     "data": {
      "text/html": [
       "<div><div style = \"float: left;\"><span>458×4 DataFrame</span></div><div style = \"float: right;\"><span style = \"font-style: italic;\">433 rows omitted</span></div><div style = \"clear: both;\"></div></div><div class = \"data-frame\" style = \"overflow-x: scroll;\"><table class = \"data-frame\" style = \"margin-bottom: 6px;\"><thead><tr class = \"header\"><th class = \"rowNumber\" style = \"font-weight: bold; text-align: right;\">Row</th><th style = \"text-align: left;\">index</th><th style = \"text-align: left;\">ticker</th><th style = \"text-align: left;\">drift</th><th style = \"text-align: left;\">volatility</th></tr><tr class = \"subheader headerLastRow\"><th class = \"rowNumber\" style = \"font-weight: bold; text-align: right;\"></th><th title = \"Int64\" style = \"text-align: left;\">Int64</th><th title = \"String7\" style = \"text-align: left;\">String7</th><th title = \"Float64\" style = \"text-align: left;\">Float64</th><th title = \"Float64\" style = \"text-align: left;\">Float64</th></tr></thead><tbody><tr><td class = \"rowNumber\" style = \"font-weight: bold; text-align: right;\">1</td><td style = \"text-align: right;\">1</td><td style = \"text-align: left;\">MMM</td><td style = \"text-align: right;\">-0.0822692</td><td style = \"text-align: right;\">0.238729</td></tr><tr><td class = \"rowNumber\" style = \"font-weight: bold; text-align: right;\">2</td><td style = \"text-align: right;\">2</td><td style = \"text-align: left;\">AOS</td><td style = \"text-align: right;\">0.0441975</td><td style = \"text-align: right;\">0.266025</td></tr><tr><td class = \"rowNumber\" style = \"font-weight: bold; text-align: right;\">3</td><td style = \"text-align: right;\">3</td><td style = \"text-align: left;\">ABT</td><td style = \"text-align: right;\">0.151149</td><td style = \"text-align: right;\">0.230271</td></tr><tr><td class = \"rowNumber\" style = \"font-weight: bold; text-align: right;\">4</td><td style = \"text-align: right;\">4</td><td style = \"text-align: left;\">ABBV</td><td style = \"text-align: right;\">0.118596</td><td style = \"text-align: right;\">0.266743</td></tr><tr><td class = \"rowNumber\" style = \"font-weight: bold; text-align: right;\">5</td><td style = \"text-align: right;\">6</td><td style = \"text-align: left;\">ACN</td><td style = \"text-align: right;\">0.178695</td><td style = \"text-align: right;\">0.250005</td></tr><tr><td class = \"rowNumber\" style = \"font-weight: bold; text-align: right;\">6</td><td style = \"text-align: right;\">7</td><td style = \"text-align: left;\">ATVI</td><td style = \"text-align: right;\">0.0745844</td><td style = \"text-align: right;\">0.305086</td></tr><tr><td class = \"rowNumber\" style = \"font-weight: bold; text-align: right;\">7</td><td style = \"text-align: right;\">8</td><td style = \"text-align: left;\">ADM</td><td style = \"text-align: right;\">0.161607</td><td style = \"text-align: right;\">0.237929</td></tr><tr><td class = \"rowNumber\" style = \"font-weight: bold; text-align: right;\">8</td><td style = \"text-align: right;\">9</td><td style = \"text-align: left;\">ADBE</td><td style = \"text-align: right;\">0.171392</td><td style = \"text-align: right;\">0.307362</td></tr><tr><td class = \"rowNumber\" style = \"font-weight: bold; text-align: right;\">9</td><td style = \"text-align: right;\">10</td><td style = \"text-align: left;\">AAP</td><td style = \"text-align: right;\">0.0890969</td><td style = \"text-align: right;\">0.307218</td></tr><tr><td class = \"rowNumber\" style = \"font-weight: bold; text-align: right;\">10</td><td style = \"text-align: right;\">11</td><td style = \"text-align: left;\">AMD</td><td style = \"text-align: right;\">0.460484</td><td style = \"text-align: right;\">0.468767</td></tr><tr><td class = \"rowNumber\" style = \"font-weight: bold; text-align: right;\">11</td><td style = \"text-align: right;\">12</td><td style = \"text-align: left;\">AES</td><td style = \"text-align: right;\">0.163333</td><td style = \"text-align: right;\">0.323119</td></tr><tr><td class = \"rowNumber\" style = \"font-weight: bold; text-align: right;\">12</td><td style = \"text-align: right;\">13</td><td style = \"text-align: left;\">AFL</td><td style = \"text-align: right;\">0.0672164</td><td style = \"text-align: right;\">0.272687</td></tr><tr><td class = \"rowNumber\" style = \"font-weight: bold; text-align: right;\">13</td><td style = \"text-align: right;\">14</td><td style = \"text-align: left;\">A</td><td style = \"text-align: right;\">0.200418</td><td style = \"text-align: right;\">0.256747</td></tr><tr><td style = \"text-align: right;\">&vellip;</td><td style = \"text-align: right;\">&vellip;</td><td style = \"text-align: right;\">&vellip;</td><td style = \"text-align: right;\">&vellip;</td><td style = \"text-align: right;\">&vellip;</td></tr><tr><td class = \"rowNumber\" style = \"font-weight: bold; text-align: right;\">447</td><td style = \"text-align: right;\">492</td><td style = \"text-align: left;\">WRK</td><td style = \"text-align: right;\">-0.0370295</td><td style = \"text-align: right;\">0.356485</td></tr><tr><td class = \"rowNumber\" style = \"font-weight: bold; text-align: right;\">448</td><td style = \"text-align: right;\">493</td><td style = \"text-align: left;\">WY</td><td style = \"text-align: right;\">0.0431223</td><td style = \"text-align: right;\">0.323738</td></tr><tr><td class = \"rowNumber\" style = \"font-weight: bold; text-align: right;\">449</td><td style = \"text-align: right;\">494</td><td style = \"text-align: left;\">WHR</td><td style = \"text-align: right;\">0.0772521</td><td style = \"text-align: right;\">0.345513</td></tr><tr><td class = \"rowNumber\" style = \"font-weight: bold; text-align: right;\">450</td><td style = \"text-align: right;\">495</td><td style = \"text-align: left;\">WMB</td><td style = \"text-align: right;\">0.0319938</td><td style = \"text-align: right;\">0.326874</td></tr><tr><td class = \"rowNumber\" style = \"font-weight: bold; text-align: right;\">451</td><td style = \"text-align: right;\">497</td><td style = \"text-align: left;\">WYNN</td><td style = \"text-align: right;\">-0.169108</td><td style = \"text-align: right;\">0.518227</td></tr><tr><td class = \"rowNumber\" style = \"font-weight: bold; text-align: right;\">452</td><td style = \"text-align: right;\">498</td><td style = \"text-align: left;\">XEL</td><td style = \"text-align: right;\">0.093815</td><td style = \"text-align: right;\">0.201305</td></tr><tr><td class = \"rowNumber\" style = \"font-weight: bold; text-align: right;\">453</td><td style = \"text-align: right;\">500</td><td style = \"text-align: left;\">XYL</td><td style = \"text-align: right;\">0.0931437</td><td style = \"text-align: right;\">0.2765</td></tr><tr><td class = \"rowNumber\" style = \"font-weight: bold; text-align: right;\">454</td><td style = \"text-align: right;\">501</td><td style = \"text-align: left;\">YUM</td><td style = \"text-align: right;\">0.084114</td><td style = \"text-align: right;\">0.235818</td></tr><tr><td class = \"rowNumber\" style = \"font-weight: bold; text-align: right;\">455</td><td style = \"text-align: right;\">502</td><td style = \"text-align: left;\">ZBRA</td><td style = \"text-align: right;\">0.249251</td><td style = \"text-align: right;\">0.353413</td></tr><tr><td class = \"rowNumber\" style = \"font-weight: bold; text-align: right;\">456</td><td style = \"text-align: right;\">503</td><td style = \"text-align: left;\">ZBH</td><td style = \"text-align: right;\">0.0162484</td><td style = \"text-align: right;\">0.291476</td></tr><tr><td class = \"rowNumber\" style = \"font-weight: bold; text-align: right;\">457</td><td style = \"text-align: right;\">504</td><td style = \"text-align: left;\">ZION</td><td style = \"text-align: right;\">0.0336192</td><td style = \"text-align: right;\">0.345286</td></tr><tr><td class = \"rowNumber\" style = \"font-weight: bold; text-align: right;\">458</td><td style = \"text-align: right;\">505</td><td style = \"text-align: left;\">ZTS</td><td style = \"text-align: right;\">0.192</td><td style = \"text-align: right;\">0.24808</td></tr></tbody></table></div>"
      ],
      "text/latex": [
       "\\begin{tabular}{r|cccc}\n",
       "\t& index & ticker & drift & volatility\\\\\n",
       "\t\\hline\n",
       "\t& Int64 & String7 & Float64 & Float64\\\\\n",
       "\t\\hline\n",
       "\t1 & 1 & MMM & -0.0822692 & 0.238729 \\\\\n",
       "\t2 & 2 & AOS & 0.0441975 & 0.266025 \\\\\n",
       "\t3 & 3 & ABT & 0.151149 & 0.230271 \\\\\n",
       "\t4 & 4 & ABBV & 0.118596 & 0.266743 \\\\\n",
       "\t5 & 6 & ACN & 0.178695 & 0.250005 \\\\\n",
       "\t6 & 7 & ATVI & 0.0745844 & 0.305086 \\\\\n",
       "\t7 & 8 & ADM & 0.161607 & 0.237929 \\\\\n",
       "\t8 & 9 & ADBE & 0.171392 & 0.307362 \\\\\n",
       "\t9 & 10 & AAP & 0.0890969 & 0.307218 \\\\\n",
       "\t10 & 11 & AMD & 0.460484 & 0.468767 \\\\\n",
       "\t11 & 12 & AES & 0.163333 & 0.323119 \\\\\n",
       "\t12 & 13 & AFL & 0.0672164 & 0.272687 \\\\\n",
       "\t13 & 14 & A & 0.200418 & 0.256747 \\\\\n",
       "\t14 & 15 & APD & 0.124713 & 0.234286 \\\\\n",
       "\t15 & 16 & AKAM & 0.0938754 & 0.2618 \\\\\n",
       "\t16 & 17 & ALK & -0.067659 & 0.42922 \\\\\n",
       "\t17 & 18 & ALB & 0.272078 & 0.428068 \\\\\n",
       "\t18 & 19 & ARE & 0.0796148 & 0.23063 \\\\\n",
       "\t19 & 20 & ALGN & 0.0913652 & 0.473977 \\\\\n",
       "\t20 & 21 & ALLE & 0.0747817 & 0.274496 \\\\\n",
       "\t21 & 22 & LNT & 0.0789945 & 0.210932 \\\\\n",
       "\t22 & 23 & ALL & 0.0778417 & 0.247462 \\\\\n",
       "\t23 & 24 & GOOGL & 0.210544 & 0.259927 \\\\\n",
       "\t24 & 25 & GOOG & 0.214113 & 0.260074 \\\\\n",
       "\t25 & 26 & MO & -0.0526736 & 0.247455 \\\\\n",
       "\t26 & 27 & AMZN & 0.144741 & 0.303115 \\\\\n",
       "\t27 & 29 & AEE & 0.0879334 & 0.212974 \\\\\n",
       "\t28 & 30 & AAL & -0.250542 & 0.563645 \\\\\n",
       "\t29 & 31 & AEP & 0.0577161 & 0.211728 \\\\\n",
       "\t30 & 32 & AXP & 0.120525 & 0.329017 \\\\\n",
       "\t$\\dots$ & $\\dots$ & $\\dots$ & $\\dots$ & $\\dots$ \\\\\n",
       "\\end{tabular}\n"
      ],
      "text/plain": [
       "\u001b[1m458×4 DataFrame\u001b[0m\n",
       "\u001b[1m Row \u001b[0m│\u001b[1m index \u001b[0m\u001b[1m ticker  \u001b[0m\u001b[1m drift      \u001b[0m\u001b[1m volatility \u001b[0m\n",
       "     │\u001b[90m Int64 \u001b[0m\u001b[90m String7 \u001b[0m\u001b[90m Float64    \u001b[0m\u001b[90m Float64    \u001b[0m\n",
       "─────┼────────────────────────────────────────\n",
       "   1 │     1  MMM      -0.0822692    0.238729\n",
       "   2 │     2  AOS       0.0441975    0.266025\n",
       "   3 │     3  ABT       0.151149     0.230271\n",
       "   4 │     4  ABBV      0.118596     0.266743\n",
       "   5 │     6  ACN       0.178695     0.250005\n",
       "   6 │     7  ATVI      0.0745844    0.305086\n",
       "   7 │     8  ADM       0.161607     0.237929\n",
       "   8 │     9  ADBE      0.171392     0.307362\n",
       "   9 │    10  AAP       0.0890969    0.307218\n",
       "  10 │    11  AMD       0.460484     0.468767\n",
       "  11 │    12  AES       0.163333     0.323119\n",
       "  ⋮  │   ⋮       ⋮         ⋮           ⋮\n",
       " 449 │   494  WHR       0.0772521    0.345513\n",
       " 450 │   495  WMB       0.0319938    0.326874\n",
       " 451 │   497  WYNN     -0.169108     0.518227\n",
       " 452 │   498  XEL       0.093815     0.201305\n",
       " 453 │   500  XYL       0.0931437    0.2765\n",
       " 454 │   501  YUM       0.084114     0.235818\n",
       " 455 │   502  ZBRA      0.249251     0.353413\n",
       " 456 │   503  ZBH       0.0162484    0.291476\n",
       " 457 │   504  ZION      0.0336192    0.345286\n",
       " 458 │   505  ZTS       0.192        0.24808\n",
       "\u001b[36m                              437 rows omitted\u001b[0m"
      ]
     },
     "execution_count": 8,
     "metadata": {},
     "output_type": "execute_result"
    }
   ],
   "source": [
    "parameters = MyFirmParametersDataSet()"
   ]
  },
  {
   "cell_type": "code",
   "execution_count": 9,
   "id": "86bf704e-4d74-4dcd-ad81-ad67f7c7cf68",
   "metadata": {
    "jupyter": {
     "source_hidden": true
    }
   },
   "outputs": [
    {
     "data": {
      "text/plain": [
       "_𝕍 (generic function with 1 method)"
      ]
     },
     "execution_count": 9,
     "metadata": {},
     "output_type": "execute_result"
    }
   ],
   "source": [
    "function sample(model::MyGeometricBrownianMotionEquityModel, data::NamedTuple; \n",
    "    number_of_paths::Int64 = 100)::Array{Float64,2}\n",
    "\n",
    "    # get information from data -\n",
    "    T₁ = data[:T₁]\n",
    "    T₂ = data[:T₂]\n",
    "    Δt = data[:Δt]\n",
    "    Sₒ = data[:Sₒ]\n",
    "\n",
    "    # get information from model -\n",
    "    μ = model.μ\n",
    "    σ = model.σ\n",
    "\n",
    "\t# initialize -\n",
    "\ttime_array = range(T₁, stop=T₂, step=Δt) |> collect\n",
    "\tnumber_of_time_steps = length(time_array)\n",
    "    X = zeros(number_of_time_steps, number_of_paths + 1) # extra column for time -\n",
    "\n",
    "    # put the time in the first col -\n",
    "    for t ∈ 1:number_of_time_steps\n",
    "        X[t,1] = time_array[t]\n",
    "    end\n",
    "\n",
    "\t# replace first-row w/Sₒ -\n",
    "\tfor p ∈ 1:number_of_paths\n",
    "\t\tX[1, p+1] = Sₒ\n",
    "\tend\n",
    "\n",
    "\t# build a noise array of Z(0,1)\n",
    "\td = Normal(0,1)\n",
    "\tZM = rand(d,number_of_time_steps, number_of_paths);\n",
    "\n",
    "\t# main simulation loop -\n",
    "\tfor p ∈ 1:number_of_paths\n",
    "\t\tfor t ∈ 1:number_of_time_steps-1\n",
    "\t\t\tX[t+1,p+1] = X[t,p+1]*exp((μ - σ^2/2)*Δt + σ*(sqrt(Δt))*ZM[t,p])\n",
    "\t\tend\n",
    "\tend\n",
    "\n",
    "\t# return -\n",
    "\treturn X\n",
    "end\n",
    "\n",
    "function 𝔼(model::MyGeometricBrownianMotionEquityModel, data::NamedTuple)::Array{Float64,2}\n",
    "\n",
    "    # get information from data -\n",
    "    T₁ = data[:T₁]\n",
    "    T₂ = data[:T₂]\n",
    "    Δt = data[:Δt]\n",
    "    Sₒ = data[:Sₒ]\n",
    "    \n",
    "    # get information from model -\n",
    "    μ = model.μ\n",
    "\n",
    "    # setup the time range -\n",
    "    time_array = range(T₁,stop=T₂, step = Δt) |> collect\n",
    "    N = length(time_array)\n",
    "\n",
    "    # expectation -\n",
    "    expectation_array = Array{Float64,2}(undef, N, 2)\n",
    "\n",
    "    # main loop -\n",
    "    for i ∈ 1:N\n",
    "\n",
    "        # get the time value -\n",
    "        h = (time_array[i] - time_array[1])\n",
    "\n",
    "        # compute the expectation -\n",
    "        value = Sₒ*exp(μ*h)\n",
    "\n",
    "        # capture -\n",
    "        expectation_array[i,1] = h + time_array[1]\n",
    "        expectation_array[i,2] = value\n",
    "    end\n",
    "   \n",
    "    # return -\n",
    "    return expectation_array\n",
    "end\n",
    "\n",
    "Var(model::MyGeometricBrownianMotionEquityModel, data::NamedTuple) = _𝕍(model, data);\n",
    "function _𝕍(model::MyGeometricBrownianMotionEquityModel, data::NamedTuple)::Array{Float64,2}\n",
    "\n",
    "    # get information from data -\n",
    "    T₁ = data[:T₁]\n",
    "    T₂ = data[:T₂]\n",
    "    Δt = data[:Δt]\n",
    "    Sₒ = data[:Sₒ]\n",
    "\n",
    "    # get information from model -\n",
    "    μ = model.μ\n",
    "    σ = model.σ\n",
    "\n",
    "    # setup the time range -\n",
    "    time_array = range(T₁,stop=T₂, step = Δt) |> collect\n",
    "    N = length(time_array)\n",
    "\n",
    "    # expectation -\n",
    "    variance_array = Array{Float64,2}(undef, N, 2)\n",
    "\n",
    "    # main loop -\n",
    "    for i ∈ 1:N\n",
    "\n",
    "        # get the time value -\n",
    "        h = time_array[i] - time_array[1]\n",
    "\n",
    "        # compute the expectation -\n",
    "        value = (Sₒ^2)*exp(2*μ*h)*(exp((σ^2)*h) - 1)\n",
    "\n",
    "        # capture -\n",
    "        variance_array[i,1] = h + time_array[1]\n",
    "        variance_array[i,2] = value\n",
    "    end\n",
    "   \n",
    "    # return -\n",
    "    return variance_array\n",
    "end"
   ]
  },
  {
   "cell_type": "code",
   "execution_count": 10,
   "id": "b0dfe4ab-3ed1-4733-9404-b72453c0e43b",
   "metadata": {
    "jupyter": {
     "source_hidden": true
    }
   },
   "outputs": [],
   "source": [
    "using Colors\n",
    "using StatsPlots\n",
    "# load colors -\n",
    "colors = Dict{Int64,RGB}()\n",
    "colors[1] = colorant\"#EE7733\";\n",
    "colors[2] = colorant\"#0077BB\";\n",
    "colors[3] = colorant\"#33BBEE\";\n",
    "colors[4] = colorant\"#EE3377\";\n",
    "colors[5] = colorant\"#CC3311\";\n",
    "colors[6] = colorant\"#009988\";\n",
    "colors[7] = colorant\"#BBBBBB\";"
   ]
  },
  {
   "cell_type": "code",
   "execution_count": 11,
   "id": "96d5235c-2244-42b0-896d-fb3201c4dcc5",
   "metadata": {},
   "outputs": [
    {
     "data": {
      "text/plain": [
       "generate_GBM_sim (generic function with 1 method)"
      ]
     },
     "execution_count": 11,
     "metadata": {},
     "output_type": "execute_result"
    }
   ],
   "source": [
    "function generate_GBM_sim(ticker::String, dataset::Dict{String, DataFrame}, parameters::DataFrame)\n",
    "    \n",
    "    df = dataset[ticker]\n",
    "    \n",
    "    μ̂ = filter(:ticker=> x-> x == ticker, parameters) |> x-> x[1,:drift]\n",
    "    σ̂ = filter(:ticker=> x-> x == ticker, parameters) |> x-> x[1,:volatility];\n",
    "\n",
    "    start_index = rand(1:(number_of_trading_days - T - 1))\n",
    "    stop_index = start_index + T\n",
    "\n",
    "    model = build(MyGeometricBrownianMotionEquityModel, (\n",
    "            μ = μ̂, σ = σ̂ ));\n",
    "\n",
    "    Sₒ = df[start_index, :volume_weighted_average_price];\n",
    "    T₁ = start_index*Δt\n",
    "    T₂ = stop_index*Δt\n",
    "    X = sample(model, (Sₒ = Sₒ, T₁ = T₁, T₂ = T₂, Δt = Δt), \n",
    "        number_of_paths = number_of_sample_paths);\n",
    "\n",
    "    expectation = 𝔼(model, (Sₒ = Sₒ, T₁ = T₁, T₂ = T₂, Δt = Δt));\n",
    "    variance = Var(model, (Sₒ = Sₒ, T₁ = T₁, T₂ = T₂, Δt = Δt));\n",
    "\n",
    "    L68 = expectation[:,2] .- sqrt.(variance[:,2])\n",
    "    U68 = expectation[:,2] .+ sqrt.(variance[:,2])\n",
    "    L95 = expectation[:,2] .- 1.96*sqrt.(variance[:,2])\n",
    "    U95 = expectation[:,2] .+ 1.96*sqrt.(variance[:,2])\n",
    "    L99 = expectation[:,2] .- 2.576*sqrt.(variance[:,2])\n",
    "    U99 = expectation[:,2] .+ 2.576*sqrt.(variance[:,2])\n",
    "\n",
    "    p = plot(expectation[:,1], expectation[:,2], ribbon=(expectation[:,2]-L68, U68-expectation[:,2]), \n",
    "    fillalpha=0.5, fillcolor=:blue, label=\"68% CI\")\n",
    "    plot!(expectation[:,1], expectation[:,2], ribbon=(expectation[:,2]-L95, U95-expectation[:,2]), \n",
    "        fillalpha=0.3, fillcolor=:green, label=\"95% CI\")\n",
    "    \n",
    "    plot!(expectation[:,1], expectation[:,2], ribbon=(expectation[:,2]-L99, U99-expectation[:,2]), \n",
    "        fillalpha=0.2, fillcolor=:orange, label=\"99% CI\")\n",
    "    \n",
    "    plot!(expectation[:,1], expectation[:,2], c=:black, lw=3, ls=:dash, label=\"Expectation\")\n",
    "    \n",
    "    plot!(X[:,1], df[start_index:stop_index, :volume_weighted_average_price], lw=4, c=:red, \n",
    "        label=\"Firm-$(ticker) actual\")\n",
    "    xlabel!(\"Time (years)\", fontsize=18)\n",
    "    ylabel!(\"Firm-$(ticker) VWAP (USD/share)\", fontsize=18)\n",
    "\n",
    "    savefig(p, joinpath(joinpath(pwd(), \"figs\"), \"GeometricBrownianMotionSim-$(ticker)-CHEME-5660-Fall-2023.pdf\"))\n",
    "\n",
    "end"
   ]
  },
  {
   "cell_type": "code",
   "execution_count": 12,
   "id": "a880ad30-b9ec-4b79-93fd-0689c8db3dc1",
   "metadata": {},
   "outputs": [
    {
     "data": {
      "text/plain": [
       "6-element Vector{String}:\n",
       " \"AMD\"\n",
       " \"AAPL\"\n",
       " \"MSFT\"\n",
       " \"IBM\"\n",
       " \"ADBE\"\n",
       " \"AMZN\""
      ]
     },
     "execution_count": 12,
     "metadata": {},
     "output_type": "execute_result"
    }
   ],
   "source": [
    "tech_portfolio = [\"AMD\", \"AAPL\", \"MSFT\", \"IBM\", \"ADBE\", \"AMZN\"]"
   ]
  },
  {
   "cell_type": "code",
   "execution_count": 13,
   "id": "f707d005-c89c-4503-9ab4-6dba7f7451a0",
   "metadata": {},
   "outputs": [],
   "source": [
    "for ticker in tech_portfolio\n",
    "    generate_GBM_sim(ticker, dataset, parameters)\n",
    "end"
   ]
  }
 ],
 "metadata": {
  "kernelspec": {
   "display_name": "Julia 1.9.2",
   "language": "julia",
   "name": "julia-1.9"
  },
  "language_info": {
   "file_extension": ".jl",
   "mimetype": "application/julia",
   "name": "julia",
   "version": "1.9.2"
  }
 },
 "nbformat": 4,
 "nbformat_minor": 5
}
